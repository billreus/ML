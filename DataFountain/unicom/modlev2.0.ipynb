{
 "cells": [
  {
   "cell_type": "code",
   "execution_count": 1,
   "metadata": {},
   "outputs": [
    {
     "name": "stderr",
     "output_type": "stream",
     "text": [
      "F:\\anaconda\\lib\\site-packages\\IPython\\core\\interactiveshell.py:2698: DtypeWarning: Columns (4,5,20,21) have mixed types. Specify dtype option on import or set low_memory=False.\n",
      "  interactivity=interactivity, compiler=compiler, result=result)\n",
      "F:\\anaconda\\lib\\site-packages\\IPython\\core\\interactiveshell.py:2698: DtypeWarning: Columns (4,5) have mixed types. Specify dtype option on import or set low_memory=False.\n",
      "  interactivity=interactivity, compiler=compiler, result=result)\n"
     ]
    }
   ],
   "source": [
    "import numpy as np\n",
    "\n",
    "import pandas as pd\n",
    "\n",
    "import seaborn as sns\n",
    "\n",
    "import matplotlib.pyplot as plt\n",
    "\n",
    "%matplotlib inline\n",
    "\n",
    "path = 'D:/CS/ML/DataFountain/unicom/'\n",
    "\n",
    "train = pd.read_csv('%s%s' %(path, 'train.csv'))#, low_memory=False\n",
    "\n",
    "test = pd.read_csv('%s%s' %(path, 'test.csv'))"
   ]
  },
  {
   "cell_type": "code",
   "execution_count": 2,
   "metadata": {},
   "outputs": [
    {
     "name": "stderr",
     "output_type": "stream",
     "text": [
      "F:\\anaconda\\lib\\site-packages\\ipykernel_launcher.py:1: DeprecationWarning: numpy.core.umath_tests is an internal NumPy module and should not be imported. It will be removed in a future NumPy release.\n",
      "  \"\"\"Entry point for launching an IPython kernel.\n"
     ]
    }
   ],
   "source": [
    "from numpy.core.umath_tests import inner1d\n",
    "from sklearn.base import BaseEstimator, TransformerMixin, RegressorMixin, clone\n",
    "from sklearn.preprocessing import LabelEncoder, OneHotEncoder\n",
    "from scipy.stats import skew\n",
    "from sklearn.preprocessing import RobustScaler\n",
    "\n",
    "from sklearn.model_selection import cross_val_score, GridSearchCV, KFold\n",
    "from sklearn.linear_model import LinearRegression, LogisticRegression\n",
    "from sklearn.linear_model import Ridge\n",
    "from sklearn.linear_model import Lasso\n",
    "from sklearn.ensemble import RandomForestRegressor, GradientBoostingRegressor, ExtraTreesRegressor\n",
    "from sklearn.svm import LinearSVC\n",
    "from sklearn.linear_model import ElasticNet, SGDRegressor, BayesianRidge\n",
    "from sklearn.kernel_ridge import KernelRidge\n",
    "from xgboost import XGBRegressor"
   ]
  },
  {
   "cell_type": "code",
   "execution_count": 3,
   "metadata": {},
   "outputs": [],
   "source": [
    "from sklearn.svm import SVC\n",
    "from sklearn.ensemble import RandomForestClassifier, GradientBoostingClassifier, ExtraTreesClassifier\n",
    "from xgboost import XGBClassifier"
   ]
  },
  {
   "cell_type": "code",
   "execution_count": 4,
   "metadata": {},
   "outputs": [],
   "source": [
    "train['2_total_fee'] = train['2_total_fee'].replace('\\\\N', 0)\n",
    "train['3_total_fee'] = train['3_total_fee'].replace('\\\\N', 0)\n",
    "train['age'] = train['age'].replace('\\\\N', 0)\n",
    "train['gender'] = train['gender'].replace('\\\\N', 0)\n",
    "\n",
    "test['2_total_fee'] = test['2_total_fee'].replace('\\\\N', 0)\n",
    "test['3_total_fee'] = test['3_total_fee'].replace('\\\\N', 0)\n",
    "test['age'] = test['age'].replace('\\\\N', 0)\n",
    "test['gender'] = test['gender'].replace('\\\\N', 0)"
   ]
  },
  {
   "cell_type": "code",
   "execution_count": 5,
   "metadata": {},
   "outputs": [],
   "source": [
    "train['gender'] = train['gender'].apply(lambda x : int(x))\n",
    "test['gender'] = test['gender'].apply(lambda x : int(x))\n",
    "\n",
    "train['age'] = train['age'].apply(lambda x : int(x))\n",
    "test['age'] = test['age'].apply(lambda x : int(x))\n",
    "\n",
    "train['2_total_fee'] = train['2_total_fee'].apply(lambda x : float(x))\n",
    "test['2_total_fee'] = test['2_total_fee'].apply(lambda x : float(x))\n",
    "\n",
    "train['3_total_fee'] = train['3_total_fee'].apply(lambda x : float(x))\n",
    "test['3_total_fee'] = test['3_total_fee'].apply(lambda x : float(x))"
   ]
  },
  {
   "cell_type": "code",
   "execution_count": 6,
   "metadata": {},
   "outputs": [
    {
     "name": "stdout",
     "output_type": "stream",
     "text": [
      "<class 'pandas.core.frame.DataFrame'>\n",
      "RangeIndex: 612652 entries, 0 to 612651\n",
      "Data columns (total 27 columns):\n",
      "service_type              612652 non-null int64\n",
      "is_mix_service            612652 non-null int64\n",
      "online_time               612652 non-null int64\n",
      "1_total_fee               612652 non-null float64\n",
      "2_total_fee               612652 non-null float64\n",
      "3_total_fee               612652 non-null float64\n",
      "4_total_fee               612652 non-null float64\n",
      "month_traffic             612652 non-null float64\n",
      "many_over_bill            612652 non-null int64\n",
      "contract_type             612652 non-null int64\n",
      "contract_time             612652 non-null int64\n",
      "is_promise_low_consume    612652 non-null int64\n",
      "net_service               612652 non-null int64\n",
      "pay_times                 612652 non-null int64\n",
      "pay_num                   612652 non-null float64\n",
      "last_month_traffic        612652 non-null float64\n",
      "local_trafffic_month      612652 non-null float64\n",
      "local_caller_time         612652 non-null float64\n",
      "service1_caller_time      612652 non-null float64\n",
      "service2_caller_time      612652 non-null float64\n",
      "gender                    612652 non-null int64\n",
      "age                       612652 non-null int64\n",
      "complaint_level           612652 non-null int64\n",
      "former_complaint_num      612652 non-null int64\n",
      "former_complaint_fee      612652 non-null float64\n",
      "current_service           612652 non-null int64\n",
      "user_id                   612652 non-null object\n",
      "dtypes: float64(12), int64(14), object(1)\n",
      "memory usage: 126.2+ MB\n"
     ]
    }
   ],
   "source": [
    "train.info()"
   ]
  },
  {
   "cell_type": "code",
   "execution_count": 7,
   "metadata": {},
   "outputs": [
    {
     "name": "stdout",
     "output_type": "stream",
     "text": [
      "<class 'pandas.core.frame.DataFrame'>\n",
      "RangeIndex: 262565 entries, 0 to 262564\n",
      "Data columns (total 26 columns):\n",
      "service_type              262565 non-null int64\n",
      "is_mix_service            262565 non-null int64\n",
      "online_time               262565 non-null int64\n",
      "1_total_fee               262565 non-null float64\n",
      "2_total_fee               262565 non-null float64\n",
      "3_total_fee               262565 non-null float64\n",
      "4_total_fee               262565 non-null float64\n",
      "month_traffic             262565 non-null float64\n",
      "many_over_bill            262565 non-null int64\n",
      "contract_type             262565 non-null int64\n",
      "contract_time             262565 non-null int64\n",
      "is_promise_low_consume    262565 non-null int64\n",
      "net_service               262565 non-null int64\n",
      "pay_times                 262565 non-null int64\n",
      "pay_num                   262565 non-null float64\n",
      "last_month_traffic        262565 non-null float64\n",
      "local_trafffic_month      262565 non-null float64\n",
      "local_caller_time         262565 non-null float64\n",
      "service1_caller_time      262565 non-null float64\n",
      "service2_caller_time      262565 non-null float64\n",
      "gender                    262565 non-null int64\n",
      "age                       262565 non-null int64\n",
      "complaint_level           262565 non-null int64\n",
      "former_complaint_num      262565 non-null int64\n",
      "former_complaint_fee      262565 non-null int64\n",
      "user_id                   262565 non-null object\n",
      "dtypes: float64(11), int64(14), object(1)\n",
      "memory usage: 52.1+ MB\n"
     ]
    }
   ],
   "source": [
    "test.info()"
   ]
  },
  {
   "cell_type": "code",
   "execution_count": 8,
   "metadata": {},
   "outputs": [
    {
     "data": {
      "text/plain": [
       "(612652, 262565)"
      ]
     },
     "execution_count": 8,
     "metadata": {},
     "output_type": "execute_result"
    }
   ],
   "source": [
    "ntrain = train.shape[0]\n",
    "ntest = test.shape[0]\n",
    "ntrain,ntest"
   ]
  },
  {
   "cell_type": "code",
   "execution_count": 9,
   "metadata": {},
   "outputs": [],
   "source": [
    "#test['current_service'] = None\n",
    "train_copy = train.copy()\n",
    "\n",
    "train_copy.drop('current_service', axis = 1, inplace=True)\n",
    "\n",
    "train_test = pd.concat((train_copy, test)).reset_index(drop=True)\n",
    "\n",
    "train_test.drop('user_id', axis = 1, inplace=True)"
   ]
  },
  {
   "cell_type": "code",
   "execution_count": 10,
   "metadata": {},
   "outputs": [],
   "source": [
    "label = train.pop('current_service')\n",
    "le = LabelEncoder()\n",
    "train_y = le.fit_transform(label)"
   ]
  },
  {
   "cell_type": "code",
   "execution_count": 11,
   "metadata": {},
   "outputs": [
    {
     "data": {
      "text/plain": [
       "array([10,  6,  7, ..., 13,  5,  2], dtype=int64)"
      ]
     },
     "execution_count": 11,
     "metadata": {},
     "output_type": "execute_result"
    }
   ],
   "source": [
    "train_y"
   ]
  },
  {
   "cell_type": "code",
   "execution_count": 12,
   "metadata": {},
   "outputs": [
    {
     "name": "stdout",
     "output_type": "stream",
     "text": [
      "<class 'pandas.core.frame.DataFrame'>\n",
      "RangeIndex: 875217 entries, 0 to 875216\n",
      "Data columns (total 25 columns):\n",
      "service_type              875217 non-null object\n",
      "is_mix_service            875217 non-null object\n",
      "online_time               875217 non-null int64\n",
      "1_total_fee               875217 non-null float64\n",
      "2_total_fee               875217 non-null float64\n",
      "3_total_fee               875217 non-null float64\n",
      "4_total_fee               875217 non-null float64\n",
      "month_traffic             875217 non-null float64\n",
      "many_over_bill            875217 non-null object\n",
      "contract_type             875217 non-null object\n",
      "contract_time             875217 non-null int64\n",
      "is_promise_low_consume    875217 non-null object\n",
      "net_service               875217 non-null object\n",
      "pay_times                 875217 non-null int64\n",
      "pay_num                   875217 non-null float64\n",
      "last_month_traffic        875217 non-null float64\n",
      "local_trafffic_month      875217 non-null float64\n",
      "local_caller_time         875217 non-null float64\n",
      "service1_caller_time      875217 non-null float64\n",
      "service2_caller_time      875217 non-null float64\n",
      "gender                    875217 non-null object\n",
      "age                       875217 non-null int64\n",
      "complaint_level           875217 non-null object\n",
      "former_complaint_num      875217 non-null int64\n",
      "former_complaint_fee      875217 non-null float64\n",
      "dtypes: float64(12), int64(5), object(8)\n",
      "memory usage: 166.9+ MB\n"
     ]
    }
   ],
   "source": [
    "train_test['service_type'] = train_test['service_type'].astype(str)\n",
    "train_test['is_mix_service'] = train_test['is_mix_service'].astype(str)\n",
    "train_test['many_over_bill'] = train_test['many_over_bill'].astype(str)\n",
    "train_test['contract_type'] = train_test['contract_type'].astype(str)\n",
    "train_test['is_promise_low_consume'] = train_test['is_promise_low_consume'].astype(str)\n",
    "train_test['net_service'] = train_test['net_service'].astype(str)\n",
    "train_test['complaint_level'] = train_test['complaint_level'].astype(str)\n",
    "train_test['gender'] = train_test['gender'].astype(str)\n",
    "\n",
    "train_test.info()"
   ]
  },
  {
   "cell_type": "code",
   "execution_count": 13,
   "metadata": {},
   "outputs": [],
   "source": [
    "train_test = pd.get_dummies(train_test)"
   ]
  },
  {
   "cell_type": "code",
   "execution_count": 14,
   "metadata": {},
   "outputs": [],
   "source": [
    "train_X = train_test[:ntrain]\n",
    "test_X = train_test[ntrain:]"
   ]
  },
  {
   "cell_type": "code",
   "execution_count": 15,
   "metadata": {},
   "outputs": [],
   "source": [
    "# 线性模型需要用标准化的数据建模\n",
    "\n",
    "from sklearn.preprocessing import RobustScaler\n",
    "ss2 = RobustScaler()\n",
    "ss2.fit(train_X)\n",
    "train_X_sd = ss2.transform(train_X)\n",
    "test_X_sd = ss2.transform(test_X)"
   ]
  },
  {
   "cell_type": "markdown",
   "metadata": {},
   "source": [
    "### 模型"
   ]
  },
  {
   "cell_type": "code",
   "execution_count": 16,
   "metadata": {},
   "outputs": [],
   "source": [
    "def model_cv(model, x, y):\n",
    "    score = cross_val_score(model, x, y,cv=5)\n",
    "    return score"
   ]
  },
  {
   "cell_type": "code",
   "execution_count": 17,
   "metadata": {},
   "outputs": [],
   "source": [
    "models = [LogisticRegression()]\n",
    "\n",
    "# , Ridge(), Lasso(), RandomForestClassifier(), SVC(), GradientBoostingClassifier(), XGBClassifier()"
   ]
  },
  {
   "cell_type": "code",
   "execution_count": 111,
   "metadata": {},
   "outputs": [
    {
     "name": "stdout",
     "output_type": "stream",
     "text": [
      "LR: 0.449605, 0.1268\n"
     ]
    }
   ],
   "source": [
    "names = ['LR']\n",
    "\n",
    "#, 'Ridge', 'Lasso', 'RF', 'SVC', 'GBC', 'XGB'\n",
    "for name, model in zip(names, models):\n",
    "    Score = model_cv(model, train_X_sd,train_y)\n",
    "    print(\"{}: {:.6f}, {:.4f}\".format(name,Score.mean(),Score.std()))"
   ]
  },
  {
   "cell_type": "code",
   "execution_count": 112,
   "metadata": {},
   "outputs": [
    {
     "name": "stdout",
     "output_type": "stream",
     "text": [
      "rf: 0.913125, 0.0004\n"
     ]
    }
   ],
   "source": [
    "models = [RandomForestClassifier()]\n",
    "names = ['rf']\n",
    "\n",
    "#, 'Ridge', 'Lasso', 'RF', 'SVC', 'GBC', 'XGB'\n",
    "for name, model in zip(names, models):\n",
    "    Score = model_cv(model, train_X_sd,train_y)\n",
    "    print(\"{}: {:.6f}, {:.4f}\".format(name,Score.mean(),Score.std()))"
   ]
  },
  {
   "cell_type": "code",
   "execution_count": 115,
   "metadata": {},
   "outputs": [
    {
     "name": "stderr",
     "output_type": "stream",
     "text": [
      "F:\\anaconda\\lib\\site-packages\\sklearn\\preprocessing\\label.py:151: DeprecationWarning: The truth value of an empty array is ambiguous. Returning False, but in future this will result in an error. Use `array.size > 0` to check that an array is not empty.\n",
      "  if diff:\n"
     ]
    }
   ],
   "source": [
    "rf_model = RandomForestClassifier()\n",
    "rf_model.fit(train_X, train_y)\n",
    "\n",
    "pred = rf_model.predict(test_X)\n",
    "pred = le.inverse_transform(pred)\n",
    "test['predict'] = pred\n",
    "test[['user_id', 'predict']].to_csv('./result/rf.csv', index=False)"
   ]
  },
  {
   "cell_type": "code",
   "execution_count": null,
   "metadata": {},
   "outputs": [],
   "source": [
    "sv_model = LinearSVC()\n",
    "sv_model.fit(train_X, train_y)\n",
    "\n",
    "pred = rf_model.predict(test_X)\n",
    "pred = le.inverse_transform(pred)\n",
    "test['predict'] = pred\n",
    "test[['user_id', 'predict']].to_csv('./result/svc.csv', index=False)"
   ]
  },
  {
   "cell_type": "code",
   "execution_count": 17,
   "metadata": {},
   "outputs": [
    {
     "name": "stderr",
     "output_type": "stream",
     "text": [
      "F:\\anaconda\\lib\\site-packages\\sklearn\\preprocessing\\label.py:151: DeprecationWarning: The truth value of an empty array is ambiguous. Returning False, but in future this will result in an error. Use `array.size > 0` to check that an array is not empty.\n",
      "  if diff:\n"
     ]
    }
   ],
   "source": [
    "GBDT_model = GradientBoostingClassifier()\n",
    "GBDT_model.fit(train_X, train_y)\n",
    "\n",
    "pred = GBDT_model.predict(test_X)\n",
    "pred = le.inverse_transform(pred)\n",
    "test['predict'] = pred\n",
    "test[['user_id', 'predict']].to_csv('./result/GBDT.csv', index=False)"
   ]
  },
  {
   "cell_type": "code",
   "execution_count": 18,
   "metadata": {},
   "outputs": [
    {
     "name": "stderr",
     "output_type": "stream",
     "text": [
      "F:\\anaconda\\lib\\site-packages\\sklearn\\preprocessing\\label.py:151: DeprecationWarning: The truth value of an empty array is ambiguous. Returning False, but in future this will result in an error. Use `array.size > 0` to check that an array is not empty.\n",
      "  if diff:\n",
      "F:\\anaconda\\lib\\site-packages\\sklearn\\preprocessing\\label.py:151: DeprecationWarning: The truth value of an empty array is ambiguous. Returning False, but in future this will result in an error. Use `array.size > 0` to check that an array is not empty.\n",
      "  if diff:\n"
     ]
    }
   ],
   "source": [
    "import lightgbm as lgb\n",
    "clf = lgb.LGBMClassifier(\n",
    "                bjective='multiclass',\n",
    "                boosting_type='gbdt',\n",
    "                num_leaves=35,\n",
    "                max_depth=8,\n",
    "                learning_rate=0.05,\n",
    "                seed=2018,\n",
    "                colsample_bytree=0.8,\n",
    "                subsample=0.9,\n",
    "                n_estimators=2000)\n",
    "clf.fit(train_X, train_y)\n",
    "pred = clf.predict(test_X)\n",
    "pred = le.inverse_transform(pred)\n",
    "test['predict'] = pred\n",
    "test[['user_id', 'predict']].to_csv('./result/clf.csv', index=False)"
   ]
  },
  {
   "cell_type": "code",
   "execution_count": null,
   "metadata": {},
   "outputs": [],
   "source": [
    "clf = XGBClassifier(max_depth=12, learning_rate=0.05,\n",
    "                            n_estimators=752, silent=True,\n",
    "                            objective=\"multi:softmax\",\n",
    "                            nthread=4, gamma=0,\n",
    "                            max_delta_step=0, subsample=1, colsample_bytree=0.9, colsample_bylevel=0.9,\n",
    "                            reg_alpha=1, reg_lambda=1, scale_pos_weight=1,\n",
    "                            base_score=0.5, seed=2018, missing=None,num_class=15)\n",
    "clf.fit(train_X, train_y)\n",
    "pred = clf.predict(test_X)\n",
    "pred = le.inverse_transform(pred)\n",
    "test['predict'] = pred\n",
    "test[['user_id', 'predict']].to_csv('./result/xgbst.csv', index=False)"
   ]
  },
  {
   "cell_type": "code",
   "execution_count": null,
   "metadata": {},
   "outputs": [],
   "source": []
  }
 ],
 "metadata": {
  "kernelspec": {
   "display_name": "Python 3",
   "language": "python",
   "name": "python3"
  },
  "language_info": {
   "codemirror_mode": {
    "name": "ipython",
    "version": 3
   },
   "file_extension": ".py",
   "mimetype": "text/x-python",
   "name": "python",
   "nbconvert_exporter": "python",
   "pygments_lexer": "ipython3",
   "version": "3.6.3"
  }
 },
 "nbformat": 4,
 "nbformat_minor": 2
}
