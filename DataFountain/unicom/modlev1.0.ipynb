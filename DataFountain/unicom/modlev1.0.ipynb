{
 "cells": [
  {
   "cell_type": "code",
   "execution_count": 2,
   "metadata": {},
   "outputs": [
    {
     "name": "stderr",
     "output_type": "stream",
     "text": [
      "F:\\anaconda\\lib\\site-packages\\IPython\\core\\interactiveshell.py:2698: DtypeWarning: Columns (4,5,20,21) have mixed types. Specify dtype option on import or set low_memory=False.\n",
      "  interactivity=interactivity, compiler=compiler, result=result)\n",
      "F:\\anaconda\\lib\\site-packages\\IPython\\core\\interactiveshell.py:2698: DtypeWarning: Columns (4,5) have mixed types. Specify dtype option on import or set low_memory=False.\n",
      "  interactivity=interactivity, compiler=compiler, result=result)\n"
     ]
    }
   ],
   "source": [
    "import numpy as np\n",
    "\n",
    "import pandas as pd\n",
    "\n",
    "import seaborn as sns\n",
    "\n",
    "import matplotlib.pyplot as plt\n",
    "\n",
    "import warnings\n",
    "\n",
    "%matplotlib inline\n",
    "\n",
    "path = 'D:/CS/ML/DataFountain/unicom/'\n",
    "\n",
    "train = pd.read_csv('%s%s' %(path, 'train_all.csv'))#, low_memory=False\n",
    "\n",
    "test = pd.read_csv('%s%s' %(path, 'republish_test.csv'))\n",
    "\n",
    "warnings.filterwarnings('ignore')"
   ]
  },
  {
   "cell_type": "code",
   "execution_count": 3,
   "metadata": {},
   "outputs": [],
   "source": [
    "from numpy.core.umath_tests import inner1d\n",
    "from sklearn.base import BaseEstimator, TransformerMixin, RegressorMixin, clone\n",
    "from sklearn.preprocessing import LabelEncoder, OneHotEncoder\n",
    "from scipy.stats import skew\n",
    "from sklearn.preprocessing import RobustScaler\n",
    "\n",
    "from sklearn.model_selection import cross_val_score, GridSearchCV, KFold\n",
    "from sklearn.linear_model import LinearRegression\n",
    "from sklearn.linear_model import Ridge\n",
    "from sklearn.linear_model import Lasso\n",
    "from sklearn.ensemble import RandomForestRegressor, GradientBoostingRegressor, ExtraTreesRegressor\n",
    "from sklearn.svm import SVR, LinearSVR\n",
    "from sklearn.linear_model import ElasticNet, SGDRegressor, BayesianRidge\n",
    "from sklearn.kernel_ridge import KernelRidge\n",
    "from xgboost import XGBRegressor"
   ]
  },
  {
   "cell_type": "code",
   "execution_count": 4,
   "metadata": {},
   "outputs": [],
   "source": [
    "train['2_total_fee'] = train['2_total_fee'].replace('\\\\N', 0)\n",
    "train['3_total_fee'] = train['3_total_fee'].replace('\\\\N', 0)\n",
    "train['age'] = train['age'].replace('\\\\N', 0)\n",
    "train['gender'] = train['gender'].replace('\\\\N', 0)\n",
    "\n",
    "test['2_total_fee'] = test['2_total_fee'].replace('\\\\N', 0)\n",
    "test['3_total_fee'] = test['3_total_fee'].replace('\\\\N', 0)\n",
    "test['age'] = test['age'].replace('\\\\N', 0)\n",
    "test['gender'] = test['gender'].replace('\\\\N', 0)\n",
    "\n",
    "train['gender'] = train['gender'].apply(lambda x : int(x))\n",
    "test['gender'] = test['gender'].apply(lambda x : int(x))\n",
    "\n",
    "train['age'] = train['age'].apply(lambda x : int(x))\n",
    "test['age'] = test['age'].apply(lambda x : int(x))\n",
    "\n",
    "train['2_total_fee'] = train['2_total_fee'].apply(lambda x : float(x))\n",
    "test['2_total_fee'] = test['2_total_fee'].apply(lambda x : float(x))\n",
    "\n",
    "train['3_total_fee'] = train['3_total_fee'].apply(lambda x : float(x))\n",
    "test['3_total_fee'] = test['3_total_fee'].apply(lambda x : float(x))"
   ]
  },
  {
   "cell_type": "code",
   "execution_count": 5,
   "metadata": {},
   "outputs": [
    {
     "data": {
      "text/html": [
       "<div>\n",
       "<style scoped>\n",
       "    .dataframe tbody tr th:only-of-type {\n",
       "        vertical-align: middle;\n",
       "    }\n",
       "\n",
       "    .dataframe tbody tr th {\n",
       "        vertical-align: top;\n",
       "    }\n",
       "\n",
       "    .dataframe thead th {\n",
       "        text-align: right;\n",
       "    }\n",
       "</style>\n",
       "<table border=\"1\" class=\"dataframe\">\n",
       "  <thead>\n",
       "    <tr style=\"text-align: right;\">\n",
       "      <th></th>\n",
       "      <th>service_type</th>\n",
       "      <th>is_mix_service</th>\n",
       "      <th>online_time</th>\n",
       "      <th>1_total_fee</th>\n",
       "      <th>2_total_fee</th>\n",
       "      <th>3_total_fee</th>\n",
       "      <th>4_total_fee</th>\n",
       "      <th>month_traffic</th>\n",
       "      <th>many_over_bill</th>\n",
       "      <th>contract_type</th>\n",
       "      <th>...</th>\n",
       "      <th>local_caller_time</th>\n",
       "      <th>service1_caller_time</th>\n",
       "      <th>service2_caller_time</th>\n",
       "      <th>gender</th>\n",
       "      <th>age</th>\n",
       "      <th>complaint_level</th>\n",
       "      <th>former_complaint_num</th>\n",
       "      <th>former_complaint_fee</th>\n",
       "      <th>current_service</th>\n",
       "      <th>user_id</th>\n",
       "    </tr>\n",
       "  </thead>\n",
       "  <tbody>\n",
       "    <tr>\n",
       "      <th>0</th>\n",
       "      <td>4</td>\n",
       "      <td>0</td>\n",
       "      <td>85</td>\n",
       "      <td>295.96</td>\n",
       "      <td>296.20</td>\n",
       "      <td>296.00</td>\n",
       "      <td>296.80</td>\n",
       "      <td>3813.614698</td>\n",
       "      <td>0</td>\n",
       "      <td>1</td>\n",
       "      <td>...</td>\n",
       "      <td>108.100000</td>\n",
       "      <td>0.000000</td>\n",
       "      <td>564.366667</td>\n",
       "      <td>1</td>\n",
       "      <td>31</td>\n",
       "      <td>0</td>\n",
       "      <td>0</td>\n",
       "      <td>0.0</td>\n",
       "      <td>99999825</td>\n",
       "      <td>Gx4sJzcQog01UhZL</td>\n",
       "    </tr>\n",
       "    <tr>\n",
       "      <th>1</th>\n",
       "      <td>1</td>\n",
       "      <td>0</td>\n",
       "      <td>10</td>\n",
       "      <td>265.20</td>\n",
       "      <td>261.20</td>\n",
       "      <td>208.50</td>\n",
       "      <td>174.50</td>\n",
       "      <td>0.000000</td>\n",
       "      <td>1</td>\n",
       "      <td>0</td>\n",
       "      <td>...</td>\n",
       "      <td>240.100000</td>\n",
       "      <td>355.166667</td>\n",
       "      <td>0.000000</td>\n",
       "      <td>1</td>\n",
       "      <td>30</td>\n",
       "      <td>0</td>\n",
       "      <td>0</td>\n",
       "      <td>0.0</td>\n",
       "      <td>90063345</td>\n",
       "      <td>kEXrhTiug93DIcLG</td>\n",
       "    </tr>\n",
       "    <tr>\n",
       "      <th>2</th>\n",
       "      <td>1</td>\n",
       "      <td>0</td>\n",
       "      <td>12</td>\n",
       "      <td>44.50</td>\n",
       "      <td>70.20</td>\n",
       "      <td>69.00</td>\n",
       "      <td>61.40</td>\n",
       "      <td>2598.397406</td>\n",
       "      <td>0</td>\n",
       "      <td>0</td>\n",
       "      <td>...</td>\n",
       "      <td>27.666667</td>\n",
       "      <td>0.000000</td>\n",
       "      <td>98.416667</td>\n",
       "      <td>2</td>\n",
       "      <td>25</td>\n",
       "      <td>0</td>\n",
       "      <td>0</td>\n",
       "      <td>0.0</td>\n",
       "      <td>90109916</td>\n",
       "      <td>AouXr0EOUtSRdiYK</td>\n",
       "    </tr>\n",
       "    <tr>\n",
       "      <th>3</th>\n",
       "      <td>4</td>\n",
       "      <td>0</td>\n",
       "      <td>134</td>\n",
       "      <td>87.95</td>\n",
       "      <td>81.40</td>\n",
       "      <td>76.00</td>\n",
       "      <td>88.30</td>\n",
       "      <td>988.440563</td>\n",
       "      <td>0</td>\n",
       "      <td>0</td>\n",
       "      <td>...</td>\n",
       "      <td>89.900000</td>\n",
       "      <td>74.483333</td>\n",
       "      <td>121.833333</td>\n",
       "      <td>1</td>\n",
       "      <td>44</td>\n",
       "      <td>0</td>\n",
       "      <td>0</td>\n",
       "      <td>0.0</td>\n",
       "      <td>89950166</td>\n",
       "      <td>Yds7U30hnRZDiLtb</td>\n",
       "    </tr>\n",
       "    <tr>\n",
       "      <th>4</th>\n",
       "      <td>4</td>\n",
       "      <td>0</td>\n",
       "      <td>84</td>\n",
       "      <td>317.04</td>\n",
       "      <td>314.08</td>\n",
       "      <td>435.51</td>\n",
       "      <td>413.05</td>\n",
       "      <td>5885.800642</td>\n",
       "      <td>0</td>\n",
       "      <td>1</td>\n",
       "      <td>...</td>\n",
       "      <td>0.000000</td>\n",
       "      <td>35.100000</td>\n",
       "      <td>496.733333</td>\n",
       "      <td>1</td>\n",
       "      <td>31</td>\n",
       "      <td>2</td>\n",
       "      <td>1</td>\n",
       "      <td>0.0</td>\n",
       "      <td>99999825</td>\n",
       "      <td>OFDTSXrhN9Q2mbVw</td>\n",
       "    </tr>\n",
       "    <tr>\n",
       "      <th>5</th>\n",
       "      <td>4</td>\n",
       "      <td>0</td>\n",
       "      <td>46</td>\n",
       "      <td>36.00</td>\n",
       "      <td>36.00</td>\n",
       "      <td>36.00</td>\n",
       "      <td>37.20</td>\n",
       "      <td>218.003452</td>\n",
       "      <td>0</td>\n",
       "      <td>3</td>\n",
       "      <td>...</td>\n",
       "      <td>14.633333</td>\n",
       "      <td>0.000000</td>\n",
       "      <td>14.633333</td>\n",
       "      <td>1</td>\n",
       "      <td>42</td>\n",
       "      <td>0</td>\n",
       "      <td>0</td>\n",
       "      <td>0.0</td>\n",
       "      <td>89950168</td>\n",
       "      <td>4qHSn3dkPzJTAjoG</td>\n",
       "    </tr>\n",
       "    <tr>\n",
       "      <th>6</th>\n",
       "      <td>1</td>\n",
       "      <td>0</td>\n",
       "      <td>12</td>\n",
       "      <td>33.60</td>\n",
       "      <td>32.70</td>\n",
       "      <td>38.70</td>\n",
       "      <td>45.70</td>\n",
       "      <td>0.000000</td>\n",
       "      <td>0</td>\n",
       "      <td>0</td>\n",
       "      <td>...</td>\n",
       "      <td>6.116667</td>\n",
       "      <td>136.033333</td>\n",
       "      <td>0.000000</td>\n",
       "      <td>1</td>\n",
       "      <td>27</td>\n",
       "      <td>0</td>\n",
       "      <td>0</td>\n",
       "      <td>0.0</td>\n",
       "      <td>90063345</td>\n",
       "      <td>tXkjbzpTsZcxYPKG</td>\n",
       "    </tr>\n",
       "    <tr>\n",
       "      <th>7</th>\n",
       "      <td>4</td>\n",
       "      <td>0</td>\n",
       "      <td>109</td>\n",
       "      <td>116.00</td>\n",
       "      <td>116.00</td>\n",
       "      <td>116.00</td>\n",
       "      <td>116.00</td>\n",
       "      <td>635.946276</td>\n",
       "      <td>0</td>\n",
       "      <td>9</td>\n",
       "      <td>...</td>\n",
       "      <td>250.883333</td>\n",
       "      <td>0.000000</td>\n",
       "      <td>310.733333</td>\n",
       "      <td>1</td>\n",
       "      <td>40</td>\n",
       "      <td>0</td>\n",
       "      <td>0</td>\n",
       "      <td>0.0</td>\n",
       "      <td>89950167</td>\n",
       "      <td>ro43b68MustgPyOR</td>\n",
       "    </tr>\n",
       "    <tr>\n",
       "      <th>8</th>\n",
       "      <td>4</td>\n",
       "      <td>0</td>\n",
       "      <td>30</td>\n",
       "      <td>73.95</td>\n",
       "      <td>91.42</td>\n",
       "      <td>66.00</td>\n",
       "      <td>65.95</td>\n",
       "      <td>230.273015</td>\n",
       "      <td>0</td>\n",
       "      <td>0</td>\n",
       "      <td>...</td>\n",
       "      <td>15.283333</td>\n",
       "      <td>41.900000</td>\n",
       "      <td>82.916667</td>\n",
       "      <td>1</td>\n",
       "      <td>43</td>\n",
       "      <td>1</td>\n",
       "      <td>2</td>\n",
       "      <td>0.0</td>\n",
       "      <td>89950168</td>\n",
       "      <td>18e2VC0IJ7SkcKzF</td>\n",
       "    </tr>\n",
       "    <tr>\n",
       "      <th>9</th>\n",
       "      <td>1</td>\n",
       "      <td>0</td>\n",
       "      <td>7</td>\n",
       "      <td>89.00</td>\n",
       "      <td>91.00</td>\n",
       "      <td>90.60</td>\n",
       "      <td>126.10</td>\n",
       "      <td>0.000000</td>\n",
       "      <td>1</td>\n",
       "      <td>0</td>\n",
       "      <td>...</td>\n",
       "      <td>33.733333</td>\n",
       "      <td>0.000000</td>\n",
       "      <td>101.833333</td>\n",
       "      <td>1</td>\n",
       "      <td>22</td>\n",
       "      <td>0</td>\n",
       "      <td>0</td>\n",
       "      <td>0.0</td>\n",
       "      <td>90155946</td>\n",
       "      <td>YCEo95zSZ08IJ3PW</td>\n",
       "    </tr>\n",
       "  </tbody>\n",
       "</table>\n",
       "<p>10 rows × 27 columns</p>\n",
       "</div>"
      ],
      "text/plain": [
       "   service_type  is_mix_service  online_time  1_total_fee  2_total_fee  \\\n",
       "0             4               0           85       295.96       296.20   \n",
       "1             1               0           10       265.20       261.20   \n",
       "2             1               0           12        44.50        70.20   \n",
       "3             4               0          134        87.95        81.40   \n",
       "4             4               0           84       317.04       314.08   \n",
       "5             4               0           46        36.00        36.00   \n",
       "6             1               0           12        33.60        32.70   \n",
       "7             4               0          109       116.00       116.00   \n",
       "8             4               0           30        73.95        91.42   \n",
       "9             1               0            7        89.00        91.00   \n",
       "\n",
       "   3_total_fee  4_total_fee  month_traffic  many_over_bill  contract_type  \\\n",
       "0       296.00       296.80    3813.614698               0              1   \n",
       "1       208.50       174.50       0.000000               1              0   \n",
       "2        69.00        61.40    2598.397406               0              0   \n",
       "3        76.00        88.30     988.440563               0              0   \n",
       "4       435.51       413.05    5885.800642               0              1   \n",
       "5        36.00        37.20     218.003452               0              3   \n",
       "6        38.70        45.70       0.000000               0              0   \n",
       "7       116.00       116.00     635.946276               0              9   \n",
       "8        66.00        65.95     230.273015               0              0   \n",
       "9        90.60       126.10       0.000000               1              0   \n",
       "\n",
       "         ...         local_caller_time  service1_caller_time  \\\n",
       "0        ...                108.100000              0.000000   \n",
       "1        ...                240.100000            355.166667   \n",
       "2        ...                 27.666667              0.000000   \n",
       "3        ...                 89.900000             74.483333   \n",
       "4        ...                  0.000000             35.100000   \n",
       "5        ...                 14.633333              0.000000   \n",
       "6        ...                  6.116667            136.033333   \n",
       "7        ...                250.883333              0.000000   \n",
       "8        ...                 15.283333             41.900000   \n",
       "9        ...                 33.733333              0.000000   \n",
       "\n",
       "   service2_caller_time  gender  age  complaint_level  former_complaint_num  \\\n",
       "0            564.366667       1   31                0                     0   \n",
       "1              0.000000       1   30                0                     0   \n",
       "2             98.416667       2   25                0                     0   \n",
       "3            121.833333       1   44                0                     0   \n",
       "4            496.733333       1   31                2                     1   \n",
       "5             14.633333       1   42                0                     0   \n",
       "6              0.000000       1   27                0                     0   \n",
       "7            310.733333       1   40                0                     0   \n",
       "8             82.916667       1   43                1                     2   \n",
       "9            101.833333       1   22                0                     0   \n",
       "\n",
       "   former_complaint_fee  current_service           user_id  \n",
       "0                   0.0         99999825  Gx4sJzcQog01UhZL  \n",
       "1                   0.0         90063345  kEXrhTiug93DIcLG  \n",
       "2                   0.0         90109916  AouXr0EOUtSRdiYK  \n",
       "3                   0.0         89950166  Yds7U30hnRZDiLtb  \n",
       "4                   0.0         99999825  OFDTSXrhN9Q2mbVw  \n",
       "5                   0.0         89950168  4qHSn3dkPzJTAjoG  \n",
       "6                   0.0         90063345  tXkjbzpTsZcxYPKG  \n",
       "7                   0.0         89950167  ro43b68MustgPyOR  \n",
       "8                   0.0         89950168  18e2VC0IJ7SkcKzF  \n",
       "9                   0.0         90155946  YCEo95zSZ08IJ3PW  \n",
       "\n",
       "[10 rows x 27 columns]"
      ]
     },
     "execution_count": 5,
     "metadata": {},
     "output_type": "execute_result"
    }
   ],
   "source": [
    "train.head(10)"
   ]
  },
  {
   "cell_type": "code",
   "execution_count": 6,
   "metadata": {},
   "outputs": [
    {
     "name": "stdout",
     "output_type": "stream",
     "text": [
      "<class 'pandas.core.frame.DataFrame'>\n",
      "RangeIndex: 743990 entries, 0 to 743989\n",
      "Data columns (total 27 columns):\n",
      "service_type              743990 non-null int64\n",
      "is_mix_service            743990 non-null int64\n",
      "online_time               743990 non-null int64\n",
      "1_total_fee               743990 non-null float64\n",
      "2_total_fee               743990 non-null float64\n",
      "3_total_fee               743990 non-null float64\n",
      "4_total_fee               743990 non-null float64\n",
      "month_traffic             743990 non-null float64\n",
      "many_over_bill            743990 non-null int64\n",
      "contract_type             743990 non-null int64\n",
      "contract_time             743990 non-null int64\n",
      "is_promise_low_consume    743990 non-null int64\n",
      "net_service               743990 non-null int64\n",
      "pay_times                 743990 non-null int64\n",
      "pay_num                   743990 non-null float64\n",
      "last_month_traffic        743990 non-null float64\n",
      "local_trafffic_month      743990 non-null float64\n",
      "local_caller_time         743990 non-null float64\n",
      "service1_caller_time      743990 non-null float64\n",
      "service2_caller_time      743990 non-null float64\n",
      "gender                    743990 non-null int64\n",
      "age                       743990 non-null int64\n",
      "complaint_level           743990 non-null int64\n",
      "former_complaint_num      743990 non-null int64\n",
      "former_complaint_fee      743990 non-null float64\n",
      "current_service           743990 non-null int64\n",
      "user_id                   743990 non-null object\n",
      "dtypes: float64(12), int64(14), object(1)\n",
      "memory usage: 153.3+ MB\n"
     ]
    }
   ],
   "source": [
    "train.info()"
   ]
  },
  {
   "cell_type": "code",
   "execution_count": 7,
   "metadata": {},
   "outputs": [],
   "source": [
    "label = train['current_service']\n",
    "le = LabelEncoder()\n",
    "train['current_service'] = le.fit_transform(label)"
   ]
  },
  {
   "cell_type": "code",
   "execution_count": 8,
   "metadata": {},
   "outputs": [
    {
     "data": {
      "text/plain": [
       "3     287219\n",
       "0     133224\n",
       "1      73842\n",
       "9      52939\n",
       "4      38096\n",
       "2      33462\n",
       "8      32531\n",
       "7      29054\n",
       "5      22037\n",
       "10     21236\n",
       "6      20350\n",
       "Name: current_service, dtype: int64"
      ]
     },
     "execution_count": 8,
     "metadata": {},
     "output_type": "execute_result"
    }
   ],
   "source": [
    "# 结果为11种套餐\n",
    "\n",
    "train['current_service'].value_counts()"
   ]
  },
  {
   "cell_type": "code",
   "execution_count": 9,
   "metadata": {},
   "outputs": [
    {
     "name": "stdout",
     "output_type": "stream",
     "text": [
      "<class 'pandas.core.frame.DataFrame'>\n",
      "RangeIndex: 200000 entries, 0 to 199999\n",
      "Data columns (total 26 columns):\n",
      "service_type              200000 non-null int64\n",
      "is_mix_service            200000 non-null int64\n",
      "online_time               200000 non-null int64\n",
      "1_total_fee               200000 non-null float64\n",
      "2_total_fee               200000 non-null float64\n",
      "3_total_fee               200000 non-null float64\n",
      "4_total_fee               200000 non-null float64\n",
      "month_traffic             200000 non-null float64\n",
      "many_over_bill            200000 non-null int64\n",
      "contract_type             200000 non-null int64\n",
      "contract_time             200000 non-null int64\n",
      "is_promise_low_consume    200000 non-null int64\n",
      "net_service               200000 non-null int64\n",
      "pay_times                 200000 non-null int64\n",
      "pay_num                   200000 non-null float64\n",
      "last_month_traffic        200000 non-null float64\n",
      "local_trafffic_month      200000 non-null float64\n",
      "local_caller_time         200000 non-null float64\n",
      "service1_caller_time      200000 non-null float64\n",
      "service2_caller_time      200000 non-null float64\n",
      "gender                    200000 non-null int64\n",
      "age                       200000 non-null int64\n",
      "complaint_level           200000 non-null int64\n",
      "former_complaint_num      200000 non-null int64\n",
      "former_complaint_fee      200000 non-null int64\n",
      "user_id                   200000 non-null object\n",
      "dtypes: float64(11), int64(14), object(1)\n",
      "memory usage: 39.7+ MB\n"
     ]
    }
   ],
   "source": [
    "test.info()"
   ]
  },
  {
   "cell_type": "code",
   "execution_count": 10,
   "metadata": {},
   "outputs": [
    {
     "data": {
      "text/html": [
       "<div>\n",
       "<style scoped>\n",
       "    .dataframe tbody tr th:only-of-type {\n",
       "        vertical-align: middle;\n",
       "    }\n",
       "\n",
       "    .dataframe tbody tr th {\n",
       "        vertical-align: top;\n",
       "    }\n",
       "\n",
       "    .dataframe thead th {\n",
       "        text-align: right;\n",
       "    }\n",
       "</style>\n",
       "<table border=\"1\" class=\"dataframe\">\n",
       "  <thead>\n",
       "    <tr style=\"text-align: right;\">\n",
       "      <th></th>\n",
       "      <th>service_type</th>\n",
       "      <th>is_mix_service</th>\n",
       "      <th>online_time</th>\n",
       "      <th>1_total_fee</th>\n",
       "      <th>2_total_fee</th>\n",
       "      <th>3_total_fee</th>\n",
       "      <th>4_total_fee</th>\n",
       "      <th>month_traffic</th>\n",
       "      <th>many_over_bill</th>\n",
       "      <th>contract_type</th>\n",
       "      <th>...</th>\n",
       "      <th>local_trafffic_month</th>\n",
       "      <th>local_caller_time</th>\n",
       "      <th>service1_caller_time</th>\n",
       "      <th>service2_caller_time</th>\n",
       "      <th>gender</th>\n",
       "      <th>age</th>\n",
       "      <th>complaint_level</th>\n",
       "      <th>former_complaint_num</th>\n",
       "      <th>former_complaint_fee</th>\n",
       "      <th>current_service</th>\n",
       "    </tr>\n",
       "  </thead>\n",
       "  <tbody>\n",
       "    <tr>\n",
       "      <th>service_type</th>\n",
       "      <td>1.000000</td>\n",
       "      <td>0.194112</td>\n",
       "      <td>0.645658</td>\n",
       "      <td>0.491592</td>\n",
       "      <td>0.468745</td>\n",
       "      <td>0.498032</td>\n",
       "      <td>0.483683</td>\n",
       "      <td>0.282067</td>\n",
       "      <td>-0.721089</td>\n",
       "      <td>0.515806</td>\n",
       "      <td>...</td>\n",
       "      <td>-0.396035</td>\n",
       "      <td>0.297043</td>\n",
       "      <td>-0.008630</td>\n",
       "      <td>0.452003</td>\n",
       "      <td>-0.000516</td>\n",
       "      <td>0.318498</td>\n",
       "      <td>0.159472</td>\n",
       "      <td>0.150176</td>\n",
       "      <td>-0.000352</td>\n",
       "      <td>0.058591</td>\n",
       "    </tr>\n",
       "    <tr>\n",
       "      <th>is_mix_service</th>\n",
       "      <td>0.194112</td>\n",
       "      <td>1.000000</td>\n",
       "      <td>0.114454</td>\n",
       "      <td>0.123006</td>\n",
       "      <td>0.114245</td>\n",
       "      <td>0.117411</td>\n",
       "      <td>0.110327</td>\n",
       "      <td>0.053814</td>\n",
       "      <td>-0.144535</td>\n",
       "      <td>0.081395</td>\n",
       "      <td>...</td>\n",
       "      <td>-0.070595</td>\n",
       "      <td>0.121656</td>\n",
       "      <td>-0.008572</td>\n",
       "      <td>0.150520</td>\n",
       "      <td>0.011007</td>\n",
       "      <td>0.062099</td>\n",
       "      <td>0.156184</td>\n",
       "      <td>0.145183</td>\n",
       "      <td>-0.000339</td>\n",
       "      <td>0.031283</td>\n",
       "    </tr>\n",
       "    <tr>\n",
       "      <th>online_time</th>\n",
       "      <td>0.645658</td>\n",
       "      <td>0.114454</td>\n",
       "      <td>1.000000</td>\n",
       "      <td>0.332226</td>\n",
       "      <td>0.317447</td>\n",
       "      <td>0.330061</td>\n",
       "      <td>0.333281</td>\n",
       "      <td>0.151242</td>\n",
       "      <td>-0.501236</td>\n",
       "      <td>0.299155</td>\n",
       "      <td>...</td>\n",
       "      <td>-0.264331</td>\n",
       "      <td>0.347926</td>\n",
       "      <td>0.042906</td>\n",
       "      <td>0.400364</td>\n",
       "      <td>-0.001730</td>\n",
       "      <td>0.470822</td>\n",
       "      <td>0.144574</td>\n",
       "      <td>0.133487</td>\n",
       "      <td>0.002047</td>\n",
       "      <td>0.082971</td>\n",
       "    </tr>\n",
       "    <tr>\n",
       "      <th>1_total_fee</th>\n",
       "      <td>0.491592</td>\n",
       "      <td>0.123006</td>\n",
       "      <td>0.332226</td>\n",
       "      <td>1.000000</td>\n",
       "      <td>0.838115</td>\n",
       "      <td>0.778964</td>\n",
       "      <td>0.800338</td>\n",
       "      <td>0.392187</td>\n",
       "      <td>-0.199745</td>\n",
       "      <td>0.144902</td>\n",
       "      <td>...</td>\n",
       "      <td>-0.075955</td>\n",
       "      <td>0.409200</td>\n",
       "      <td>0.274835</td>\n",
       "      <td>0.500754</td>\n",
       "      <td>-0.060429</td>\n",
       "      <td>0.059514</td>\n",
       "      <td>0.096969</td>\n",
       "      <td>0.090310</td>\n",
       "      <td>-0.000863</td>\n",
       "      <td>0.358525</td>\n",
       "    </tr>\n",
       "    <tr>\n",
       "      <th>2_total_fee</th>\n",
       "      <td>0.468745</td>\n",
       "      <td>0.114245</td>\n",
       "      <td>0.317447</td>\n",
       "      <td>0.838115</td>\n",
       "      <td>1.000000</td>\n",
       "      <td>0.802111</td>\n",
       "      <td>0.810588</td>\n",
       "      <td>0.354652</td>\n",
       "      <td>-0.174752</td>\n",
       "      <td>0.145891</td>\n",
       "      <td>...</td>\n",
       "      <td>-0.084484</td>\n",
       "      <td>0.382313</td>\n",
       "      <td>0.230652</td>\n",
       "      <td>0.484576</td>\n",
       "      <td>-0.061582</td>\n",
       "      <td>0.046569</td>\n",
       "      <td>0.100038</td>\n",
       "      <td>0.093449</td>\n",
       "      <td>-0.000611</td>\n",
       "      <td>0.347032</td>\n",
       "    </tr>\n",
       "  </tbody>\n",
       "</table>\n",
       "<p>5 rows × 26 columns</p>\n",
       "</div>"
      ],
      "text/plain": [
       "                service_type  is_mix_service  online_time  1_total_fee  \\\n",
       "service_type        1.000000        0.194112     0.645658     0.491592   \n",
       "is_mix_service      0.194112        1.000000     0.114454     0.123006   \n",
       "online_time         0.645658        0.114454     1.000000     0.332226   \n",
       "1_total_fee         0.491592        0.123006     0.332226     1.000000   \n",
       "2_total_fee         0.468745        0.114245     0.317447     0.838115   \n",
       "\n",
       "                2_total_fee  3_total_fee  4_total_fee  month_traffic  \\\n",
       "service_type       0.468745     0.498032     0.483683       0.282067   \n",
       "is_mix_service     0.114245     0.117411     0.110327       0.053814   \n",
       "online_time        0.317447     0.330061     0.333281       0.151242   \n",
       "1_total_fee        0.838115     0.778964     0.800338       0.392187   \n",
       "2_total_fee        1.000000     0.802111     0.810588       0.354652   \n",
       "\n",
       "                many_over_bill  contract_type       ...         \\\n",
       "service_type         -0.721089       0.515806       ...          \n",
       "is_mix_service       -0.144535       0.081395       ...          \n",
       "online_time          -0.501236       0.299155       ...          \n",
       "1_total_fee          -0.199745       0.144902       ...          \n",
       "2_total_fee          -0.174752       0.145891       ...          \n",
       "\n",
       "                local_trafffic_month  local_caller_time  service1_caller_time  \\\n",
       "service_type               -0.396035           0.297043             -0.008630   \n",
       "is_mix_service             -0.070595           0.121656             -0.008572   \n",
       "online_time                -0.264331           0.347926              0.042906   \n",
       "1_total_fee                -0.075955           0.409200              0.274835   \n",
       "2_total_fee                -0.084484           0.382313              0.230652   \n",
       "\n",
       "                service2_caller_time    gender       age  complaint_level  \\\n",
       "service_type                0.452003 -0.000516  0.318498         0.159472   \n",
       "is_mix_service              0.150520  0.011007  0.062099         0.156184   \n",
       "online_time                 0.400364 -0.001730  0.470822         0.144574   \n",
       "1_total_fee                 0.500754 -0.060429  0.059514         0.096969   \n",
       "2_total_fee                 0.484576 -0.061582  0.046569         0.100038   \n",
       "\n",
       "                former_complaint_num  former_complaint_fee  current_service  \n",
       "service_type                0.150176             -0.000352         0.058591  \n",
       "is_mix_service              0.145183             -0.000339         0.031283  \n",
       "online_time                 0.133487              0.002047         0.082971  \n",
       "1_total_fee                 0.090310             -0.000863         0.358525  \n",
       "2_total_fee                 0.093449             -0.000611         0.347032  \n",
       "\n",
       "[5 rows x 26 columns]"
      ]
     },
     "execution_count": 10,
     "metadata": {},
     "output_type": "execute_result"
    }
   ],
   "source": [
    "# 协方差（-1，1）之间\n",
    "\n",
    "train_corr = train.drop('user_id', axis=1).corr()\n",
    "\n",
    "train_corr.head(5)"
   ]
  },
  {
   "cell_type": "code",
   "execution_count": 11,
   "metadata": {},
   "outputs": [
    {
     "data": {
      "text/plain": [
       "current_service           1.000000\n",
       "1_total_fee               0.358525\n",
       "2_total_fee               0.347032\n",
       "4_total_fee               0.344028\n",
       "3_total_fee               0.339242\n",
       "service2_caller_time      0.316629\n",
       "local_caller_time         0.202679\n",
       "pay_num                   0.173940\n",
       "last_month_traffic        0.142622\n",
       "contract_time             0.134334\n",
       "month_traffic             0.113099\n",
       "online_time               0.082971\n",
       "service_type              0.058591\n",
       "pay_times                 0.057758\n",
       "is_promise_low_consume    0.043576\n",
       "complaint_level           0.039998\n",
       "former_complaint_num      0.037173\n",
       "service1_caller_time      0.036522\n",
       "net_service               0.033171\n",
       "is_mix_service            0.031283\n",
       "former_complaint_fee     -0.000969\n",
       "local_trafffic_month     -0.013414\n",
       "many_over_bill           -0.039001\n",
       "age                      -0.062090\n",
       "gender                   -0.090819\n",
       "Name: current_service, dtype: float64"
      ]
     },
     "execution_count": 11,
     "metadata": {},
     "output_type": "execute_result"
    }
   ],
   "source": [
    "cols = train_corr.nlargest(25, 'current_service')\n",
    "\n",
    "cols['current_service']"
   ]
  },
  {
   "cell_type": "markdown",
   "metadata": {},
   "source": [
    "### 套餐类型service_type\t17"
   ]
  },
  {
   "cell_type": "code",
   "execution_count": 13,
   "metadata": {},
   "outputs": [
    {
     "data": {
      "text/plain": [
       "4    396638\n",
       "1    347352\n",
       "Name: service_type, dtype: int64"
      ]
     },
     "execution_count": 13,
     "metadata": {},
     "output_type": "execute_result"
    }
   ],
   "source": [
    "# 4:4g 1:2I2C 3:3g  0和2好像没有\n",
    "train['service_type'].value_counts()"
   ]
  },
  {
   "cell_type": "code",
   "execution_count": 14,
   "metadata": {},
   "outputs": [
    {
     "data": {
      "text/plain": [
       "<matplotlib.axes._subplots.AxesSubplot at 0x1e0bb3c80f0>"
      ]
     },
     "execution_count": 14,
     "metadata": {},
     "output_type": "execute_result"
    },
    {
     "data": {
      "image/png": "[encoded data removed]",
      "text/plain": [
       "<Figure size 432x288 with 1 Axes>"
      ]
     },
     "metadata": {},
     "output_type": "display_data"
    }
   ],
   "source": [
    "sns.countplot('current_service', hue='service_type', data=train)"
   ]
  },
  {
   "cell_type": "code",
   "execution_count": 15,
   "metadata": {},
   "outputs": [
    {
     "data": {
      "text/plain": [
       "0     133224\n",
       "1      73842\n",
       "9      52939\n",
       "2      33462\n",
       "8      32531\n",
       "7      29054\n",
       "10     21236\n",
       "6      20350\n",
       "Name: current_service, dtype: int64"
      ]
     },
     "execution_count": 15,
     "metadata": {},
     "output_type": "execute_result"
    }
   ],
   "source": [
    "# 4g\n",
    "\n",
    "service_type4 = train[train['service_type'] == 4]\n",
    "service_type4['current_service'].value_counts()"
   ]
  },
  {
   "cell_type": "code",
   "execution_count": 16,
   "metadata": {},
   "outputs": [
    {
     "data": {
      "text/plain": [
       "3    287219\n",
       "4     38096\n",
       "5     22037\n",
       "Name: current_service, dtype: int64"
      ]
     },
     "execution_count": 16,
     "metadata": {},
     "output_type": "execute_result"
    }
   ],
   "source": [
    "# 2I2C\n",
    "\n",
    "service_type1 = train[train['service_type'] == 1]\n",
    "service_type1['current_service'].value_counts()"
   ]
  },
  {
   "cell_type": "markdown",
   "metadata": {},
   "source": [
    "考虑可以三个模型，放在一个函数里面。规则区分开进行判断"
   ]
  },
  {
   "cell_type": "markdown",
   "metadata": {},
   "source": [
    "### 是否固移融合套餐is_mix_service 1是0否"
   ]
  },
  {
   "cell_type": "code",
   "execution_count": 18,
   "metadata": {},
   "outputs": [
    {
     "data": {
      "text/plain": [
       "0    712752\n",
       "1     31238\n",
       "Name: is_mix_service, dtype: int64"
      ]
     },
     "execution_count": 18,
     "metadata": {},
     "output_type": "execute_result"
    }
   ],
   "source": [
    "train['is_mix_service'].value_counts()"
   ]
  },
  {
   "cell_type": "code",
   "execution_count": 19,
   "metadata": {},
   "outputs": [
    {
     "data": {
      "text/plain": [
       "<matplotlib.axes._subplots.AxesSubplot at 0x1e0d42a9780>"
      ]
     },
     "execution_count": 19,
     "metadata": {},
     "output_type": "execute_result"
    },
    {
     "data": {
      "image/png": "[encoded data removed]",
      "text/plain": [
       "<Figure size 432x288 with 1 Axes>"
      ]
     },
     "metadata": {},
     "output_type": "display_data"
    }
   ],
   "source": [
    "sns.countplot('current_service', hue='is_mix_service', data=train)"
   ]
  },
  {
   "cell_type": "code",
   "execution_count": 20,
   "metadata": {},
   "outputs": [
    {
     "data": {
      "text/plain": [
       "3     287138\n",
       "0     124388\n",
       "1      65951\n",
       "9      48074\n",
       "4      38063\n",
       "2      33361\n",
       "8      28620\n",
       "7      25908\n",
       "5      22017\n",
       "10     21230\n",
       "6      18002\n",
       "Name: current_service, dtype: int64"
      ]
     },
     "execution_count": 20,
     "metadata": {},
     "output_type": "execute_result"
    }
   ],
   "source": [
    "# 0 11种套餐都有\n",
    "\n",
    "is_mix_service0 = train[train['is_mix_service'] == 0]\n",
    "is_mix_service0['current_service'].value_counts()"
   ]
  },
  {
   "cell_type": "code",
   "execution_count": 21,
   "metadata": {},
   "outputs": [
    {
     "data": {
      "text/plain": [
       "0     8836\n",
       "1     7891\n",
       "9     4865\n",
       "8     3911\n",
       "7     3146\n",
       "6     2348\n",
       "2      101\n",
       "3       81\n",
       "4       33\n",
       "5       20\n",
       "10       6\n",
       "Name: current_service, dtype: int64"
      ]
     },
     "execution_count": 21,
     "metadata": {},
     "output_type": "execute_result"
    }
   ],
   "source": [
    "# 1 11种套餐都有\n",
    "\n",
    "is_mix_service1 = train[train['is_mix_service'] == 1]\n",
    "is_mix_service1['current_service'].value_counts()"
   ]
  },
  {
   "cell_type": "markdown",
   "metadata": {},
   "source": [
    "### 在网时长 online_time"
   ]
  },
  {
   "cell_type": "code",
   "execution_count": 22,
   "metadata": {},
   "outputs": [
    {
     "data": {
      "text/html": [
       "<div>\n",
       "<style scoped>\n",
       "    .dataframe tbody tr th:only-of-type {\n",
       "        vertical-align: middle;\n",
       "    }\n",
       "\n",
       "    .dataframe tbody tr th {\n",
       "        vertical-align: top;\n",
       "    }\n",
       "\n",
       "    .dataframe thead tr th {\n",
       "        text-align: left;\n",
       "    }\n",
       "\n",
       "    .dataframe thead tr:last-of-type th {\n",
       "        text-align: right;\n",
       "    }\n",
       "</style>\n",
       "<table border=\"1\" class=\"dataframe\">\n",
       "  <thead>\n",
       "    <tr>\n",
       "      <th></th>\n",
       "      <th colspan=\"5\" halign=\"left\">online_time</th>\n",
       "    </tr>\n",
       "    <tr>\n",
       "      <th></th>\n",
       "      <th>mean</th>\n",
       "      <th>median</th>\n",
       "      <th>count</th>\n",
       "      <th>max</th>\n",
       "      <th>min</th>\n",
       "    </tr>\n",
       "    <tr>\n",
       "      <th>current_service</th>\n",
       "      <th></th>\n",
       "      <th></th>\n",
       "      <th></th>\n",
       "      <th></th>\n",
       "      <th></th>\n",
       "    </tr>\n",
       "  </thead>\n",
       "  <tbody>\n",
       "    <tr>\n",
       "      <th>0</th>\n",
       "      <td>67.674233</td>\n",
       "      <td>58</td>\n",
       "      <td>133224</td>\n",
       "      <td>274</td>\n",
       "      <td>2</td>\n",
       "    </tr>\n",
       "    <tr>\n",
       "      <th>1</th>\n",
       "      <td>68.607852</td>\n",
       "      <td>62</td>\n",
       "      <td>73842</td>\n",
       "      <td>274</td>\n",
       "      <td>4</td>\n",
       "    </tr>\n",
       "    <tr>\n",
       "      <th>2</th>\n",
       "      <td>63.136334</td>\n",
       "      <td>45</td>\n",
       "      <td>33462</td>\n",
       "      <td>274</td>\n",
       "      <td>1</td>\n",
       "    </tr>\n",
       "    <tr>\n",
       "      <th>3</th>\n",
       "      <td>10.365310</td>\n",
       "      <td>10</td>\n",
       "      <td>287219</td>\n",
       "      <td>235</td>\n",
       "      <td>2</td>\n",
       "    </tr>\n",
       "    <tr>\n",
       "      <th>4</th>\n",
       "      <td>13.486455</td>\n",
       "      <td>12</td>\n",
       "      <td>38096</td>\n",
       "      <td>250</td>\n",
       "      <td>4</td>\n",
       "    </tr>\n",
       "    <tr>\n",
       "      <th>5</th>\n",
       "      <td>11.073967</td>\n",
       "      <td>10</td>\n",
       "      <td>22037</td>\n",
       "      <td>189</td>\n",
       "      <td>4</td>\n",
       "    </tr>\n",
       "    <tr>\n",
       "      <th>6</th>\n",
       "      <td>74.184570</td>\n",
       "      <td>74</td>\n",
       "      <td>20350</td>\n",
       "      <td>274</td>\n",
       "      <td>4</td>\n",
       "    </tr>\n",
       "    <tr>\n",
       "      <th>7</th>\n",
       "      <td>70.082846</td>\n",
       "      <td>68</td>\n",
       "      <td>29054</td>\n",
       "      <td>274</td>\n",
       "      <td>4</td>\n",
       "    </tr>\n",
       "    <tr>\n",
       "      <th>8</th>\n",
       "      <td>72.374935</td>\n",
       "      <td>69</td>\n",
       "      <td>32531</td>\n",
       "      <td>274</td>\n",
       "      <td>4</td>\n",
       "    </tr>\n",
       "    <tr>\n",
       "      <th>9</th>\n",
       "      <td>76.025331</td>\n",
       "      <td>68</td>\n",
       "      <td>52939</td>\n",
       "      <td>274</td>\n",
       "      <td>4</td>\n",
       "    </tr>\n",
       "    <tr>\n",
       "      <th>10</th>\n",
       "      <td>71.316962</td>\n",
       "      <td>60</td>\n",
       "      <td>21236</td>\n",
       "      <td>274</td>\n",
       "      <td>24</td>\n",
       "    </tr>\n",
       "  </tbody>\n",
       "</table>\n",
       "</div>"
      ],
      "text/plain": [
       "                online_time                        \n",
       "                       mean median   count  max min\n",
       "current_service                                    \n",
       "0                 67.674233     58  133224  274   2\n",
       "1                 68.607852     62   73842  274   4\n",
       "2                 63.136334     45   33462  274   1\n",
       "3                 10.365310     10  287219  235   2\n",
       "4                 13.486455     12   38096  250   4\n",
       "5                 11.073967     10   22037  189   4\n",
       "6                 74.184570     74   20350  274   4\n",
       "7                 70.082846     68   29054  274   4\n",
       "8                 72.374935     69   32531  274   4\n",
       "9                 76.025331     68   52939  274   4\n",
       "10                71.316962     60   21236  274  24"
      ]
     },
     "execution_count": 22,
     "metadata": {},
     "output_type": "execute_result"
    }
   ],
   "source": [
    "train.groupby(['current_service'])[['online_time']].agg(['mean','median','count', 'max', 'min'])"
   ]
  },
  {
   "cell_type": "code",
   "execution_count": 23,
   "metadata": {},
   "outputs": [
    {
     "data": {
      "text/plain": [
       "service_type              4325\n",
       "is_mix_service            4325\n",
       "online_time               4325\n",
       "1_total_fee               4325\n",
       "2_total_fee               4325\n",
       "3_total_fee               4325\n",
       "4_total_fee               4325\n",
       "month_traffic             4325\n",
       "many_over_bill            4325\n",
       "contract_type             4325\n",
       "contract_time             4325\n",
       "is_promise_low_consume    4325\n",
       "net_service               4325\n",
       "pay_times                 4325\n",
       "pay_num                   4325\n",
       "last_month_traffic        4325\n",
       "local_trafffic_month      4325\n",
       "local_caller_time         4325\n",
       "service1_caller_time      4325\n",
       "service2_caller_time      4325\n",
       "gender                    4325\n",
       "age                       4325\n",
       "complaint_level           4325\n",
       "former_complaint_num      4325\n",
       "former_complaint_fee      4325\n",
       "current_service           4325\n",
       "user_id                   4325\n",
       "dtype: int64"
      ]
     },
     "execution_count": 23,
     "metadata": {},
     "output_type": "execute_result"
    }
   ],
   "source": [
    "current_service0 = train[train['current_service'] == 0]\n",
    "erro0 = current_service0[current_service0['online_time'] > 180]\n",
    "erro0.count()"
   ]
  },
  {
   "cell_type": "code",
   "execution_count": 24,
   "metadata": {},
   "outputs": [
    {
     "data": {
      "text/plain": [
       "<matplotlib.axes._subplots.AxesSubplot at 0x1e0bb6b7da0>"
      ]
     },
     "execution_count": 24,
     "metadata": {},
     "output_type": "execute_result"
    },
    {
     "data": {
      "image/png": "[encoded data removed]",
      "text/plain": [
       "<Figure size 432x288 with 1 Axes>"
      ]
     },
     "metadata": {},
     "output_type": "display_data"
    }
   ],
   "source": [
    "sns.boxplot(train['current_service'], train['online_time'])"
   ]
  },
  {
   "cell_type": "markdown",
   "metadata": {},
   "source": [
    "### 当月总出账金额_ 月 1_total_fee"
   ]
  },
  {
   "cell_type": "code",
   "execution_count": 31,
   "metadata": {},
   "outputs": [
    {
     "data": {
      "text/html": [
       "<div>\n",
       "<style scoped>\n",
       "    .dataframe tbody tr th:only-of-type {\n",
       "        vertical-align: middle;\n",
       "    }\n",
       "\n",
       "    .dataframe tbody tr th {\n",
       "        vertical-align: top;\n",
       "    }\n",
       "\n",
       "    .dataframe thead tr th {\n",
       "        text-align: left;\n",
       "    }\n",
       "\n",
       "    .dataframe thead tr:last-of-type th {\n",
       "        text-align: right;\n",
       "    }\n",
       "</style>\n",
       "<table border=\"1\" class=\"dataframe\">\n",
       "  <thead>\n",
       "    <tr>\n",
       "      <th></th>\n",
       "      <th colspan=\"5\" halign=\"left\">1_total_fee</th>\n",
       "    </tr>\n",
       "    <tr>\n",
       "      <th></th>\n",
       "      <th>mean</th>\n",
       "      <th>median</th>\n",
       "      <th>count</th>\n",
       "      <th>min</th>\n",
       "      <th>max</th>\n",
       "    </tr>\n",
       "    <tr>\n",
       "      <th>current_service</th>\n",
       "      <th></th>\n",
       "      <th></th>\n",
       "      <th></th>\n",
       "      <th></th>\n",
       "      <th></th>\n",
       "    </tr>\n",
       "  </thead>\n",
       "  <tbody>\n",
       "    <tr>\n",
       "      <th>0</th>\n",
       "      <td>97.434988</td>\n",
       "      <td>79.45</td>\n",
       "      <td>133224</td>\n",
       "      <td>0.0</td>\n",
       "      <td>1745.10</td>\n",
       "    </tr>\n",
       "    <tr>\n",
       "      <th>1</th>\n",
       "      <td>138.294807</td>\n",
       "      <td>115.67</td>\n",
       "      <td>73841</td>\n",
       "      <td>0.0</td>\n",
       "      <td>2289.56</td>\n",
       "    </tr>\n",
       "    <tr>\n",
       "      <th>2</th>\n",
       "      <td>71.745083</td>\n",
       "      <td>56.10</td>\n",
       "      <td>33462</td>\n",
       "      <td>0.0</td>\n",
       "      <td>1360.60</td>\n",
       "    </tr>\n",
       "    <tr>\n",
       "      <th>3</th>\n",
       "      <td>56.066720</td>\n",
       "      <td>52.70</td>\n",
       "      <td>287219</td>\n",
       "      <td>0.0</td>\n",
       "      <td>582.39</td>\n",
       "    </tr>\n",
       "    <tr>\n",
       "      <th>4</th>\n",
       "      <td>49.498514</td>\n",
       "      <td>39.00</td>\n",
       "      <td>38096</td>\n",
       "      <td>0.0</td>\n",
       "      <td>676.60</td>\n",
       "    </tr>\n",
       "    <tr>\n",
       "      <th>5</th>\n",
       "      <td>93.024918</td>\n",
       "      <td>88.70</td>\n",
       "      <td>22037</td>\n",
       "      <td>0.0</td>\n",
       "      <td>636.50</td>\n",
       "    </tr>\n",
       "    <tr>\n",
       "      <th>6</th>\n",
       "      <td>343.071883</td>\n",
       "      <td>303.81</td>\n",
       "      <td>20347</td>\n",
       "      <td>0.0</td>\n",
       "      <td>2623.32</td>\n",
       "    </tr>\n",
       "    <tr>\n",
       "      <th>7</th>\n",
       "      <td>249.325789</td>\n",
       "      <td>211.10</td>\n",
       "      <td>29054</td>\n",
       "      <td>0.0</td>\n",
       "      <td>3046.00</td>\n",
       "    </tr>\n",
       "    <tr>\n",
       "      <th>8</th>\n",
       "      <td>212.595623</td>\n",
       "      <td>180.35</td>\n",
       "      <td>32531</td>\n",
       "      <td>0.0</td>\n",
       "      <td>2506.10</td>\n",
       "    </tr>\n",
       "    <tr>\n",
       "      <th>9</th>\n",
       "      <td>170.073363</td>\n",
       "      <td>144.30</td>\n",
       "      <td>52939</td>\n",
       "      <td>0.0</td>\n",
       "      <td>2838.66</td>\n",
       "    </tr>\n",
       "    <tr>\n",
       "      <th>10</th>\n",
       "      <td>120.653684</td>\n",
       "      <td>92.00</td>\n",
       "      <td>21236</td>\n",
       "      <td>0.0</td>\n",
       "      <td>1464.40</td>\n",
       "    </tr>\n",
       "  </tbody>\n",
       "</table>\n",
       "</div>"
      ],
      "text/plain": [
       "                1_total_fee                              \n",
       "                       mean  median   count  min      max\n",
       "current_service                                          \n",
       "0                 97.434988   79.45  133224  0.0  1745.10\n",
       "1                138.294807  115.67   73841  0.0  2289.56\n",
       "2                 71.745083   56.10   33462  0.0  1360.60\n",
       "3                 56.066720   52.70  287219  0.0   582.39\n",
       "4                 49.498514   39.00   38096  0.0   676.60\n",
       "5                 93.024918   88.70   22037  0.0   636.50\n",
       "6                343.071883  303.81   20347  0.0  2623.32\n",
       "7                249.325789  211.10   29054  0.0  3046.00\n",
       "8                212.595623  180.35   32531  0.0  2506.10\n",
       "9                170.073363  144.30   52939  0.0  2838.66\n",
       "10               120.653684   92.00   21236  0.0  1464.40"
      ]
     },
     "execution_count": 31,
     "metadata": {},
     "output_type": "execute_result"
    }
   ],
   "source": [
    "train.groupby(['current_service'])[['1_total_fee']].agg(['mean','median','count','min','max'])"
   ]
  },
  {
   "cell_type": "code",
   "execution_count": 30,
   "metadata": {},
   "outputs": [
    {
     "data": {
      "text/plain": [
       "<matplotlib.axes._subplots.AxesSubplot at 0x1e0bc9ecdd8>"
      ]
     },
     "execution_count": 30,
     "metadata": {},
     "output_type": "execute_result"
    },
    {
     "data": {
      "image/png": "[encoded data removed]",
      "text/plain": [
       "<Figure size 432x288 with 1 Axes>"
      ]
     },
     "metadata": {},
     "output_type": "display_data"
    }
   ],
   "source": [
    "train = train.drop(train[train['1_total_fee'] > 3100].index)\n",
    "sns.boxplot(train['current_service'], train['1_total_fee'])"
   ]
  },
  {
   "cell_type": "code",
   "execution_count": 32,
   "metadata": {},
   "outputs": [
    {
     "name": "stdout",
     "output_type": "stream",
     "text": [
      "<class 'pandas.core.frame.DataFrame'>\n",
      "Int64Index: 743986 entries, 0 to 743989\n",
      "Data columns (total 27 columns):\n",
      "service_type              743986 non-null int64\n",
      "is_mix_service            743986 non-null int64\n",
      "online_time               743986 non-null int64\n",
      "1_total_fee               743986 non-null float64\n",
      "2_total_fee               743986 non-null float64\n",
      "3_total_fee               743986 non-null float64\n",
      "4_total_fee               743986 non-null float64\n",
      "month_traffic             743986 non-null float64\n",
      "many_over_bill            743986 non-null int64\n",
      "contract_type             743986 non-null int64\n",
      "contract_time             743986 non-null int64\n",
      "is_promise_low_consume    743986 non-null int64\n",
      "net_service               743986 non-null int64\n",
      "pay_times                 743986 non-null int64\n",
      "pay_num                   743986 non-null float64\n",
      "last_month_traffic        743986 non-null float64\n",
      "local_trafffic_month      743986 non-null float64\n",
      "local_caller_time         743986 non-null float64\n",
      "service1_caller_time      743986 non-null float64\n",
      "service2_caller_time      743986 non-null float64\n",
      "gender                    743986 non-null int64\n",
      "age                       743986 non-null int64\n",
      "complaint_level           743986 non-null int64\n",
      "former_complaint_num      743986 non-null int64\n",
      "former_complaint_fee      743986 non-null float64\n",
      "current_service           743986 non-null int64\n",
      "user_id                   743986 non-null object\n",
      "dtypes: float64(12), int64(14), object(1)\n",
      "memory usage: 178.9+ MB\n"
     ]
    }
   ],
   "source": [
    "train.info()"
   ]
  },
  {
   "cell_type": "markdown",
   "metadata": {},
   "source": [
    "### 当月前1,2,3月总出账金额_月 2_total_fee 3,4"
   ]
  },
  {
   "cell_type": "code",
   "execution_count": 27,
   "metadata": {},
   "outputs": [
    {
     "data": {
      "text/html": [
       "<div>\n",
       "<style scoped>\n",
       "    .dataframe tbody tr th:only-of-type {\n",
       "        vertical-align: middle;\n",
       "    }\n",
       "\n",
       "    .dataframe tbody tr th {\n",
       "        vertical-align: top;\n",
       "    }\n",
       "\n",
       "    .dataframe thead tr th {\n",
       "        text-align: left;\n",
       "    }\n",
       "\n",
       "    .dataframe thead tr:last-of-type th {\n",
       "        text-align: right;\n",
       "    }\n",
       "</style>\n",
       "<table border=\"1\" class=\"dataframe\">\n",
       "  <thead>\n",
       "    <tr>\n",
       "      <th></th>\n",
       "      <th colspan=\"5\" halign=\"left\">2_total_fee</th>\n",
       "    </tr>\n",
       "    <tr>\n",
       "      <th></th>\n",
       "      <th>mean</th>\n",
       "      <th>median</th>\n",
       "      <th>count</th>\n",
       "      <th>min</th>\n",
       "      <th>max</th>\n",
       "    </tr>\n",
       "    <tr>\n",
       "      <th>current_service</th>\n",
       "      <th></th>\n",
       "      <th></th>\n",
       "      <th></th>\n",
       "      <th></th>\n",
       "      <th></th>\n",
       "    </tr>\n",
       "  </thead>\n",
       "  <tbody>\n",
       "    <tr>\n",
       "      <th>0</th>\n",
       "      <td>102.135408</td>\n",
       "      <td>81.00</td>\n",
       "      <td>133224</td>\n",
       "      <td>-287.30</td>\n",
       "      <td>1931.18</td>\n",
       "    </tr>\n",
       "    <tr>\n",
       "      <th>1</th>\n",
       "      <td>145.257549</td>\n",
       "      <td>120.00</td>\n",
       "      <td>73842</td>\n",
       "      <td>-114.45</td>\n",
       "      <td>3398.56</td>\n",
       "    </tr>\n",
       "    <tr>\n",
       "      <th>2</th>\n",
       "      <td>75.567011</td>\n",
       "      <td>56.00</td>\n",
       "      <td>33462</td>\n",
       "      <td>-43.40</td>\n",
       "      <td>1791.20</td>\n",
       "    </tr>\n",
       "    <tr>\n",
       "      <th>3</th>\n",
       "      <td>59.871436</td>\n",
       "      <td>55.10</td>\n",
       "      <td>287219</td>\n",
       "      <td>-0.09</td>\n",
       "      <td>797.50</td>\n",
       "    </tr>\n",
       "    <tr>\n",
       "      <th>4</th>\n",
       "      <td>54.438163</td>\n",
       "      <td>41.10</td>\n",
       "      <td>38096</td>\n",
       "      <td>-0.09</td>\n",
       "      <td>1207.63</td>\n",
       "    </tr>\n",
       "    <tr>\n",
       "      <th>5</th>\n",
       "      <td>99.494722</td>\n",
       "      <td>91.90</td>\n",
       "      <td>22037</td>\n",
       "      <td>-0.09</td>\n",
       "      <td>704.70</td>\n",
       "    </tr>\n",
       "    <tr>\n",
       "      <th>6</th>\n",
       "      <td>362.244814</td>\n",
       "      <td>311.00</td>\n",
       "      <td>20350</td>\n",
       "      <td>-0.07</td>\n",
       "      <td>3865.29</td>\n",
       "    </tr>\n",
       "    <tr>\n",
       "      <th>7</th>\n",
       "      <td>261.359297</td>\n",
       "      <td>218.74</td>\n",
       "      <td>29054</td>\n",
       "      <td>-0.07</td>\n",
       "      <td>3013.24</td>\n",
       "    </tr>\n",
       "    <tr>\n",
       "      <th>8</th>\n",
       "      <td>222.397722</td>\n",
       "      <td>186.05</td>\n",
       "      <td>32531</td>\n",
       "      <td>-0.09</td>\n",
       "      <td>5825.57</td>\n",
       "    </tr>\n",
       "    <tr>\n",
       "      <th>9</th>\n",
       "      <td>179.077360</td>\n",
       "      <td>150.00</td>\n",
       "      <td>52939</td>\n",
       "      <td>-0.09</td>\n",
       "      <td>3122.10</td>\n",
       "    </tr>\n",
       "    <tr>\n",
       "      <th>10</th>\n",
       "      <td>126.796996</td>\n",
       "      <td>98.20</td>\n",
       "      <td>21236</td>\n",
       "      <td>-79.00</td>\n",
       "      <td>1070.60</td>\n",
       "    </tr>\n",
       "  </tbody>\n",
       "</table>\n",
       "</div>"
      ],
      "text/plain": [
       "                2_total_fee                                 \n",
       "                       mean  median   count     min      max\n",
       "current_service                                             \n",
       "0                102.135408   81.00  133224 -287.30  1931.18\n",
       "1                145.257549  120.00   73842 -114.45  3398.56\n",
       "2                 75.567011   56.00   33462  -43.40  1791.20\n",
       "3                 59.871436   55.10  287219   -0.09   797.50\n",
       "4                 54.438163   41.10   38096   -0.09  1207.63\n",
       "5                 99.494722   91.90   22037   -0.09   704.70\n",
       "6                362.244814  311.00   20350   -0.07  3865.29\n",
       "7                261.359297  218.74   29054   -0.07  3013.24\n",
       "8                222.397722  186.05   32531   -0.09  5825.57\n",
       "9                179.077360  150.00   52939   -0.09  3122.10\n",
       "10               126.796996   98.20   21236  -79.00  1070.60"
      ]
     },
     "execution_count": 27,
     "metadata": {},
     "output_type": "execute_result"
    }
   ],
   "source": [
    "train.groupby(['current_service'])[['2_total_fee']].agg(['mean','median','count','min','max'])"
   ]
  },
  {
   "cell_type": "code",
   "execution_count": 33,
   "metadata": {},
   "outputs": [
    {
     "data": {
      "text/plain": [
       "<matplotlib.axes._subplots.AxesSubplot at 0x1e0bcdbeda0>"
      ]
     },
     "execution_count": 33,
     "metadata": {},
     "output_type": "execute_result"
    },
    {
     "data": {
      "image/png": "[encoded data removed]",
      "text/plain": [
       "<Figure size 432x288 with 1 Axes>"
      ]
     },
     "metadata": {},
     "output_type": "display_data"
    }
   ],
   "source": [
    "sns.boxplot(train['current_service'], train['2_total_fee'])"
   ]
  },
  {
   "cell_type": "code",
   "execution_count": 28,
   "metadata": {},
   "outputs": [
    {
     "data": {
      "text/html": [
       "<div>\n",
       "<style scoped>\n",
       "    .dataframe tbody tr th:only-of-type {\n",
       "        vertical-align: middle;\n",
       "    }\n",
       "\n",
       "    .dataframe tbody tr th {\n",
       "        vertical-align: top;\n",
       "    }\n",
       "\n",
       "    .dataframe thead tr th {\n",
       "        text-align: left;\n",
       "    }\n",
       "\n",
       "    .dataframe thead tr:last-of-type th {\n",
       "        text-align: right;\n",
       "    }\n",
       "</style>\n",
       "<table border=\"1\" class=\"dataframe\">\n",
       "  <thead>\n",
       "    <tr>\n",
       "      <th></th>\n",
       "      <th colspan=\"5\" halign=\"left\">3_total_fee</th>\n",
       "    </tr>\n",
       "    <tr>\n",
       "      <th></th>\n",
       "      <th>mean</th>\n",
       "      <th>median</th>\n",
       "      <th>count</th>\n",
       "      <th>min</th>\n",
       "      <th>max</th>\n",
       "    </tr>\n",
       "    <tr>\n",
       "      <th>current_service</th>\n",
       "      <th></th>\n",
       "      <th></th>\n",
       "      <th></th>\n",
       "      <th></th>\n",
       "      <th></th>\n",
       "    </tr>\n",
       "  </thead>\n",
       "  <tbody>\n",
       "    <tr>\n",
       "      <th>0</th>\n",
       "      <td>98.092146</td>\n",
       "      <td>77.97</td>\n",
       "      <td>133224</td>\n",
       "      <td>-119.06</td>\n",
       "      <td>2223.94</td>\n",
       "    </tr>\n",
       "    <tr>\n",
       "      <th>1</th>\n",
       "      <td>139.045113</td>\n",
       "      <td>115.93</td>\n",
       "      <td>73842</td>\n",
       "      <td>-276.03</td>\n",
       "      <td>3902.38</td>\n",
       "    </tr>\n",
       "    <tr>\n",
       "      <th>2</th>\n",
       "      <td>73.078502</td>\n",
       "      <td>56.00</td>\n",
       "      <td>33462</td>\n",
       "      <td>-36.02</td>\n",
       "      <td>3110.27</td>\n",
       "    </tr>\n",
       "    <tr>\n",
       "      <th>3</th>\n",
       "      <td>49.865494</td>\n",
       "      <td>47.40</td>\n",
       "      <td>287219</td>\n",
       "      <td>-0.09</td>\n",
       "      <td>729.00</td>\n",
       "    </tr>\n",
       "    <tr>\n",
       "      <th>4</th>\n",
       "      <td>51.560550</td>\n",
       "      <td>39.50</td>\n",
       "      <td>38096</td>\n",
       "      <td>-0.09</td>\n",
       "      <td>844.60</td>\n",
       "    </tr>\n",
       "    <tr>\n",
       "      <th>5</th>\n",
       "      <td>87.700762</td>\n",
       "      <td>86.30</td>\n",
       "      <td>22037</td>\n",
       "      <td>-0.09</td>\n",
       "      <td>563.50</td>\n",
       "    </tr>\n",
       "    <tr>\n",
       "      <th>6</th>\n",
       "      <td>345.939300</td>\n",
       "      <td>302.40</td>\n",
       "      <td>20350</td>\n",
       "      <td>-0.06</td>\n",
       "      <td>3620.09</td>\n",
       "    </tr>\n",
       "    <tr>\n",
       "      <th>7</th>\n",
       "      <td>245.240652</td>\n",
       "      <td>206.92</td>\n",
       "      <td>29054</td>\n",
       "      <td>-0.08</td>\n",
       "      <td>4669.99</td>\n",
       "    </tr>\n",
       "    <tr>\n",
       "      <th>8</th>\n",
       "      <td>208.839482</td>\n",
       "      <td>176.00</td>\n",
       "      <td>32531</td>\n",
       "      <td>0.00</td>\n",
       "      <td>7242.01</td>\n",
       "    </tr>\n",
       "    <tr>\n",
       "      <th>9</th>\n",
       "      <td>168.845555</td>\n",
       "      <td>142.00</td>\n",
       "      <td>52939</td>\n",
       "      <td>-0.05</td>\n",
       "      <td>3579.91</td>\n",
       "    </tr>\n",
       "    <tr>\n",
       "      <th>10</th>\n",
       "      <td>122.668727</td>\n",
       "      <td>94.85</td>\n",
       "      <td>21236</td>\n",
       "      <td>-24.26</td>\n",
       "      <td>1397.85</td>\n",
       "    </tr>\n",
       "  </tbody>\n",
       "</table>\n",
       "</div>"
      ],
      "text/plain": [
       "                3_total_fee                                 \n",
       "                       mean  median   count     min      max\n",
       "current_service                                             \n",
       "0                 98.092146   77.97  133224 -119.06  2223.94\n",
       "1                139.045113  115.93   73842 -276.03  3902.38\n",
       "2                 73.078502   56.00   33462  -36.02  3110.27\n",
       "3                 49.865494   47.40  287219   -0.09   729.00\n",
       "4                 51.560550   39.50   38096   -0.09   844.60\n",
       "5                 87.700762   86.30   22037   -0.09   563.50\n",
       "6                345.939300  302.40   20350   -0.06  3620.09\n",
       "7                245.240652  206.92   29054   -0.08  4669.99\n",
       "8                208.839482  176.00   32531    0.00  7242.01\n",
       "9                168.845555  142.00   52939   -0.05  3579.91\n",
       "10               122.668727   94.85   21236  -24.26  1397.85"
      ]
     },
     "execution_count": 28,
     "metadata": {},
     "output_type": "execute_result"
    }
   ],
   "source": [
    "train.groupby(['current_service'])[['3_total_fee']].agg(['mean','median','count','min','max'])"
   ]
  },
  {
   "cell_type": "code",
   "execution_count": 34,
   "metadata": {},
   "outputs": [
    {
     "data": {
      "text/plain": [
       "<matplotlib.axes._subplots.AxesSubplot at 0x1e0bd0e9128>"
      ]
     },
     "execution_count": 34,
     "metadata": {},
     "output_type": "execute_result"
    },
    {
     "data": {
      "image/png": "[encoded data removed]",
      "text/plain": [
       "<Figure size 432x288 with 1 Axes>"
      ]
     },
     "metadata": {},
     "output_type": "display_data"
    }
   ],
   "source": [
    "sns.boxplot(train['current_service'], train['3_total_fee'])"
   ]
  },
  {
   "cell_type": "code",
   "execution_count": 35,
   "metadata": {},
   "outputs": [
    {
     "data": {
      "text/html": [
       "<div>\n",
       "<style scoped>\n",
       "    .dataframe tbody tr th:only-of-type {\n",
       "        vertical-align: middle;\n",
       "    }\n",
       "\n",
       "    .dataframe tbody tr th {\n",
       "        vertical-align: top;\n",
       "    }\n",
       "\n",
       "    .dataframe thead tr th {\n",
       "        text-align: left;\n",
       "    }\n",
       "\n",
       "    .dataframe thead tr:last-of-type th {\n",
       "        text-align: right;\n",
       "    }\n",
       "</style>\n",
       "<table border=\"1\" class=\"dataframe\">\n",
       "  <thead>\n",
       "    <tr>\n",
       "      <th></th>\n",
       "      <th colspan=\"5\" halign=\"left\">4_total_fee</th>\n",
       "    </tr>\n",
       "    <tr>\n",
       "      <th></th>\n",
       "      <th>mean</th>\n",
       "      <th>median</th>\n",
       "      <th>count</th>\n",
       "      <th>min</th>\n",
       "      <th>max</th>\n",
       "    </tr>\n",
       "    <tr>\n",
       "      <th>current_service</th>\n",
       "      <th></th>\n",
       "      <th></th>\n",
       "      <th></th>\n",
       "      <th></th>\n",
       "      <th></th>\n",
       "    </tr>\n",
       "  </thead>\n",
       "  <tbody>\n",
       "    <tr>\n",
       "      <th>0</th>\n",
       "      <td>103.634584</td>\n",
       "      <td>81.40</td>\n",
       "      <td>133224</td>\n",
       "      <td>-28.20</td>\n",
       "      <td>2294.62</td>\n",
       "    </tr>\n",
       "    <tr>\n",
       "      <th>1</th>\n",
       "      <td>149.367831</td>\n",
       "      <td>122.93</td>\n",
       "      <td>73841</td>\n",
       "      <td>-65.35</td>\n",
       "      <td>2015.14</td>\n",
       "    </tr>\n",
       "    <tr>\n",
       "      <th>2</th>\n",
       "      <td>75.473471</td>\n",
       "      <td>56.00</td>\n",
       "      <td>33462</td>\n",
       "      <td>-17.70</td>\n",
       "      <td>1437.34</td>\n",
       "    </tr>\n",
       "    <tr>\n",
       "      <th>3</th>\n",
       "      <td>55.008001</td>\n",
       "      <td>52.10</td>\n",
       "      <td>287219</td>\n",
       "      <td>-1.80</td>\n",
       "      <td>773.36</td>\n",
       "    </tr>\n",
       "    <tr>\n",
       "      <th>4</th>\n",
       "      <td>56.292003</td>\n",
       "      <td>44.90</td>\n",
       "      <td>38096</td>\n",
       "      <td>-0.08</td>\n",
       "      <td>1230.60</td>\n",
       "    </tr>\n",
       "    <tr>\n",
       "      <th>5</th>\n",
       "      <td>96.500001</td>\n",
       "      <td>91.40</td>\n",
       "      <td>22037</td>\n",
       "      <td>-0.09</td>\n",
       "      <td>675.58</td>\n",
       "    </tr>\n",
       "    <tr>\n",
       "      <th>6</th>\n",
       "      <td>366.372999</td>\n",
       "      <td>314.06</td>\n",
       "      <td>20347</td>\n",
       "      <td>0.00</td>\n",
       "      <td>4823.91</td>\n",
       "    </tr>\n",
       "    <tr>\n",
       "      <th>7</th>\n",
       "      <td>265.450868</td>\n",
       "      <td>222.40</td>\n",
       "      <td>29054</td>\n",
       "      <td>-0.09</td>\n",
       "      <td>4049.16</td>\n",
       "    </tr>\n",
       "    <tr>\n",
       "      <th>8</th>\n",
       "      <td>227.191278</td>\n",
       "      <td>191.48</td>\n",
       "      <td>32531</td>\n",
       "      <td>-5.85</td>\n",
       "      <td>4469.10</td>\n",
       "    </tr>\n",
       "    <tr>\n",
       "      <th>9</th>\n",
       "      <td>184.070930</td>\n",
       "      <td>155.05</td>\n",
       "      <td>52939</td>\n",
       "      <td>-420.27</td>\n",
       "      <td>2809.66</td>\n",
       "    </tr>\n",
       "    <tr>\n",
       "      <th>10</th>\n",
       "      <td>130.342202</td>\n",
       "      <td>100.60</td>\n",
       "      <td>21236</td>\n",
       "      <td>-0.08</td>\n",
       "      <td>1795.00</td>\n",
       "    </tr>\n",
       "  </tbody>\n",
       "</table>\n",
       "</div>"
      ],
      "text/plain": [
       "                4_total_fee                                 \n",
       "                       mean  median   count     min      max\n",
       "current_service                                             \n",
       "0                103.634584   81.40  133224  -28.20  2294.62\n",
       "1                149.367831  122.93   73841  -65.35  2015.14\n",
       "2                 75.473471   56.00   33462  -17.70  1437.34\n",
       "3                 55.008001   52.10  287219   -1.80   773.36\n",
       "4                 56.292003   44.90   38096   -0.08  1230.60\n",
       "5                 96.500001   91.40   22037   -0.09   675.58\n",
       "6                366.372999  314.06   20347    0.00  4823.91\n",
       "7                265.450868  222.40   29054   -0.09  4049.16\n",
       "8                227.191278  191.48   32531   -5.85  4469.10\n",
       "9                184.070930  155.05   52939 -420.27  2809.66\n",
       "10               130.342202  100.60   21236   -0.08  1795.00"
      ]
     },
     "execution_count": 35,
     "metadata": {},
     "output_type": "execute_result"
    }
   ],
   "source": [
    "train.groupby(['current_service'])[['4_total_fee']].agg(['mean','median','count','min','max'])"
   ]
  },
  {
   "cell_type": "code",
   "execution_count": 36,
   "metadata": {},
   "outputs": [
    {
     "data": {
      "text/plain": [
       "<matplotlib.axes._subplots.AxesSubplot at 0x1e0be0b80f0>"
      ]
     },
     "execution_count": 36,
     "metadata": {},
     "output_type": "execute_result"
    },
    {
     "data": {
      "image/png": "[encoded data removed]",
      "text/plain": [
       "<Figure size 432x288 with 1 Axes>"
      ]
     },
     "metadata": {},
     "output_type": "display_data"
    }
   ],
   "source": [
    "sns.boxplot(train['current_service'], train['4_total_fee'])"
   ]
  },
  {
   "cell_type": "markdown",
   "metadata": {},
   "source": [
    "### 当月累计-流量 month_traffic"
   ]
  },
  {
   "cell_type": "code",
   "execution_count": 37,
   "metadata": {},
   "outputs": [
    {
     "data": {
      "text/html": [
       "<div>\n",
       "<style scoped>\n",
       "    .dataframe tbody tr th:only-of-type {\n",
       "        vertical-align: middle;\n",
       "    }\n",
       "\n",
       "    .dataframe tbody tr th {\n",
       "        vertical-align: top;\n",
       "    }\n",
       "\n",
       "    .dataframe thead tr th {\n",
       "        text-align: left;\n",
       "    }\n",
       "\n",
       "    .dataframe thead tr:last-of-type th {\n",
       "        text-align: right;\n",
       "    }\n",
       "</style>\n",
       "<table border=\"1\" class=\"dataframe\">\n",
       "  <thead>\n",
       "    <tr>\n",
       "      <th></th>\n",
       "      <th colspan=\"5\" halign=\"left\">month_traffic</th>\n",
       "    </tr>\n",
       "    <tr>\n",
       "      <th></th>\n",
       "      <th>mean</th>\n",
       "      <th>median</th>\n",
       "      <th>count</th>\n",
       "      <th>min</th>\n",
       "      <th>max</th>\n",
       "    </tr>\n",
       "    <tr>\n",
       "      <th>current_service</th>\n",
       "      <th></th>\n",
       "      <th></th>\n",
       "      <th></th>\n",
       "      <th></th>\n",
       "      <th></th>\n",
       "    </tr>\n",
       "  </thead>\n",
       "  <tbody>\n",
       "    <tr>\n",
       "      <th>0</th>\n",
       "      <td>1701.711557</td>\n",
       "      <td>993.489584</td>\n",
       "      <td>133224</td>\n",
       "      <td>0.0</td>\n",
       "      <td>159057.397800</td>\n",
       "    </tr>\n",
       "    <tr>\n",
       "      <th>1</th>\n",
       "      <td>1963.255052</td>\n",
       "      <td>1154.333007</td>\n",
       "      <td>73841</td>\n",
       "      <td>0.0</td>\n",
       "      <td>106970.287420</td>\n",
       "    </tr>\n",
       "    <tr>\n",
       "      <th>2</th>\n",
       "      <td>913.764870</td>\n",
       "      <td>488.026284</td>\n",
       "      <td>33462</td>\n",
       "      <td>0.0</td>\n",
       "      <td>98001.943718</td>\n",
       "    </tr>\n",
       "    <tr>\n",
       "      <th>3</th>\n",
       "      <td>84.803677</td>\n",
       "      <td>0.000000</td>\n",
       "      <td>287219</td>\n",
       "      <td>0.0</td>\n",
       "      <td>120345.596800</td>\n",
       "    </tr>\n",
       "    <tr>\n",
       "      <th>4</th>\n",
       "      <td>3093.696489</td>\n",
       "      <td>2692.980958</td>\n",
       "      <td>38096</td>\n",
       "      <td>0.0</td>\n",
       "      <td>100982.629819</td>\n",
       "    </tr>\n",
       "    <tr>\n",
       "      <th>5</th>\n",
       "      <td>115.375528</td>\n",
       "      <td>0.000000</td>\n",
       "      <td>22037</td>\n",
       "      <td>0.0</td>\n",
       "      <td>90791.925118</td>\n",
       "    </tr>\n",
       "    <tr>\n",
       "      <th>6</th>\n",
       "      <td>3374.975829</td>\n",
       "      <td>2780.299643</td>\n",
       "      <td>20347</td>\n",
       "      <td>0.0</td>\n",
       "      <td>68364.325227</td>\n",
       "    </tr>\n",
       "    <tr>\n",
       "      <th>7</th>\n",
       "      <td>3538.421357</td>\n",
       "      <td>2920.587191</td>\n",
       "      <td>29054</td>\n",
       "      <td>0.0</td>\n",
       "      <td>90158.027070</td>\n",
       "    </tr>\n",
       "    <tr>\n",
       "      <th>8</th>\n",
       "      <td>2966.567606</td>\n",
       "      <td>2259.928430</td>\n",
       "      <td>32531</td>\n",
       "      <td>0.0</td>\n",
       "      <td>96584.222182</td>\n",
       "    </tr>\n",
       "    <tr>\n",
       "      <th>9</th>\n",
       "      <td>2081.903662</td>\n",
       "      <td>1262.422936</td>\n",
       "      <td>52939</td>\n",
       "      <td>0.0</td>\n",
       "      <td>89903.665930</td>\n",
       "    </tr>\n",
       "    <tr>\n",
       "      <th>10</th>\n",
       "      <td>1286.873795</td>\n",
       "      <td>616.417792</td>\n",
       "      <td>21236</td>\n",
       "      <td>0.0</td>\n",
       "      <td>84867.045440</td>\n",
       "    </tr>\n",
       "  </tbody>\n",
       "</table>\n",
       "</div>"
      ],
      "text/plain": [
       "                month_traffic                                         \n",
       "                         mean       median   count  min            max\n",
       "current_service                                                       \n",
       "0                 1701.711557   993.489584  133224  0.0  159057.397800\n",
       "1                 1963.255052  1154.333007   73841  0.0  106970.287420\n",
       "2                  913.764870   488.026284   33462  0.0   98001.943718\n",
       "3                   84.803677     0.000000  287219  0.0  120345.596800\n",
       "4                 3093.696489  2692.980958   38096  0.0  100982.629819\n",
       "5                  115.375528     0.000000   22037  0.0   90791.925118\n",
       "6                 3374.975829  2780.299643   20347  0.0   68364.325227\n",
       "7                 3538.421357  2920.587191   29054  0.0   90158.027070\n",
       "8                 2966.567606  2259.928430   32531  0.0   96584.222182\n",
       "9                 2081.903662  1262.422936   52939  0.0   89903.665930\n",
       "10                1286.873795   616.417792   21236  0.0   84867.045440"
      ]
     },
     "execution_count": 37,
     "metadata": {},
     "output_type": "execute_result"
    }
   ],
   "source": [
    "train.groupby(['current_service'])[['month_traffic']].agg(['mean','median','count','min','max'])\n",
    "\n",
    "# 有无流量套餐，还有两个0流量众数需要考虑"
   ]
  },
  {
   "cell_type": "code",
   "execution_count": 39,
   "metadata": {},
   "outputs": [
    {
     "data": {
      "text/plain": [
       "<matplotlib.axes._subplots.AxesSubplot at 0x1e0c19ac828>"
      ]
     },
     "execution_count": 39,
     "metadata": {},
     "output_type": "execute_result"
    },
    {
     "data": {
      "image/png": "[encoded data removed]",
      "text/plain": [
       "<Figure size 432x288 with 1 Axes>"
      ]
     },
     "metadata": {},
     "output_type": "display_data"
    }
   ],
   "source": [
    "sns.boxplot(train['current_service'], train['month_traffic'])"
   ]
  },
  {
   "cell_type": "code",
   "execution_count": 40,
   "metadata": {},
   "outputs": [
    {
     "name": "stdout",
     "output_type": "stream",
     "text": [
      "<class 'pandas.core.frame.DataFrame'>\n",
      "Int64Index: 92 entries, 3032 to 715553\n",
      "Data columns (total 27 columns):\n",
      "service_type              92 non-null int64\n",
      "is_mix_service            92 non-null int64\n",
      "online_time               92 non-null int64\n",
      "1_total_fee               92 non-null float64\n",
      "2_total_fee               92 non-null float64\n",
      "3_total_fee               92 non-null float64\n",
      "4_total_fee               92 non-null float64\n",
      "month_traffic             92 non-null float64\n",
      "many_over_bill            92 non-null int64\n",
      "contract_type             92 non-null int64\n",
      "contract_time             92 non-null int64\n",
      "is_promise_low_consume    92 non-null int64\n",
      "net_service               92 non-null int64\n",
      "pay_times                 92 non-null int64\n",
      "pay_num                   92 non-null float64\n",
      "last_month_traffic        92 non-null float64\n",
      "local_trafffic_month      92 non-null float64\n",
      "local_caller_time         92 non-null float64\n",
      "service1_caller_time      92 non-null float64\n",
      "service2_caller_time      92 non-null float64\n",
      "gender                    92 non-null int64\n",
      "age                       92 non-null int64\n",
      "complaint_level           92 non-null int64\n",
      "former_complaint_num      92 non-null int64\n",
      "former_complaint_fee      92 non-null float64\n",
      "current_service           92 non-null int64\n",
      "user_id                   92 non-null object\n",
      "dtypes: float64(12), int64(14), object(1)\n",
      "memory usage: 20.1+ KB\n"
     ]
    }
   ],
   "source": [
    "erro = train[train['month_traffic'] > 60000]\n",
    "erro.info()"
   ]
  },
  {
   "cell_type": "markdown",
   "metadata": {},
   "source": [
    "### 连续超出套餐 many_over_bill"
   ]
  },
  {
   "cell_type": "code",
   "execution_count": 38,
   "metadata": {},
   "outputs": [
    {
     "data": {
      "text/plain": [
       "0    393243\n",
       "1    350743\n",
       "Name: many_over_bill, dtype: int64"
      ]
     },
     "execution_count": 38,
     "metadata": {},
     "output_type": "execute_result"
    }
   ],
   "source": [
    "train['many_over_bill'].value_counts()"
   ]
  },
  {
   "cell_type": "code",
   "execution_count": 44,
   "metadata": {},
   "outputs": [
    {
     "data": {
      "text/plain": [
       "0     116634\n",
       "1      63477\n",
       "9      44638\n",
       "4      30921\n",
       "2      30893\n",
       "8      27544\n",
       "7      25124\n",
       "6      18215\n",
       "3      17813\n",
       "10     16728\n",
       "5       1256\n",
       "Name: current_service, dtype: int64"
      ]
     },
     "execution_count": 44,
     "metadata": {},
     "output_type": "execute_result"
    }
   ],
   "source": [
    "many_over_bill_0 = train[train['many_over_bill'] == 0]\n",
    "many_over_bill_0['current_service'].value_counts()"
   ]
  },
  {
   "cell_type": "code",
   "execution_count": 42,
   "metadata": {},
   "outputs": [
    {
     "data": {
      "text/plain": [
       "3     269406\n",
       "5      20781\n",
       "0      16590\n",
       "1      10364\n",
       "9       8301\n",
       "4       7175\n",
       "8       4987\n",
       "10      4508\n",
       "7       3930\n",
       "2       2569\n",
       "6       2132\n",
       "Name: current_service, dtype: int64"
      ]
     },
     "execution_count": 42,
     "metadata": {},
     "output_type": "execute_result"
    }
   ],
   "source": [
    "many_over_bill_1 = train[train['many_over_bill'] == 1]\n",
    "many_over_bill_1['current_service'].value_counts()"
   ]
  },
  {
   "cell_type": "code",
   "execution_count": 43,
   "metadata": {},
   "outputs": [
    {
     "data": {
      "text/plain": [
       "<matplotlib.axes._subplots.AxesSubplot at 0x1e0c2d01e48>"
      ]
     },
     "execution_count": 43,
     "metadata": {},
     "output_type": "execute_result"
    },
    {
     "data": {
      "image/png": "[encoded data removed]",
      "text/plain": [
       "<Figure size 432x288 with 1 Axes>"
      ]
     },
     "metadata": {},
     "output_type": "display_data"
    }
   ],
   "source": [
    "sns.countplot('current_service', hue='many_over_bill', data=train)"
   ]
  },
  {
   "cell_type": "markdown",
   "metadata": {},
   "source": [
    "### 合约类型 contract_type"
   ]
  },
  {
   "cell_type": "code",
   "execution_count": 45,
   "metadata": {},
   "outputs": [
    {
     "data": {
      "text/plain": [
       "0     425802\n",
       "1     127830\n",
       "3     101240\n",
       "9      54837\n",
       "12     26455\n",
       "7       4141\n",
       "6       2734\n",
       "2        931\n",
       "8         16\n",
       "Name: contract_type, dtype: int64"
      ]
     },
     "execution_count": 45,
     "metadata": {},
     "output_type": "execute_result"
    }
   ],
   "source": [
    "# 前五种数据量多\n",
    "typecount = train['contract_type'].value_counts()\n",
    "typecount"
   ]
  },
  {
   "cell_type": "code",
   "execution_count": 53,
   "metadata": {},
   "outputs": [
    {
     "data": {
      "text/plain": [
       "1     36684\n",
       "9     21022\n",
       "0     18518\n",
       "7     15168\n",
       "6     15086\n",
       "8     13408\n",
       "10     6425\n",
       "2      1519\n",
       "Name: current_service, dtype: int64"
      ]
     },
     "execution_count": 53,
     "metadata": {},
     "output_type": "execute_result"
    }
   ],
   "source": [
    "contract_type0 = train[train['contract_type'] == 1]\n",
    "contract_type0['current_service'].value_counts()"
   ]
  },
  {
   "cell_type": "markdown",
   "metadata": {},
   "source": [
    "### 合约时长 contract_time"
   ]
  },
  {
   "cell_type": "code",
   "execution_count": 54,
   "metadata": {},
   "outputs": [
    {
     "data": {
      "text/html": [
       "<div>\n",
       "<style scoped>\n",
       "    .dataframe tbody tr th:only-of-type {\n",
       "        vertical-align: middle;\n",
       "    }\n",
       "\n",
       "    .dataframe tbody tr th {\n",
       "        vertical-align: top;\n",
       "    }\n",
       "\n",
       "    .dataframe thead tr th {\n",
       "        text-align: left;\n",
       "    }\n",
       "\n",
       "    .dataframe thead tr:last-of-type th {\n",
       "        text-align: right;\n",
       "    }\n",
       "</style>\n",
       "<table border=\"1\" class=\"dataframe\">\n",
       "  <thead>\n",
       "    <tr>\n",
       "      <th></th>\n",
       "      <th colspan=\"5\" halign=\"left\">contract_time</th>\n",
       "    </tr>\n",
       "    <tr>\n",
       "      <th></th>\n",
       "      <th>mean</th>\n",
       "      <th>median</th>\n",
       "      <th>count</th>\n",
       "      <th>max</th>\n",
       "      <th>min</th>\n",
       "    </tr>\n",
       "    <tr>\n",
       "      <th>current_service</th>\n",
       "      <th></th>\n",
       "      <th></th>\n",
       "      <th></th>\n",
       "      <th></th>\n",
       "      <th></th>\n",
       "    </tr>\n",
       "  </thead>\n",
       "  <tbody>\n",
       "    <tr>\n",
       "      <th>0</th>\n",
       "      <td>12.013946</td>\n",
       "      <td>12</td>\n",
       "      <td>133224</td>\n",
       "      <td>36</td>\n",
       "      <td>-1</td>\n",
       "    </tr>\n",
       "    <tr>\n",
       "      <th>1</th>\n",
       "      <td>17.170190</td>\n",
       "      <td>24</td>\n",
       "      <td>73841</td>\n",
       "      <td>36</td>\n",
       "      <td>-1</td>\n",
       "    </tr>\n",
       "    <tr>\n",
       "      <th>2</th>\n",
       "      <td>8.771024</td>\n",
       "      <td>12</td>\n",
       "      <td>33462</td>\n",
       "      <td>36</td>\n",
       "      <td>0</td>\n",
       "    </tr>\n",
       "    <tr>\n",
       "      <th>3</th>\n",
       "      <td>0.000181</td>\n",
       "      <td>0</td>\n",
       "      <td>287219</td>\n",
       "      <td>12</td>\n",
       "      <td>0</td>\n",
       "    </tr>\n",
       "    <tr>\n",
       "      <th>4</th>\n",
       "      <td>0.000630</td>\n",
       "      <td>0</td>\n",
       "      <td>38096</td>\n",
       "      <td>12</td>\n",
       "      <td>0</td>\n",
       "    </tr>\n",
       "    <tr>\n",
       "      <th>5</th>\n",
       "      <td>0.000272</td>\n",
       "      <td>0</td>\n",
       "      <td>22037</td>\n",
       "      <td>6</td>\n",
       "      <td>0</td>\n",
       "    </tr>\n",
       "    <tr>\n",
       "      <th>6</th>\n",
       "      <td>22.739618</td>\n",
       "      <td>24</td>\n",
       "      <td>20347</td>\n",
       "      <td>52</td>\n",
       "      <td>-1</td>\n",
       "    </tr>\n",
       "    <tr>\n",
       "      <th>7</th>\n",
       "      <td>19.616094</td>\n",
       "      <td>24</td>\n",
       "      <td>29054</td>\n",
       "      <td>36</td>\n",
       "      <td>-1</td>\n",
       "    </tr>\n",
       "    <tr>\n",
       "      <th>8</th>\n",
       "      <td>15.927239</td>\n",
       "      <td>12</td>\n",
       "      <td>32531</td>\n",
       "      <td>36</td>\n",
       "      <td>-1</td>\n",
       "    </tr>\n",
       "    <tr>\n",
       "      <th>9</th>\n",
       "      <td>14.956252</td>\n",
       "      <td>12</td>\n",
       "      <td>52939</td>\n",
       "      <td>36</td>\n",
       "      <td>-1</td>\n",
       "    </tr>\n",
       "    <tr>\n",
       "      <th>10</th>\n",
       "      <td>13.000848</td>\n",
       "      <td>0</td>\n",
       "      <td>21236</td>\n",
       "      <td>36</td>\n",
       "      <td>-1</td>\n",
       "    </tr>\n",
       "  </tbody>\n",
       "</table>\n",
       "</div>"
      ],
      "text/plain": [
       "                contract_time                       \n",
       "                         mean median   count max min\n",
       "current_service                                     \n",
       "0                   12.013946     12  133224  36  -1\n",
       "1                   17.170190     24   73841  36  -1\n",
       "2                    8.771024     12   33462  36   0\n",
       "3                    0.000181      0  287219  12   0\n",
       "4                    0.000630      0   38096  12   0\n",
       "5                    0.000272      0   22037   6   0\n",
       "6                   22.739618     24   20347  52  -1\n",
       "7                   19.616094     24   29054  36  -1\n",
       "8                   15.927239     12   32531  36  -1\n",
       "9                   14.956252     12   52939  36  -1\n",
       "10                  13.000848      0   21236  36  -1"
      ]
     },
     "execution_count": 54,
     "metadata": {},
     "output_type": "execute_result"
    }
   ],
   "source": [
    "# 可以分析一下套餐内的有无以及和合约类型的对比\n",
    "train.groupby(['current_service'])[['contract_time']].agg(['mean','median','count','max','min'])"
   ]
  },
  {
   "cell_type": "markdown",
   "metadata": {},
   "source": [
    "### 是否承诺低消用户 is_promise_low_consume 1是0否"
   ]
  },
  {
   "cell_type": "code",
   "execution_count": 55,
   "metadata": {},
   "outputs": [
    {
     "data": {
      "text/plain": [
       "0    692453\n",
       "1     51533\n",
       "Name: is_promise_low_consume, dtype: int64"
      ]
     },
     "execution_count": 55,
     "metadata": {},
     "output_type": "execute_result"
    }
   ],
   "source": [
    "train['is_promise_low_consume'].value_counts()"
   ]
  },
  {
   "cell_type": "code",
   "execution_count": 56,
   "metadata": {},
   "outputs": [
    {
     "data": {
      "text/plain": [
       "<matplotlib.axes._subplots.AxesSubplot at 0x1e0825859b0>"
      ]
     },
     "execution_count": 56,
     "metadata": {},
     "output_type": "execute_result"
    },
    {
     "data": {
      "image/png": "[encoded data removed]",
      "text/plain": [
       "<Figure size 432x288 with 1 Axes>"
      ]
     },
     "metadata": {},
     "output_type": "display_data"
    }
   ],
   "source": [
    "sns.countplot('current_service', hue='is_promise_low_consume', data=train)"
   ]
  },
  {
   "cell_type": "code",
   "execution_count": 57,
   "metadata": {},
   "outputs": [
    {
     "data": {
      "text/plain": [
       "3     287197\n",
       "0     117087\n",
       "1      63140\n",
       "9      44067\n",
       "4      38083\n",
       "2      30922\n",
       "8      27617\n",
       "7      25330\n",
       "5      22037\n",
       "10     18645\n",
       "6      18328\n",
       "Name: current_service, dtype: int64"
      ]
     },
     "execution_count": 57,
     "metadata": {},
     "output_type": "execute_result"
    }
   ],
   "source": [
    "is_promise_low_consume0 = train[train['is_promise_low_consume'] == 0]\n",
    "is_promise_low_consume0['current_service'].value_counts()"
   ]
  },
  {
   "cell_type": "code",
   "execution_count": 58,
   "metadata": {},
   "outputs": [
    {
     "data": {
      "text/plain": [
       "0     16137\n",
       "1     10701\n",
       "9      8872\n",
       "8      4914\n",
       "7      3724\n",
       "10     2591\n",
       "2      2540\n",
       "6      2019\n",
       "3        22\n",
       "4        13\n",
       "Name: current_service, dtype: int64"
      ]
     },
     "execution_count": 58,
     "metadata": {},
     "output_type": "execute_result"
    }
   ],
   "source": [
    "is_promise_low_consume1 = train[train['is_promise_low_consume'] == 1]\n",
    "is_promise_low_consume1['current_service'].value_counts()"
   ]
  },
  {
   "cell_type": "markdown",
   "metadata": {},
   "source": [
    "### 网络口径用户 net_service"
   ]
  },
  {
   "cell_type": "code",
   "execution_count": 59,
   "metadata": {},
   "outputs": [
    {
     "data": {
      "text/plain": [
       "4    705853\n",
       "3     25282\n",
       "2     12504\n",
       "9       347\n",
       "Name: net_service, dtype: int64"
      ]
     },
     "execution_count": 59,
     "metadata": {},
     "output_type": "execute_result"
    }
   ],
   "source": [
    "train['net_service'].value_counts()"
   ]
  },
  {
   "cell_type": "code",
   "execution_count": 60,
   "metadata": {},
   "outputs": [
    {
     "data": {
      "text/plain": [
       "<matplotlib.axes._subplots.AxesSubplot at 0x1e08261d160>"
      ]
     },
     "execution_count": 60,
     "metadata": {},
     "output_type": "execute_result"
    },
    {
     "data": {
      "image/png": "[encoded data removed]",
      "text/plain": [
       "<Figure size 432x288 with 1 Axes>"
      ]
     },
     "metadata": {},
     "output_type": "display_data"
    }
   ],
   "source": [
    "sns.countplot('current_service', hue='net_service', data=train)"
   ]
  },
  {
   "cell_type": "code",
   "execution_count": 61,
   "metadata": {},
   "outputs": [
    {
     "data": {
      "text/plain": [
       "3     282261\n",
       "0     120409\n",
       "1      68918\n",
       "9      49318\n",
       "4      37357\n",
       "8      31394\n",
       "7      28283\n",
       "2      28174\n",
       "5      21715\n",
       "6      19911\n",
       "10     18113\n",
       "Name: current_service, dtype: int64"
      ]
     },
     "execution_count": 61,
     "metadata": {},
     "output_type": "execute_result"
    }
   ],
   "source": [
    "net_service4 = train[train['net_service'] == 4]\n",
    "net_service4['current_service'].value_counts()"
   ]
  },
  {
   "cell_type": "code",
   "execution_count": 62,
   "metadata": {},
   "outputs": [
    {
     "data": {
      "text/plain": [
       "0     99\n",
       "9     54\n",
       "2     50\n",
       "1     39\n",
       "10    36\n",
       "3     28\n",
       "8     21\n",
       "7      7\n",
       "6      6\n",
       "4      5\n",
       "5      2\n",
       "Name: current_service, dtype: int64"
      ]
     },
     "execution_count": 62,
     "metadata": {},
     "output_type": "execute_result"
    }
   ],
   "source": [
    "net_service3 = train[train['net_service'] == 9]\n",
    "net_service3['current_service'].value_counts()"
   ]
  },
  {
   "cell_type": "markdown",
   "metadata": {},
   "source": [
    "### 交费次数 pay_times"
   ]
  },
  {
   "cell_type": "code",
   "execution_count": 63,
   "metadata": {},
   "outputs": [
    {
     "data": {
      "text/html": [
       "<div>\n",
       "<style scoped>\n",
       "    .dataframe tbody tr th:only-of-type {\n",
       "        vertical-align: middle;\n",
       "    }\n",
       "\n",
       "    .dataframe tbody tr th {\n",
       "        vertical-align: top;\n",
       "    }\n",
       "\n",
       "    .dataframe thead tr th {\n",
       "        text-align: left;\n",
       "    }\n",
       "\n",
       "    .dataframe thead tr:last-of-type th {\n",
       "        text-align: right;\n",
       "    }\n",
       "</style>\n",
       "<table border=\"1\" class=\"dataframe\">\n",
       "  <thead>\n",
       "    <tr>\n",
       "      <th></th>\n",
       "      <th colspan=\"5\" halign=\"left\">pay_times</th>\n",
       "    </tr>\n",
       "    <tr>\n",
       "      <th></th>\n",
       "      <th>mean</th>\n",
       "      <th>median</th>\n",
       "      <th>count</th>\n",
       "      <th>max</th>\n",
       "      <th>min</th>\n",
       "    </tr>\n",
       "    <tr>\n",
       "      <th>current_service</th>\n",
       "      <th></th>\n",
       "      <th></th>\n",
       "      <th></th>\n",
       "      <th></th>\n",
       "      <th></th>\n",
       "    </tr>\n",
       "  </thead>\n",
       "  <tbody>\n",
       "    <tr>\n",
       "      <th>0</th>\n",
       "      <td>1.925862</td>\n",
       "      <td>2</td>\n",
       "      <td>133224</td>\n",
       "      <td>96</td>\n",
       "      <td>1</td>\n",
       "    </tr>\n",
       "    <tr>\n",
       "      <th>1</th>\n",
       "      <td>2.122344</td>\n",
       "      <td>2</td>\n",
       "      <td>73841</td>\n",
       "      <td>59</td>\n",
       "      <td>1</td>\n",
       "    </tr>\n",
       "    <tr>\n",
       "      <th>2</th>\n",
       "      <td>1.776493</td>\n",
       "      <td>1</td>\n",
       "      <td>33462</td>\n",
       "      <td>38</td>\n",
       "      <td>1</td>\n",
       "    </tr>\n",
       "    <tr>\n",
       "      <th>3</th>\n",
       "      <td>1.857314</td>\n",
       "      <td>1</td>\n",
       "      <td>287219</td>\n",
       "      <td>63</td>\n",
       "      <td>1</td>\n",
       "    </tr>\n",
       "    <tr>\n",
       "      <th>4</th>\n",
       "      <td>1.475010</td>\n",
       "      <td>1</td>\n",
       "      <td>38096</td>\n",
       "      <td>50</td>\n",
       "      <td>1</td>\n",
       "    </tr>\n",
       "    <tr>\n",
       "      <th>5</th>\n",
       "      <td>2.178064</td>\n",
       "      <td>2</td>\n",
       "      <td>22037</td>\n",
       "      <td>36</td>\n",
       "      <td>1</td>\n",
       "    </tr>\n",
       "    <tr>\n",
       "      <th>6</th>\n",
       "      <td>2.499681</td>\n",
       "      <td>2</td>\n",
       "      <td>20347</td>\n",
       "      <td>108</td>\n",
       "      <td>1</td>\n",
       "    </tr>\n",
       "    <tr>\n",
       "      <th>7</th>\n",
       "      <td>2.325188</td>\n",
       "      <td>2</td>\n",
       "      <td>29054</td>\n",
       "      <td>127</td>\n",
       "      <td>1</td>\n",
       "    </tr>\n",
       "    <tr>\n",
       "      <th>8</th>\n",
       "      <td>2.255602</td>\n",
       "      <td>2</td>\n",
       "      <td>32531</td>\n",
       "      <td>49</td>\n",
       "      <td>1</td>\n",
       "    </tr>\n",
       "    <tr>\n",
       "      <th>9</th>\n",
       "      <td>2.183475</td>\n",
       "      <td>2</td>\n",
       "      <td>52939</td>\n",
       "      <td>85</td>\n",
       "      <td>1</td>\n",
       "    </tr>\n",
       "    <tr>\n",
       "      <th>10</th>\n",
       "      <td>1.998681</td>\n",
       "      <td>2</td>\n",
       "      <td>21236</td>\n",
       "      <td>61</td>\n",
       "      <td>1</td>\n",
       "    </tr>\n",
       "  </tbody>\n",
       "</table>\n",
       "</div>"
      ],
      "text/plain": [
       "                pay_times                        \n",
       "                     mean median   count  max min\n",
       "current_service                                  \n",
       "0                1.925862      2  133224   96   1\n",
       "1                2.122344      2   73841   59   1\n",
       "2                1.776493      1   33462   38   1\n",
       "3                1.857314      1  287219   63   1\n",
       "4                1.475010      1   38096   50   1\n",
       "5                2.178064      2   22037   36   1\n",
       "6                2.499681      2   20347  108   1\n",
       "7                2.325188      2   29054  127   1\n",
       "8                2.255602      2   32531   49   1\n",
       "9                2.183475      2   52939   85   1\n",
       "10               1.998681      2   21236   61   1"
      ]
     },
     "execution_count": 63,
     "metadata": {},
     "output_type": "execute_result"
    }
   ],
   "source": [
    "train.groupby(['current_service'])[['pay_times']].agg(['mean','median','count','max','min'])"
   ]
  },
  {
   "cell_type": "code",
   "execution_count": 64,
   "metadata": {},
   "outputs": [
    {
     "data": {
      "text/plain": [
       "<matplotlib.axes._subplots.AxesSubplot at 0x1e0825e85f8>"
      ]
     },
     "execution_count": 64,
     "metadata": {},
     "output_type": "execute_result"
    },
    {
     "data": {
      "image/png": "[encoded data removed]",
      "text/plain": [
       "<Figure size 432x288 with 1 Axes>"
      ]
     },
     "metadata": {},
     "output_type": "display_data"
    }
   ],
   "source": [
    "sns.boxplot(train['current_service'], train['pay_times'])"
   ]
  },
  {
   "cell_type": "code",
   "execution_count": 67,
   "metadata": {},
   "outputs": [
    {
     "name": "stdout",
     "output_type": "stream",
     "text": [
      "<class 'pandas.core.frame.DataFrame'>\n",
      "Int64Index: 91 entries, 4354 to 740738\n",
      "Data columns (total 27 columns):\n",
      "service_type              91 non-null int64\n",
      "is_mix_service            91 non-null int64\n",
      "online_time               91 non-null int64\n",
      "1_total_fee               91 non-null float64\n",
      "2_total_fee               91 non-null float64\n",
      "3_total_fee               91 non-null float64\n",
      "4_total_fee               91 non-null float64\n",
      "month_traffic             91 non-null float64\n",
      "many_over_bill            91 non-null int64\n",
      "contract_type             91 non-null int64\n",
      "contract_time             91 non-null int64\n",
      "is_promise_low_consume    91 non-null int64\n",
      "net_service               91 non-null int64\n",
      "pay_times                 91 non-null int64\n",
      "pay_num                   91 non-null float64\n",
      "last_month_traffic        91 non-null float64\n",
      "local_trafffic_month      91 non-null float64\n",
      "local_caller_time         91 non-null float64\n",
      "service1_caller_time      91 non-null float64\n",
      "service2_caller_time      91 non-null float64\n",
      "gender                    91 non-null int64\n",
      "age                       91 non-null int64\n",
      "complaint_level           91 non-null int64\n",
      "former_complaint_num      91 non-null int64\n",
      "former_complaint_fee      91 non-null float64\n",
      "current_service           91 non-null int64\n",
      "user_id                   91 non-null object\n",
      "dtypes: float64(12), int64(14), object(1)\n",
      "memory usage: 19.9+ KB\n"
     ]
    }
   ],
   "source": [
    "erro1 = train[train['pay_times'] > 30]\n",
    "erro1.info()"
   ]
  },
  {
   "cell_type": "markdown",
   "metadata": {},
   "source": [
    "### 交费金额 pay_num"
   ]
  },
  {
   "cell_type": "code",
   "execution_count": 68,
   "metadata": {},
   "outputs": [
    {
     "data": {
      "text/html": [
       "<div>\n",
       "<style scoped>\n",
       "    .dataframe tbody tr th:only-of-type {\n",
       "        vertical-align: middle;\n",
       "    }\n",
       "\n",
       "    .dataframe tbody tr th {\n",
       "        vertical-align: top;\n",
       "    }\n",
       "\n",
       "    .dataframe thead tr th {\n",
       "        text-align: left;\n",
       "    }\n",
       "\n",
       "    .dataframe thead tr:last-of-type th {\n",
       "        text-align: right;\n",
       "    }\n",
       "</style>\n",
       "<table border=\"1\" class=\"dataframe\">\n",
       "  <thead>\n",
       "    <tr>\n",
       "      <th></th>\n",
       "      <th colspan=\"5\" halign=\"left\">pay_num</th>\n",
       "    </tr>\n",
       "    <tr>\n",
       "      <th></th>\n",
       "      <th>mean</th>\n",
       "      <th>median</th>\n",
       "      <th>count</th>\n",
       "      <th>max</th>\n",
       "      <th>min</th>\n",
       "    </tr>\n",
       "    <tr>\n",
       "      <th>current_service</th>\n",
       "      <th></th>\n",
       "      <th></th>\n",
       "      <th></th>\n",
       "      <th></th>\n",
       "      <th></th>\n",
       "    </tr>\n",
       "  </thead>\n",
       "  <tbody>\n",
       "    <tr>\n",
       "      <th>0</th>\n",
       "      <td>120.947452</td>\n",
       "      <td>100.00</td>\n",
       "      <td>133224</td>\n",
       "      <td>18639.40</td>\n",
       "      <td>0.01</td>\n",
       "    </tr>\n",
       "    <tr>\n",
       "      <th>1</th>\n",
       "      <td>163.811878</td>\n",
       "      <td>111.40</td>\n",
       "      <td>73841</td>\n",
       "      <td>19404.60</td>\n",
       "      <td>0.01</td>\n",
       "    </tr>\n",
       "    <tr>\n",
       "      <th>2</th>\n",
       "      <td>88.024125</td>\n",
       "      <td>51.00</td>\n",
       "      <td>33462</td>\n",
       "      <td>2399.05</td>\n",
       "      <td>0.01</td>\n",
       "    </tr>\n",
       "    <tr>\n",
       "      <th>3</th>\n",
       "      <td>62.040402</td>\n",
       "      <td>50.00</td>\n",
       "      <td>287219</td>\n",
       "      <td>3306.00</td>\n",
       "      <td>0.01</td>\n",
       "    </tr>\n",
       "    <tr>\n",
       "      <th>4</th>\n",
       "      <td>62.846410</td>\n",
       "      <td>50.00</td>\n",
       "      <td>38096</td>\n",
       "      <td>1139.60</td>\n",
       "      <td>0.01</td>\n",
       "    </tr>\n",
       "    <tr>\n",
       "      <th>5</th>\n",
       "      <td>99.252561</td>\n",
       "      <td>100.00</td>\n",
       "      <td>22037</td>\n",
       "      <td>3040.00</td>\n",
       "      <td>0.01</td>\n",
       "    </tr>\n",
       "    <tr>\n",
       "      <th>6</th>\n",
       "      <td>405.310183</td>\n",
       "      <td>300.00</td>\n",
       "      <td>20347</td>\n",
       "      <td>58800.30</td>\n",
       "      <td>0.01</td>\n",
       "    </tr>\n",
       "    <tr>\n",
       "      <th>7</th>\n",
       "      <td>289.422910</td>\n",
       "      <td>200.08</td>\n",
       "      <td>29054</td>\n",
       "      <td>43842.70</td>\n",
       "      <td>0.01</td>\n",
       "    </tr>\n",
       "    <tr>\n",
       "      <th>8</th>\n",
       "      <td>257.758594</td>\n",
       "      <td>200.00</td>\n",
       "      <td>32531</td>\n",
       "      <td>55395.03</td>\n",
       "      <td>0.01</td>\n",
       "    </tr>\n",
       "    <tr>\n",
       "      <th>9</th>\n",
       "      <td>208.019273</td>\n",
       "      <td>196.00</td>\n",
       "      <td>52939</td>\n",
       "      <td>17383.80</td>\n",
       "      <td>0.01</td>\n",
       "    </tr>\n",
       "    <tr>\n",
       "      <th>10</th>\n",
       "      <td>146.872172</td>\n",
       "      <td>100.00</td>\n",
       "      <td>21236</td>\n",
       "      <td>5720.05</td>\n",
       "      <td>0.01</td>\n",
       "    </tr>\n",
       "  </tbody>\n",
       "</table>\n",
       "</div>"
      ],
      "text/plain": [
       "                    pay_num                                \n",
       "                       mean  median   count       max   min\n",
       "current_service                                            \n",
       "0                120.947452  100.00  133224  18639.40  0.01\n",
       "1                163.811878  111.40   73841  19404.60  0.01\n",
       "2                 88.024125   51.00   33462   2399.05  0.01\n",
       "3                 62.040402   50.00  287219   3306.00  0.01\n",
       "4                 62.846410   50.00   38096   1139.60  0.01\n",
       "5                 99.252561  100.00   22037   3040.00  0.01\n",
       "6                405.310183  300.00   20347  58800.30  0.01\n",
       "7                289.422910  200.08   29054  43842.70  0.01\n",
       "8                257.758594  200.00   32531  55395.03  0.01\n",
       "9                208.019273  196.00   52939  17383.80  0.01\n",
       "10               146.872172  100.00   21236   5720.05  0.01"
      ]
     },
     "execution_count": 68,
     "metadata": {},
     "output_type": "execute_result"
    }
   ],
   "source": [
    "# 和账单对比\n",
    "train.groupby(['current_service'])[['pay_num']].agg(['mean','median','count','max','min'])"
   ]
  },
  {
   "cell_type": "markdown",
   "metadata": {},
   "source": [
    "### last_month_traffic 上月结转流量"
   ]
  },
  {
   "cell_type": "code",
   "execution_count": 69,
   "metadata": {},
   "outputs": [
    {
     "data": {
      "text/html": [
       "<div>\n",
       "<style scoped>\n",
       "    .dataframe tbody tr th:only-of-type {\n",
       "        vertical-align: middle;\n",
       "    }\n",
       "\n",
       "    .dataframe tbody tr th {\n",
       "        vertical-align: top;\n",
       "    }\n",
       "\n",
       "    .dataframe thead tr th {\n",
       "        text-align: left;\n",
       "    }\n",
       "\n",
       "    .dataframe thead tr:last-of-type th {\n",
       "        text-align: right;\n",
       "    }\n",
       "</style>\n",
       "<table border=\"1\" class=\"dataframe\">\n",
       "  <thead>\n",
       "    <tr>\n",
       "      <th></th>\n",
       "      <th colspan=\"5\" halign=\"left\">last_month_traffic</th>\n",
       "    </tr>\n",
       "    <tr>\n",
       "      <th></th>\n",
       "      <th>mean</th>\n",
       "      <th>median</th>\n",
       "      <th>count</th>\n",
       "      <th>max</th>\n",
       "      <th>min</th>\n",
       "    </tr>\n",
       "    <tr>\n",
       "      <th>current_service</th>\n",
       "      <th></th>\n",
       "      <th></th>\n",
       "      <th></th>\n",
       "      <th></th>\n",
       "      <th></th>\n",
       "    </tr>\n",
       "  </thead>\n",
       "  <tbody>\n",
       "    <tr>\n",
       "      <th>0</th>\n",
       "      <td>449.524903</td>\n",
       "      <td>348.565076</td>\n",
       "      <td>133224</td>\n",
       "      <td>15136.0000</td>\n",
       "      <td>0.0</td>\n",
       "    </tr>\n",
       "    <tr>\n",
       "      <th>1</th>\n",
       "      <td>458.685395</td>\n",
       "      <td>89.077176</td>\n",
       "      <td>73841</td>\n",
       "      <td>17408.0000</td>\n",
       "      <td>0.0</td>\n",
       "    </tr>\n",
       "    <tr>\n",
       "      <th>2</th>\n",
       "      <td>348.297808</td>\n",
       "      <td>447.488647</td>\n",
       "      <td>33462</td>\n",
       "      <td>11840.6416</td>\n",
       "      <td>0.0</td>\n",
       "    </tr>\n",
       "    <tr>\n",
       "      <th>3</th>\n",
       "      <td>2.174941</td>\n",
       "      <td>0.000000</td>\n",
       "      <td>287219</td>\n",
       "      <td>9216.0000</td>\n",
       "      <td>0.0</td>\n",
       "    </tr>\n",
       "    <tr>\n",
       "      <th>4</th>\n",
       "      <td>918.981884</td>\n",
       "      <td>652.226820</td>\n",
       "      <td>38096</td>\n",
       "      <td>10240.0000</td>\n",
       "      <td>0.0</td>\n",
       "    </tr>\n",
       "    <tr>\n",
       "      <th>5</th>\n",
       "      <td>4.976110</td>\n",
       "      <td>0.000000</td>\n",
       "      <td>22037</td>\n",
       "      <td>8192.0000</td>\n",
       "      <td>0.0</td>\n",
       "    </tr>\n",
       "    <tr>\n",
       "      <th>6</th>\n",
       "      <td>1524.171174</td>\n",
       "      <td>0.000000</td>\n",
       "      <td>20347</td>\n",
       "      <td>15360.0000</td>\n",
       "      <td>0.0</td>\n",
       "    </tr>\n",
       "    <tr>\n",
       "      <th>7</th>\n",
       "      <td>1267.846896</td>\n",
       "      <td>166.402000</td>\n",
       "      <td>29054</td>\n",
       "      <td>15872.0000</td>\n",
       "      <td>0.0</td>\n",
       "    </tr>\n",
       "    <tr>\n",
       "      <th>8</th>\n",
       "      <td>839.618194</td>\n",
       "      <td>43.219254</td>\n",
       "      <td>32531</td>\n",
       "      <td>13312.0000</td>\n",
       "      <td>0.0</td>\n",
       "    </tr>\n",
       "    <tr>\n",
       "      <th>9</th>\n",
       "      <td>492.767054</td>\n",
       "      <td>65.752975</td>\n",
       "      <td>52939</td>\n",
       "      <td>15360.0000</td>\n",
       "      <td>0.0</td>\n",
       "    </tr>\n",
       "    <tr>\n",
       "      <th>10</th>\n",
       "      <td>321.362092</td>\n",
       "      <td>167.795404</td>\n",
       "      <td>21236</td>\n",
       "      <td>16384.0000</td>\n",
       "      <td>0.0</td>\n",
       "    </tr>\n",
       "  </tbody>\n",
       "</table>\n",
       "</div>"
      ],
      "text/plain": [
       "                last_month_traffic                                     \n",
       "                              mean      median   count         max  min\n",
       "current_service                                                        \n",
       "0                       449.524903  348.565076  133224  15136.0000  0.0\n",
       "1                       458.685395   89.077176   73841  17408.0000  0.0\n",
       "2                       348.297808  447.488647   33462  11840.6416  0.0\n",
       "3                         2.174941    0.000000  287219   9216.0000  0.0\n",
       "4                       918.981884  652.226820   38096  10240.0000  0.0\n",
       "5                         4.976110    0.000000   22037   8192.0000  0.0\n",
       "6                      1524.171174    0.000000   20347  15360.0000  0.0\n",
       "7                      1267.846896  166.402000   29054  15872.0000  0.0\n",
       "8                       839.618194   43.219254   32531  13312.0000  0.0\n",
       "9                       492.767054   65.752975   52939  15360.0000  0.0\n",
       "10                      321.362092  167.795404   21236  16384.0000  0.0"
      ]
     },
     "execution_count": 69,
     "metadata": {},
     "output_type": "execute_result"
    }
   ],
   "source": [
    "# 和当月累计流量对比\n",
    "train.groupby(['current_service'])[['last_month_traffic']].agg(['mean','median','count','max','min'])"
   ]
  },
  {
   "cell_type": "code",
   "execution_count": 70,
   "metadata": {},
   "outputs": [
    {
     "data": {
      "text/plain": [
       "<matplotlib.axes._subplots.AxesSubplot at 0x1e08287b0f0>"
      ]
     },
     "execution_count": 70,
     "metadata": {},
     "output_type": "execute_result"
    },
    {
     "data": {
      "image/png": "[encoded data removed]",
      "text/plain": [
       "<Figure size 432x288 with 1 Axes>"
      ]
     },
     "metadata": {},
     "output_type": "display_data"
    }
   ],
   "source": [
    "sns.boxplot(train['current_service'], train['last_month_traffic'])"
   ]
  },
  {
   "cell_type": "code",
   "execution_count": 73,
   "metadata": {},
   "outputs": [
    {
     "name": "stdout",
     "output_type": "stream",
     "text": [
      "<class 'pandas.core.frame.DataFrame'>\n",
      "Int64Index: 393 entries, 211 to 742975\n",
      "Data columns (total 27 columns):\n",
      "service_type              393 non-null int64\n",
      "is_mix_service            393 non-null int64\n",
      "online_time               393 non-null int64\n",
      "1_total_fee               393 non-null float64\n",
      "2_total_fee               393 non-null float64\n",
      "3_total_fee               393 non-null float64\n",
      "4_total_fee               393 non-null float64\n",
      "month_traffic             393 non-null float64\n",
      "many_over_bill            393 non-null int64\n",
      "contract_type             393 non-null int64\n",
      "contract_time             393 non-null int64\n",
      "is_promise_low_consume    393 non-null int64\n",
      "net_service               393 non-null int64\n",
      "pay_times                 393 non-null int64\n",
      "pay_num                   393 non-null float64\n",
      "last_month_traffic        393 non-null float64\n",
      "local_trafffic_month      393 non-null float64\n",
      "local_caller_time         393 non-null float64\n",
      "service1_caller_time      393 non-null float64\n",
      "service2_caller_time      393 non-null float64\n",
      "gender                    393 non-null int64\n",
      "age                       393 non-null int64\n",
      "complaint_level           393 non-null int64\n",
      "former_complaint_num      393 non-null int64\n",
      "former_complaint_fee      393 non-null float64\n",
      "current_service           393 non-null int64\n",
      "user_id                   393 non-null object\n",
      "dtypes: float64(12), int64(14), object(1)\n",
      "memory usage: 86.0+ KB\n"
     ]
    }
   ],
   "source": [
    "erro2 = train[train['last_month_traffic'] > 10000]\n",
    "erro2.info()"
   ]
  },
  {
   "cell_type": "markdown",
   "metadata": {},
   "source": [
    "### 月累计-本地数据流量 local_trafffic_month"
   ]
  },
  {
   "cell_type": "code",
   "execution_count": 74,
   "metadata": {},
   "outputs": [
    {
     "data": {
      "text/html": [
       "<div>\n",
       "<style scoped>\n",
       "    .dataframe tbody tr th:only-of-type {\n",
       "        vertical-align: middle;\n",
       "    }\n",
       "\n",
       "    .dataframe tbody tr th {\n",
       "        vertical-align: top;\n",
       "    }\n",
       "\n",
       "    .dataframe thead tr th {\n",
       "        text-align: left;\n",
       "    }\n",
       "\n",
       "    .dataframe thead tr:last-of-type th {\n",
       "        text-align: right;\n",
       "    }\n",
       "</style>\n",
       "<table border=\"1\" class=\"dataframe\">\n",
       "  <thead>\n",
       "    <tr>\n",
       "      <th></th>\n",
       "      <th colspan=\"5\" halign=\"left\">local_trafffic_month</th>\n",
       "    </tr>\n",
       "    <tr>\n",
       "      <th></th>\n",
       "      <th>mean</th>\n",
       "      <th>median</th>\n",
       "      <th>count</th>\n",
       "      <th>max</th>\n",
       "      <th>min</th>\n",
       "    </tr>\n",
       "    <tr>\n",
       "      <th>current_service</th>\n",
       "      <th></th>\n",
       "      <th></th>\n",
       "      <th></th>\n",
       "      <th></th>\n",
       "      <th></th>\n",
       "    </tr>\n",
       "  </thead>\n",
       "  <tbody>\n",
       "    <tr>\n",
       "      <th>0</th>\n",
       "      <td>1533.070507</td>\n",
       "      <td>719.428318</td>\n",
       "      <td>133224</td>\n",
       "      <td>106426.911100</td>\n",
       "      <td>0.0</td>\n",
       "    </tr>\n",
       "    <tr>\n",
       "      <th>1</th>\n",
       "      <td>2003.161250</td>\n",
       "      <td>955.357822</td>\n",
       "      <td>73841</td>\n",
       "      <td>162044.316246</td>\n",
       "      <td>0.0</td>\n",
       "    </tr>\n",
       "    <tr>\n",
       "      <th>2</th>\n",
       "      <td>811.234360</td>\n",
       "      <td>295.550087</td>\n",
       "      <td>33462</td>\n",
       "      <td>104181.639310</td>\n",
       "      <td>0.0</td>\n",
       "    </tr>\n",
       "    <tr>\n",
       "      <th>3</th>\n",
       "      <td>12474.997186</td>\n",
       "      <td>6337.267279</td>\n",
       "      <td>287219</td>\n",
       "      <td>484365.746313</td>\n",
       "      <td>0.0</td>\n",
       "    </tr>\n",
       "    <tr>\n",
       "      <th>4</th>\n",
       "      <td>2821.405268</td>\n",
       "      <td>2106.176513</td>\n",
       "      <td>38096</td>\n",
       "      <td>130527.665183</td>\n",
       "      <td>0.0</td>\n",
       "    </tr>\n",
       "    <tr>\n",
       "      <th>5</th>\n",
       "      <td>12196.188868</td>\n",
       "      <td>6071.400617</td>\n",
       "      <td>22037</td>\n",
       "      <td>249645.056255</td>\n",
       "      <td>0.0</td>\n",
       "    </tr>\n",
       "    <tr>\n",
       "      <th>6</th>\n",
       "      <td>3669.793365</td>\n",
       "      <td>2667.113692</td>\n",
       "      <td>20347</td>\n",
       "      <td>103491.852668</td>\n",
       "      <td>0.0</td>\n",
       "    </tr>\n",
       "    <tr>\n",
       "      <th>7</th>\n",
       "      <td>3618.738586</td>\n",
       "      <td>2480.407212</td>\n",
       "      <td>29054</td>\n",
       "      <td>98989.890446</td>\n",
       "      <td>0.0</td>\n",
       "    </tr>\n",
       "    <tr>\n",
       "      <th>8</th>\n",
       "      <td>2959.520154</td>\n",
       "      <td>1903.393208</td>\n",
       "      <td>32531</td>\n",
       "      <td>105668.849500</td>\n",
       "      <td>0.0</td>\n",
       "    </tr>\n",
       "    <tr>\n",
       "      <th>9</th>\n",
       "      <td>1971.500257</td>\n",
       "      <td>951.234615</td>\n",
       "      <td>52939</td>\n",
       "      <td>114890.578061</td>\n",
       "      <td>0.0</td>\n",
       "    </tr>\n",
       "    <tr>\n",
       "      <th>10</th>\n",
       "      <td>1106.071628</td>\n",
       "      <td>345.090570</td>\n",
       "      <td>21236</td>\n",
       "      <td>105064.545695</td>\n",
       "      <td>0.0</td>\n",
       "    </tr>\n",
       "  </tbody>\n",
       "</table>\n",
       "</div>"
      ],
      "text/plain": [
       "                local_trafffic_month                                         \n",
       "                                mean       median   count            max  min\n",
       "current_service                                                              \n",
       "0                        1533.070507   719.428318  133224  106426.911100  0.0\n",
       "1                        2003.161250   955.357822   73841  162044.316246  0.0\n",
       "2                         811.234360   295.550087   33462  104181.639310  0.0\n",
       "3                       12474.997186  6337.267279  287219  484365.746313  0.0\n",
       "4                        2821.405268  2106.176513   38096  130527.665183  0.0\n",
       "5                       12196.188868  6071.400617   22037  249645.056255  0.0\n",
       "6                        3669.793365  2667.113692   20347  103491.852668  0.0\n",
       "7                        3618.738586  2480.407212   29054   98989.890446  0.0\n",
       "8                        2959.520154  1903.393208   32531  105668.849500  0.0\n",
       "9                        1971.500257   951.234615   52939  114890.578061  0.0\n",
       "10                       1106.071628   345.090570   21236  105064.545695  0.0"
      ]
     },
     "execution_count": 74,
     "metadata": {},
     "output_type": "execute_result"
    }
   ],
   "source": [
    "# 这应该是个本地流量\n",
    "train.groupby(['current_service'])[['local_trafffic_month']].agg(['mean','median','count','max','min'])"
   ]
  },
  {
   "cell_type": "code",
   "execution_count": 75,
   "metadata": {},
   "outputs": [
    {
     "data": {
      "text/plain": [
       "<matplotlib.axes._subplots.AxesSubplot at 0x1e0829ae780>"
      ]
     },
     "execution_count": 75,
     "metadata": {},
     "output_type": "execute_result"
    },
    {
     "data": {
      "image/png": "[encoded data removed]",
      "text/plain": [
       "<Figure size 432x288 with 1 Axes>"
      ]
     },
     "metadata": {},
     "output_type": "display_data"
    }
   ],
   "source": [
    "sns.boxplot(train['current_service'], train['local_trafffic_month'])"
   ]
  },
  {
   "cell_type": "code",
   "execution_count": 79,
   "metadata": {},
   "outputs": [
    {
     "name": "stdout",
     "output_type": "stream",
     "text": [
      "<class 'pandas.core.frame.DataFrame'>\n",
      "Int64Index: 497 entries, 1677 to 743285\n",
      "Data columns (total 27 columns):\n",
      "service_type              497 non-null int64\n",
      "is_mix_service            497 non-null int64\n",
      "online_time               497 non-null int64\n",
      "1_total_fee               497 non-null float64\n",
      "2_total_fee               497 non-null float64\n",
      "3_total_fee               497 non-null float64\n",
      "4_total_fee               497 non-null float64\n",
      "month_traffic             497 non-null float64\n",
      "many_over_bill            497 non-null int64\n",
      "contract_type             497 non-null int64\n",
      "contract_time             497 non-null int64\n",
      "is_promise_low_consume    497 non-null int64\n",
      "net_service               497 non-null int64\n",
      "pay_times                 497 non-null int64\n",
      "pay_num                   497 non-null float64\n",
      "last_month_traffic        497 non-null float64\n",
      "local_trafffic_month      497 non-null float64\n",
      "local_caller_time         497 non-null float64\n",
      "service1_caller_time      497 non-null float64\n",
      "service2_caller_time      497 non-null float64\n",
      "gender                    497 non-null int64\n",
      "age                       497 non-null int64\n",
      "complaint_level           497 non-null int64\n",
      "former_complaint_num      497 non-null int64\n",
      "former_complaint_fee      497 non-null float64\n",
      "current_service           497 non-null int64\n",
      "user_id                   497 non-null object\n",
      "dtypes: float64(12), int64(14), object(1)\n",
      "memory usage: 108.7+ KB\n"
     ]
    }
   ],
   "source": [
    "erro3 = train[train['local_trafffic_month'] > 100000]\n",
    "erro3.info()"
   ]
  },
  {
   "cell_type": "markdown",
   "metadata": {},
   "source": [
    "### 本地语音主叫通话时长 local_caller_time"
   ]
  },
  {
   "cell_type": "code",
   "execution_count": 76,
   "metadata": {},
   "outputs": [
    {
     "data": {
      "text/html": [
       "<div>\n",
       "<style scoped>\n",
       "    .dataframe tbody tr th:only-of-type {\n",
       "        vertical-align: middle;\n",
       "    }\n",
       "\n",
       "    .dataframe tbody tr th {\n",
       "        vertical-align: top;\n",
       "    }\n",
       "\n",
       "    .dataframe thead tr th {\n",
       "        text-align: left;\n",
       "    }\n",
       "\n",
       "    .dataframe thead tr:last-of-type th {\n",
       "        text-align: right;\n",
       "    }\n",
       "</style>\n",
       "<table border=\"1\" class=\"dataframe\">\n",
       "  <thead>\n",
       "    <tr>\n",
       "      <th></th>\n",
       "      <th colspan=\"5\" halign=\"left\">local_caller_time</th>\n",
       "    </tr>\n",
       "    <tr>\n",
       "      <th></th>\n",
       "      <th>mean</th>\n",
       "      <th>median</th>\n",
       "      <th>count</th>\n",
       "      <th>max</th>\n",
       "      <th>min</th>\n",
       "    </tr>\n",
       "    <tr>\n",
       "      <th>current_service</th>\n",
       "      <th></th>\n",
       "      <th></th>\n",
       "      <th></th>\n",
       "      <th></th>\n",
       "      <th></th>\n",
       "    </tr>\n",
       "  </thead>\n",
       "  <tbody>\n",
       "    <tr>\n",
       "      <th>0</th>\n",
       "      <td>63.952437</td>\n",
       "      <td>32.583333</td>\n",
       "      <td>133224</td>\n",
       "      <td>3964.250000</td>\n",
       "      <td>0.0</td>\n",
       "    </tr>\n",
       "    <tr>\n",
       "      <th>1</th>\n",
       "      <td>90.896942</td>\n",
       "      <td>50.100000</td>\n",
       "      <td>73841</td>\n",
       "      <td>6461.050000</td>\n",
       "      <td>0.0</td>\n",
       "    </tr>\n",
       "    <tr>\n",
       "      <th>2</th>\n",
       "      <td>41.075203</td>\n",
       "      <td>16.525000</td>\n",
       "      <td>33462</td>\n",
       "      <td>2188.533333</td>\n",
       "      <td>0.0</td>\n",
       "    </tr>\n",
       "    <tr>\n",
       "      <th>3</th>\n",
       "      <td>19.772462</td>\n",
       "      <td>1.516667</td>\n",
       "      <td>287219</td>\n",
       "      <td>4922.983333</td>\n",
       "      <td>0.0</td>\n",
       "    </tr>\n",
       "    <tr>\n",
       "      <th>4</th>\n",
       "      <td>37.386463</td>\n",
       "      <td>10.316667</td>\n",
       "      <td>38096</td>\n",
       "      <td>2959.183333</td>\n",
       "      <td>0.0</td>\n",
       "    </tr>\n",
       "    <tr>\n",
       "      <th>5</th>\n",
       "      <td>65.907154</td>\n",
       "      <td>17.533333</td>\n",
       "      <td>22037</td>\n",
       "      <td>3890.233333</td>\n",
       "      <td>0.0</td>\n",
       "    </tr>\n",
       "    <tr>\n",
       "      <th>6</th>\n",
       "      <td>203.500450</td>\n",
       "      <td>125.100000</td>\n",
       "      <td>20347</td>\n",
       "      <td>3434.750000</td>\n",
       "      <td>0.0</td>\n",
       "    </tr>\n",
       "    <tr>\n",
       "      <th>7</th>\n",
       "      <td>137.982530</td>\n",
       "      <td>80.516667</td>\n",
       "      <td>29054</td>\n",
       "      <td>2849.516667</td>\n",
       "      <td>0.0</td>\n",
       "    </tr>\n",
       "    <tr>\n",
       "      <th>8</th>\n",
       "      <td>143.396272</td>\n",
       "      <td>86.016667</td>\n",
       "      <td>32531</td>\n",
       "      <td>1936.516667</td>\n",
       "      <td>0.0</td>\n",
       "    </tr>\n",
       "    <tr>\n",
       "      <th>9</th>\n",
       "      <td>147.366269</td>\n",
       "      <td>86.966667</td>\n",
       "      <td>52939</td>\n",
       "      <td>3531.083333</td>\n",
       "      <td>0.0</td>\n",
       "    </tr>\n",
       "    <tr>\n",
       "      <th>10</th>\n",
       "      <td>57.804501</td>\n",
       "      <td>23.275000</td>\n",
       "      <td>21236</td>\n",
       "      <td>2485.650000</td>\n",
       "      <td>0.0</td>\n",
       "    </tr>\n",
       "  </tbody>\n",
       "</table>\n",
       "</div>"
      ],
      "text/plain": [
       "                local_caller_time                                      \n",
       "                             mean      median   count          max  min\n",
       "current_service                                                        \n",
       "0                       63.952437   32.583333  133224  3964.250000  0.0\n",
       "1                       90.896942   50.100000   73841  6461.050000  0.0\n",
       "2                       41.075203   16.525000   33462  2188.533333  0.0\n",
       "3                       19.772462    1.516667  287219  4922.983333  0.0\n",
       "4                       37.386463   10.316667   38096  2959.183333  0.0\n",
       "5                       65.907154   17.533333   22037  3890.233333  0.0\n",
       "6                      203.500450  125.100000   20347  3434.750000  0.0\n",
       "7                      137.982530   80.516667   29054  2849.516667  0.0\n",
       "8                      143.396272   86.016667   32531  1936.516667  0.0\n",
       "9                      147.366269   86.966667   52939  3531.083333  0.0\n",
       "10                      57.804501   23.275000   21236  2485.650000  0.0"
      ]
     },
     "execution_count": 76,
     "metadata": {},
     "output_type": "execute_result"
    }
   ],
   "source": [
    "train.groupby(['current_service'])[['local_caller_time']].agg(['mean','median','count','max','min'])"
   ]
  },
  {
   "cell_type": "code",
   "execution_count": 77,
   "metadata": {},
   "outputs": [
    {
     "data": {
      "text/plain": [
       "<matplotlib.axes._subplots.AxesSubplot at 0x1e089d83cf8>"
      ]
     },
     "execution_count": 77,
     "metadata": {},
     "output_type": "execute_result"
    },
    {
     "data": {
      "image/png": "[encoded data removed]",
      "text/plain": [
       "<Figure size 432x288 with 1 Axes>"
      ]
     },
     "metadata": {},
     "output_type": "display_data"
    }
   ],
   "source": [
    "sns.boxplot(train['current_service'], train['local_caller_time'])"
   ]
  },
  {
   "cell_type": "code",
   "execution_count": 82,
   "metadata": {},
   "outputs": [
    {
     "name": "stdout",
     "output_type": "stream",
     "text": [
      "<class 'pandas.core.frame.DataFrame'>\n",
      "Int64Index: 233 entries, 570 to 736953\n",
      "Data columns (total 27 columns):\n",
      "service_type              233 non-null int64\n",
      "is_mix_service            233 non-null int64\n",
      "online_time               233 non-null int64\n",
      "1_total_fee               233 non-null float64\n",
      "2_total_fee               233 non-null float64\n",
      "3_total_fee               233 non-null float64\n",
      "4_total_fee               233 non-null float64\n",
      "month_traffic             233 non-null float64\n",
      "many_over_bill            233 non-null int64\n",
      "contract_type             233 non-null int64\n",
      "contract_time             233 non-null int64\n",
      "is_promise_low_consume    233 non-null int64\n",
      "net_service               233 non-null int64\n",
      "pay_times                 233 non-null int64\n",
      "pay_num                   233 non-null float64\n",
      "last_month_traffic        233 non-null float64\n",
      "local_trafffic_month      233 non-null float64\n",
      "local_caller_time         233 non-null float64\n",
      "service1_caller_time      233 non-null float64\n",
      "service2_caller_time      233 non-null float64\n",
      "gender                    233 non-null int64\n",
      "age                       233 non-null int64\n",
      "complaint_level           233 non-null int64\n",
      "former_complaint_num      233 non-null int64\n",
      "former_complaint_fee      233 non-null float64\n",
      "current_service           233 non-null int64\n",
      "user_id                   233 non-null object\n",
      "dtypes: float64(12), int64(14), object(1)\n",
      "memory usage: 51.0+ KB\n"
     ]
    }
   ],
   "source": [
    "erro3 = train[train['local_caller_time'] > 1500]\n",
    "erro3.info()"
   ]
  },
  {
   "cell_type": "markdown",
   "metadata": {},
   "source": [
    "### 套外主叫通话时长 service1_caller_time"
   ]
  },
  {
   "cell_type": "code",
   "execution_count": 83,
   "metadata": {},
   "outputs": [
    {
     "data": {
      "text/html": [
       "<div>\n",
       "<style scoped>\n",
       "    .dataframe tbody tr th:only-of-type {\n",
       "        vertical-align: middle;\n",
       "    }\n",
       "\n",
       "    .dataframe tbody tr th {\n",
       "        vertical-align: top;\n",
       "    }\n",
       "\n",
       "    .dataframe thead tr th {\n",
       "        text-align: left;\n",
       "    }\n",
       "\n",
       "    .dataframe thead tr:last-of-type th {\n",
       "        text-align: right;\n",
       "    }\n",
       "</style>\n",
       "<table border=\"1\" class=\"dataframe\">\n",
       "  <thead>\n",
       "    <tr>\n",
       "      <th></th>\n",
       "      <th colspan=\"5\" halign=\"left\">service1_caller_time</th>\n",
       "    </tr>\n",
       "    <tr>\n",
       "      <th></th>\n",
       "      <th>mean</th>\n",
       "      <th>median</th>\n",
       "      <th>count</th>\n",
       "      <th>max</th>\n",
       "      <th>min</th>\n",
       "    </tr>\n",
       "    <tr>\n",
       "      <th>current_service</th>\n",
       "      <th></th>\n",
       "      <th></th>\n",
       "      <th></th>\n",
       "      <th></th>\n",
       "      <th></th>\n",
       "    </tr>\n",
       "  </thead>\n",
       "  <tbody>\n",
       "    <tr>\n",
       "      <th>0</th>\n",
       "      <td>35.756558</td>\n",
       "      <td>0.000000</td>\n",
       "      <td>133224</td>\n",
       "      <td>3875.033333</td>\n",
       "      <td>0.0</td>\n",
       "    </tr>\n",
       "    <tr>\n",
       "      <th>1</th>\n",
       "      <td>42.341647</td>\n",
       "      <td>0.000000</td>\n",
       "      <td>73841</td>\n",
       "      <td>2958.800000</td>\n",
       "      <td>0.0</td>\n",
       "    </tr>\n",
       "    <tr>\n",
       "      <th>2</th>\n",
       "      <td>37.936182</td>\n",
       "      <td>0.000000</td>\n",
       "      <td>33462</td>\n",
       "      <td>2648.416667</td>\n",
       "      <td>0.0</td>\n",
       "    </tr>\n",
       "    <tr>\n",
       "      <th>3</th>\n",
       "      <td>50.504699</td>\n",
       "      <td>14.433333</td>\n",
       "      <td>287219</td>\n",
       "      <td>3722.283333</td>\n",
       "      <td>0.0</td>\n",
       "    </tr>\n",
       "    <tr>\n",
       "      <th>4</th>\n",
       "      <td>30.767200</td>\n",
       "      <td>0.000000</td>\n",
       "      <td>38096</td>\n",
       "      <td>3106.500000</td>\n",
       "      <td>0.0</td>\n",
       "    </tr>\n",
       "    <tr>\n",
       "      <th>5</th>\n",
       "      <td>13.509539</td>\n",
       "      <td>0.000000</td>\n",
       "      <td>22037</td>\n",
       "      <td>5139.483333</td>\n",
       "      <td>0.0</td>\n",
       "    </tr>\n",
       "    <tr>\n",
       "      <th>6</th>\n",
       "      <td>48.692824</td>\n",
       "      <td>0.000000</td>\n",
       "      <td>20347</td>\n",
       "      <td>3465.650000</td>\n",
       "      <td>0.0</td>\n",
       "    </tr>\n",
       "    <tr>\n",
       "      <th>7</th>\n",
       "      <td>57.397009</td>\n",
       "      <td>0.000000</td>\n",
       "      <td>29054</td>\n",
       "      <td>3769.916667</td>\n",
       "      <td>0.0</td>\n",
       "    </tr>\n",
       "    <tr>\n",
       "      <th>8</th>\n",
       "      <td>55.883909</td>\n",
       "      <td>0.000000</td>\n",
       "      <td>32531</td>\n",
       "      <td>4233.766667</td>\n",
       "      <td>0.0</td>\n",
       "    </tr>\n",
       "    <tr>\n",
       "      <th>9</th>\n",
       "      <td>54.512360</td>\n",
       "      <td>0.000000</td>\n",
       "      <td>52939</td>\n",
       "      <td>3088.566667</td>\n",
       "      <td>0.0</td>\n",
       "    </tr>\n",
       "    <tr>\n",
       "      <th>10</th>\n",
       "      <td>44.079081</td>\n",
       "      <td>0.000000</td>\n",
       "      <td>21236</td>\n",
       "      <td>2689.983333</td>\n",
       "      <td>0.0</td>\n",
       "    </tr>\n",
       "  </tbody>\n",
       "</table>\n",
       "</div>"
      ],
      "text/plain": [
       "                service1_caller_time                                     \n",
       "                                mean     median   count          max  min\n",
       "current_service                                                          \n",
       "0                          35.756558   0.000000  133224  3875.033333  0.0\n",
       "1                          42.341647   0.000000   73841  2958.800000  0.0\n",
       "2                          37.936182   0.000000   33462  2648.416667  0.0\n",
       "3                          50.504699  14.433333  287219  3722.283333  0.0\n",
       "4                          30.767200   0.000000   38096  3106.500000  0.0\n",
       "5                          13.509539   0.000000   22037  5139.483333  0.0\n",
       "6                          48.692824   0.000000   20347  3465.650000  0.0\n",
       "7                          57.397009   0.000000   29054  3769.916667  0.0\n",
       "8                          55.883909   0.000000   32531  4233.766667  0.0\n",
       "9                          54.512360   0.000000   52939  3088.566667  0.0\n",
       "10                         44.079081   0.000000   21236  2689.983333  0.0"
      ]
     },
     "execution_count": 83,
     "metadata": {},
     "output_type": "execute_result"
    }
   ],
   "source": [
    "train.groupby(['current_service'])[['service1_caller_time']].agg(['mean','median','count','max','min'])"
   ]
  },
  {
   "cell_type": "code",
   "execution_count": 84,
   "metadata": {},
   "outputs": [
    {
     "data": {
      "text/plain": [
       "<matplotlib.axes._subplots.AxesSubplot at 0x1e093842d68>"
      ]
     },
     "execution_count": 84,
     "metadata": {},
     "output_type": "execute_result"
    },
    {
     "data": {
      "image/png": "[encoded data removed]",
      "text/plain": [
       "<Figure size 432x288 with 1 Axes>"
      ]
     },
     "metadata": {},
     "output_type": "display_data"
    }
   ],
   "source": [
    "sns.boxplot(train['current_service'], train['service1_caller_time'])"
   ]
  },
  {
   "cell_type": "code",
   "execution_count": 87,
   "metadata": {},
   "outputs": [
    {
     "name": "stdout",
     "output_type": "stream",
     "text": [
      "<class 'pandas.core.frame.DataFrame'>\n",
      "Int64Index: 307 entries, 2752 to 742167\n",
      "Data columns (total 27 columns):\n",
      "service_type              307 non-null int64\n",
      "is_mix_service            307 non-null int64\n",
      "online_time               307 non-null int64\n",
      "1_total_fee               307 non-null float64\n",
      "2_total_fee               307 non-null float64\n",
      "3_total_fee               307 non-null float64\n",
      "4_total_fee               307 non-null float64\n",
      "month_traffic             307 non-null float64\n",
      "many_over_bill            307 non-null int64\n",
      "contract_type             307 non-null int64\n",
      "contract_time             307 non-null int64\n",
      "is_promise_low_consume    307 non-null int64\n",
      "net_service               307 non-null int64\n",
      "pay_times                 307 non-null int64\n",
      "pay_num                   307 non-null float64\n",
      "last_month_traffic        307 non-null float64\n",
      "local_trafffic_month      307 non-null float64\n",
      "local_caller_time         307 non-null float64\n",
      "service1_caller_time      307 non-null float64\n",
      "service2_caller_time      307 non-null float64\n",
      "gender                    307 non-null int64\n",
      "age                       307 non-null int64\n",
      "complaint_level           307 non-null int64\n",
      "former_complaint_num      307 non-null int64\n",
      "former_complaint_fee      307 non-null float64\n",
      "current_service           307 non-null int64\n",
      "user_id                   307 non-null object\n",
      "dtypes: float64(12), int64(14), object(1)\n",
      "memory usage: 67.2+ KB\n"
     ]
    }
   ],
   "source": [
    "erro5 = train[train['service1_caller_time'] > 1500]\n",
    "erro5.info()"
   ]
  },
  {
   "cell_type": "code",
   "execution_count": 88,
   "metadata": {},
   "outputs": [
    {
     "data": {
      "text/html": [
       "<div>\n",
       "<style scoped>\n",
       "    .dataframe tbody tr th:only-of-type {\n",
       "        vertical-align: middle;\n",
       "    }\n",
       "\n",
       "    .dataframe tbody tr th {\n",
       "        vertical-align: top;\n",
       "    }\n",
       "\n",
       "    .dataframe thead tr th {\n",
       "        text-align: left;\n",
       "    }\n",
       "\n",
       "    .dataframe thead tr:last-of-type th {\n",
       "        text-align: right;\n",
       "    }\n",
       "</style>\n",
       "<table border=\"1\" class=\"dataframe\">\n",
       "  <thead>\n",
       "    <tr>\n",
       "      <th></th>\n",
       "      <th colspan=\"5\" halign=\"left\">service2_caller_time</th>\n",
       "    </tr>\n",
       "    <tr>\n",
       "      <th></th>\n",
       "      <th>mean</th>\n",
       "      <th>median</th>\n",
       "      <th>count</th>\n",
       "      <th>max</th>\n",
       "      <th>min</th>\n",
       "    </tr>\n",
       "    <tr>\n",
       "      <th>current_service</th>\n",
       "      <th></th>\n",
       "      <th></th>\n",
       "      <th></th>\n",
       "      <th></th>\n",
       "      <th></th>\n",
       "    </tr>\n",
       "  </thead>\n",
       "  <tbody>\n",
       "    <tr>\n",
       "      <th>0</th>\n",
       "      <td>101.866921</td>\n",
       "      <td>101.866667</td>\n",
       "      <td>133224</td>\n",
       "      <td>3931.200000</td>\n",
       "      <td>0.0</td>\n",
       "    </tr>\n",
       "    <tr>\n",
       "      <th>1</th>\n",
       "      <td>139.616041</td>\n",
       "      <td>136.583333</td>\n",
       "      <td>73841</td>\n",
       "      <td>6509.850000</td>\n",
       "      <td>0.0</td>\n",
       "    </tr>\n",
       "    <tr>\n",
       "      <th>2</th>\n",
       "      <td>50.289821</td>\n",
       "      <td>54.100000</td>\n",
       "      <td>33462</td>\n",
       "      <td>998.900000</td>\n",
       "      <td>0.0</td>\n",
       "    </tr>\n",
       "    <tr>\n",
       "      <th>3</th>\n",
       "      <td>9.355695</td>\n",
       "      <td>0.000000</td>\n",
       "      <td>287219</td>\n",
       "      <td>16454.383333</td>\n",
       "      <td>0.0</td>\n",
       "    </tr>\n",
       "    <tr>\n",
       "      <th>4</th>\n",
       "      <td>77.036990</td>\n",
       "      <td>58.333333</td>\n",
       "      <td>38096</td>\n",
       "      <td>5670.683333</td>\n",
       "      <td>0.0</td>\n",
       "    </tr>\n",
       "    <tr>\n",
       "      <th>5</th>\n",
       "      <td>161.500832</td>\n",
       "      <td>103.233333</td>\n",
       "      <td>22037</td>\n",
       "      <td>2872.316667</td>\n",
       "      <td>0.0</td>\n",
       "    </tr>\n",
       "    <tr>\n",
       "      <th>6</th>\n",
       "      <td>388.803626</td>\n",
       "      <td>337.250000</td>\n",
       "      <td>20347</td>\n",
       "      <td>1803.100000</td>\n",
       "      <td>0.0</td>\n",
       "    </tr>\n",
       "    <tr>\n",
       "      <th>7</th>\n",
       "      <td>224.951487</td>\n",
       "      <td>207.375000</td>\n",
       "      <td>29054</td>\n",
       "      <td>2599.933333</td>\n",
       "      <td>0.0</td>\n",
       "    </tr>\n",
       "    <tr>\n",
       "      <th>8</th>\n",
       "      <td>230.724700</td>\n",
       "      <td>217.916667</td>\n",
       "      <td>32531</td>\n",
       "      <td>1508.183333</td>\n",
       "      <td>0.0</td>\n",
       "    </tr>\n",
       "    <tr>\n",
       "      <th>9</th>\n",
       "      <td>244.999071</td>\n",
       "      <td>239.900000</td>\n",
       "      <td>52939</td>\n",
       "      <td>3619.683333</td>\n",
       "      <td>0.0</td>\n",
       "    </tr>\n",
       "    <tr>\n",
       "      <th>10</th>\n",
       "      <td>90.633944</td>\n",
       "      <td>94.183333</td>\n",
       "      <td>21236</td>\n",
       "      <td>542.683333</td>\n",
       "      <td>0.0</td>\n",
       "    </tr>\n",
       "  </tbody>\n",
       "</table>\n",
       "</div>"
      ],
      "text/plain": [
       "                service2_caller_time                                       \n",
       "                                mean      median   count           max  min\n",
       "current_service                                                            \n",
       "0                         101.866921  101.866667  133224   3931.200000  0.0\n",
       "1                         139.616041  136.583333   73841   6509.850000  0.0\n",
       "2                          50.289821   54.100000   33462    998.900000  0.0\n",
       "3                           9.355695    0.000000  287219  16454.383333  0.0\n",
       "4                          77.036990   58.333333   38096   5670.683333  0.0\n",
       "5                         161.500832  103.233333   22037   2872.316667  0.0\n",
       "6                         388.803626  337.250000   20347   1803.100000  0.0\n",
       "7                         224.951487  207.375000   29054   2599.933333  0.0\n",
       "8                         230.724700  217.916667   32531   1508.183333  0.0\n",
       "9                         244.999071  239.900000   52939   3619.683333  0.0\n",
       "10                         90.633944   94.183333   21236    542.683333  0.0"
      ]
     },
     "execution_count": 88,
     "metadata": {},
     "output_type": "execute_result"
    }
   ],
   "source": [
    "# Service2_caller_time\t\n",
    "train.groupby(['current_service'])[['service2_caller_time']].agg(['mean','median','count','max','min'])"
   ]
  },
  {
   "cell_type": "code",
   "execution_count": 89,
   "metadata": {},
   "outputs": [
    {
     "data": {
      "text/plain": [
       "<matplotlib.axes._subplots.AxesSubplot at 0x1e09396bb00>"
      ]
     },
     "execution_count": 89,
     "metadata": {},
     "output_type": "execute_result"
    },
    {
     "data": {
      "image/png": "[encoded data removed]",
      "text/plain": [
       "<Figure size 432x288 with 1 Axes>"
      ]
     },
     "metadata": {},
     "output_type": "display_data"
    }
   ],
   "source": [
    "sns.boxplot(train['current_service'], train['service2_caller_time'])"
   ]
  },
  {
   "cell_type": "markdown",
   "metadata": {},
   "source": [
    "### 性别 gender"
   ]
  },
  {
   "cell_type": "code",
   "execution_count": 90,
   "metadata": {},
   "outputs": [
    {
     "data": {
      "text/plain": [
       "1    504975\n",
       "2    216103\n",
       "0     22908\n",
       "Name: gender, dtype: int64"
      ]
     },
     "execution_count": 90,
     "metadata": {},
     "output_type": "execute_result"
    }
   ],
   "source": [
    "train['gender'].value_counts()\n"
   ]
  },
  {
   "cell_type": "code",
   "execution_count": 91,
   "metadata": {},
   "outputs": [
    {
     "data": {
      "text/plain": [
       "<matplotlib.axes._subplots.AxesSubplot at 0x1e093a914e0>"
      ]
     },
     "execution_count": 91,
     "metadata": {},
     "output_type": "execute_result"
    },
    {
     "data": {
      "image/png": "[encoded data removed]",
      "text/plain": [
       "<Figure size 432x288 with 1 Axes>"
      ]
     },
     "metadata": {},
     "output_type": "display_data"
    }
   ],
   "source": [
    "sns.countplot('current_service', hue='gender', data=train)"
   ]
  },
  {
   "cell_type": "markdown",
   "metadata": {},
   "source": [
    "### 年龄 age"
   ]
  },
  {
   "cell_type": "code",
   "execution_count": 92,
   "metadata": {},
   "outputs": [
    {
     "data": {
      "text/html": [
       "<div>\n",
       "<style scoped>\n",
       "    .dataframe tbody tr th:only-of-type {\n",
       "        vertical-align: middle;\n",
       "    }\n",
       "\n",
       "    .dataframe tbody tr th {\n",
       "        vertical-align: top;\n",
       "    }\n",
       "\n",
       "    .dataframe thead tr th {\n",
       "        text-align: left;\n",
       "    }\n",
       "\n",
       "    .dataframe thead tr:last-of-type th {\n",
       "        text-align: right;\n",
       "    }\n",
       "</style>\n",
       "<table border=\"1\" class=\"dataframe\">\n",
       "  <thead>\n",
       "    <tr>\n",
       "      <th></th>\n",
       "      <th colspan=\"5\" halign=\"left\">age</th>\n",
       "    </tr>\n",
       "    <tr>\n",
       "      <th></th>\n",
       "      <th>mean</th>\n",
       "      <th>median</th>\n",
       "      <th>count</th>\n",
       "      <th>max</th>\n",
       "      <th>min</th>\n",
       "    </tr>\n",
       "    <tr>\n",
       "      <th>current_service</th>\n",
       "      <th></th>\n",
       "      <th></th>\n",
       "      <th></th>\n",
       "      <th></th>\n",
       "      <th></th>\n",
       "    </tr>\n",
       "  </thead>\n",
       "  <tbody>\n",
       "    <tr>\n",
       "      <th>0</th>\n",
       "      <td>35.992074</td>\n",
       "      <td>34</td>\n",
       "      <td>133224</td>\n",
       "      <td>93</td>\n",
       "      <td>0</td>\n",
       "    </tr>\n",
       "    <tr>\n",
       "      <th>1</th>\n",
       "      <td>35.386086</td>\n",
       "      <td>35</td>\n",
       "      <td>73841</td>\n",
       "      <td>85</td>\n",
       "      <td>0</td>\n",
       "    </tr>\n",
       "    <tr>\n",
       "      <th>2</th>\n",
       "      <td>39.178083</td>\n",
       "      <td>38</td>\n",
       "      <td>33462</td>\n",
       "      <td>99</td>\n",
       "      <td>0</td>\n",
       "    </tr>\n",
       "    <tr>\n",
       "      <th>3</th>\n",
       "      <td>27.404548</td>\n",
       "      <td>25</td>\n",
       "      <td>287219</td>\n",
       "      <td>89</td>\n",
       "      <td>0</td>\n",
       "    </tr>\n",
       "    <tr>\n",
       "      <th>4</th>\n",
       "      <td>27.276197</td>\n",
       "      <td>26</td>\n",
       "      <td>38096</td>\n",
       "      <td>76</td>\n",
       "      <td>0</td>\n",
       "    </tr>\n",
       "    <tr>\n",
       "      <th>5</th>\n",
       "      <td>27.210419</td>\n",
       "      <td>26</td>\n",
       "      <td>22037</td>\n",
       "      <td>76</td>\n",
       "      <td>0</td>\n",
       "    </tr>\n",
       "    <tr>\n",
       "      <th>6</th>\n",
       "      <td>31.665651</td>\n",
       "      <td>35</td>\n",
       "      <td>20347</td>\n",
       "      <td>80</td>\n",
       "      <td>0</td>\n",
       "    </tr>\n",
       "    <tr>\n",
       "      <th>7</th>\n",
       "      <td>31.369071</td>\n",
       "      <td>33</td>\n",
       "      <td>29054</td>\n",
       "      <td>78</td>\n",
       "      <td>0</td>\n",
       "    </tr>\n",
       "    <tr>\n",
       "      <th>8</th>\n",
       "      <td>32.986075</td>\n",
       "      <td>33</td>\n",
       "      <td>32531</td>\n",
       "      <td>85</td>\n",
       "      <td>0</td>\n",
       "    </tr>\n",
       "    <tr>\n",
       "      <th>9</th>\n",
       "      <td>33.108332</td>\n",
       "      <td>34</td>\n",
       "      <td>52939</td>\n",
       "      <td>89</td>\n",
       "      <td>0</td>\n",
       "    </tr>\n",
       "    <tr>\n",
       "      <th>10</th>\n",
       "      <td>35.907892</td>\n",
       "      <td>35</td>\n",
       "      <td>21236</td>\n",
       "      <td>87</td>\n",
       "      <td>0</td>\n",
       "    </tr>\n",
       "  </tbody>\n",
       "</table>\n",
       "</div>"
      ],
      "text/plain": [
       "                       age                       \n",
       "                      mean median   count max min\n",
       "current_service                                  \n",
       "0                35.992074     34  133224  93   0\n",
       "1                35.386086     35   73841  85   0\n",
       "2                39.178083     38   33462  99   0\n",
       "3                27.404548     25  287219  89   0\n",
       "4                27.276197     26   38096  76   0\n",
       "5                27.210419     26   22037  76   0\n",
       "6                31.665651     35   20347  80   0\n",
       "7                31.369071     33   29054  78   0\n",
       "8                32.986075     33   32531  85   0\n",
       "9                33.108332     34   52939  89   0\n",
       "10               35.907892     35   21236  87   0"
      ]
     },
     "execution_count": 92,
     "metadata": {},
     "output_type": "execute_result"
    }
   ],
   "source": [
    "train.groupby(['current_service'])[['age']].agg(['mean','median','count','max','min'])\n"
   ]
  },
  {
   "cell_type": "markdown",
   "metadata": {},
   "source": [
    "### 投诉重要性  complaint_level  1：普通，2：重要，3：重大"
   ]
  },
  {
   "cell_type": "code",
   "execution_count": 93,
   "metadata": {},
   "outputs": [
    {
     "data": {
      "text/plain": [
       "0    669954\n",
       "1     63898\n",
       "2      8027\n",
       "3      2107\n",
       "Name: complaint_level, dtype: int64"
      ]
     },
     "execution_count": 93,
     "metadata": {},
     "output_type": "execute_result"
    }
   ],
   "source": [
    "train['complaint_level'].value_counts()\n",
    "# 0? 没有投诉？"
   ]
  },
  {
   "cell_type": "code",
   "execution_count": 94,
   "metadata": {},
   "outputs": [
    {
     "data": {
      "text/plain": [
       "<matplotlib.axes._subplots.AxesSubplot at 0x1e093b503c8>"
      ]
     },
     "execution_count": 94,
     "metadata": {},
     "output_type": "execute_result"
    },
    {
     "data": {
      "image/png": "[encoded data removed]",
      "text/plain": [
       "<Figure size 432x288 with 1 Axes>"
      ]
     },
     "metadata": {},
     "output_type": "display_data"
    }
   ],
   "source": [
    "sns.countplot('current_service', hue='complaint_level', data=train)"
   ]
  },
  {
   "cell_type": "markdown",
   "metadata": {},
   "source": [
    "#### 交费金历史投诉总量 former_complaint_num 次数"
   ]
  },
  {
   "cell_type": "code",
   "execution_count": 95,
   "metadata": {},
   "outputs": [
    {
     "data": {
      "text/plain": [
       "0     669954\n",
       "1      55362\n",
       "2      14547\n",
       "3       2496\n",
       "4        954\n",
       "5        327\n",
       "6        166\n",
       "7         76\n",
       "8         41\n",
       "9         22\n",
       "10        11\n",
       "11        10\n",
       "13         5\n",
       "12         4\n",
       "14         3\n",
       "17         3\n",
       "19         2\n",
       "15         1\n",
       "16         1\n",
       "22         1\n",
       "Name: former_complaint_num, dtype: int64"
      ]
     },
     "execution_count": 95,
     "metadata": {},
     "output_type": "execute_result"
    }
   ],
   "source": [
    "train['former_complaint_num'].value_counts()"
   ]
  },
  {
   "cell_type": "markdown",
   "metadata": {},
   "source": [
    "#### 历史执行补救费用交费金额 former_complaint_fee"
   ]
  },
  {
   "cell_type": "code",
   "execution_count": 96,
   "metadata": {},
   "outputs": [
    {
     "data": {
      "text/html": [
       "<div>\n",
       "<style scoped>\n",
       "    .dataframe tbody tr th:only-of-type {\n",
       "        vertical-align: middle;\n",
       "    }\n",
       "\n",
       "    .dataframe tbody tr th {\n",
       "        vertical-align: top;\n",
       "    }\n",
       "\n",
       "    .dataframe thead tr th {\n",
       "        text-align: left;\n",
       "    }\n",
       "\n",
       "    .dataframe thead tr:last-of-type th {\n",
       "        text-align: right;\n",
       "    }\n",
       "</style>\n",
       "<table border=\"1\" class=\"dataframe\">\n",
       "  <thead>\n",
       "    <tr>\n",
       "      <th></th>\n",
       "      <th colspan=\"3\" halign=\"left\">former_complaint_fee</th>\n",
       "    </tr>\n",
       "    <tr>\n",
       "      <th></th>\n",
       "      <th>mean</th>\n",
       "      <th>median</th>\n",
       "      <th>count</th>\n",
       "    </tr>\n",
       "    <tr>\n",
       "      <th>current_service</th>\n",
       "      <th></th>\n",
       "      <th></th>\n",
       "      <th></th>\n",
       "    </tr>\n",
       "  </thead>\n",
       "  <tbody>\n",
       "    <tr>\n",
       "      <th>0</th>\n",
       "      <td>9.768076e+06</td>\n",
       "      <td>0.0</td>\n",
       "      <td>133224</td>\n",
       "    </tr>\n",
       "    <tr>\n",
       "      <th>1</th>\n",
       "      <td>5.083980e+02</td>\n",
       "      <td>0.0</td>\n",
       "      <td>73841</td>\n",
       "    </tr>\n",
       "    <tr>\n",
       "      <th>2</th>\n",
       "      <td>8.484126e+02</td>\n",
       "      <td>0.0</td>\n",
       "      <td>33462</td>\n",
       "    </tr>\n",
       "    <tr>\n",
       "      <th>3</th>\n",
       "      <td>6.135326e+06</td>\n",
       "      <td>0.0</td>\n",
       "      <td>287219</td>\n",
       "    </tr>\n",
       "    <tr>\n",
       "      <th>4</th>\n",
       "      <td>8.384607e+01</td>\n",
       "      <td>0.0</td>\n",
       "      <td>38096</td>\n",
       "    </tr>\n",
       "    <tr>\n",
       "      <th>5</th>\n",
       "      <td>7.257785e+01</td>\n",
       "      <td>0.0</td>\n",
       "      <td>22037</td>\n",
       "    </tr>\n",
       "    <tr>\n",
       "      <th>6</th>\n",
       "      <td>8.343464e+02</td>\n",
       "      <td>0.0</td>\n",
       "      <td>20347</td>\n",
       "    </tr>\n",
       "    <tr>\n",
       "      <th>7</th>\n",
       "      <td>7.433390e+02</td>\n",
       "      <td>0.0</td>\n",
       "      <td>29054</td>\n",
       "    </tr>\n",
       "    <tr>\n",
       "      <th>8</th>\n",
       "      <td>6.523933e+02</td>\n",
       "      <td>0.0</td>\n",
       "      <td>32531</td>\n",
       "    </tr>\n",
       "    <tr>\n",
       "      <th>9</th>\n",
       "      <td>5.352955e+02</td>\n",
       "      <td>0.0</td>\n",
       "      <td>52939</td>\n",
       "    </tr>\n",
       "    <tr>\n",
       "      <th>10</th>\n",
       "      <td>3.248677e+02</td>\n",
       "      <td>0.0</td>\n",
       "      <td>21236</td>\n",
       "    </tr>\n",
       "  </tbody>\n",
       "</table>\n",
       "</div>"
      ],
      "text/plain": [
       "                former_complaint_fee               \n",
       "                                mean median   count\n",
       "current_service                                    \n",
       "0                       9.768076e+06    0.0  133224\n",
       "1                       5.083980e+02    0.0   73841\n",
       "2                       8.484126e+02    0.0   33462\n",
       "3                       6.135326e+06    0.0  287219\n",
       "4                       8.384607e+01    0.0   38096\n",
       "5                       7.257785e+01    0.0   22037\n",
       "6                       8.343464e+02    0.0   20347\n",
       "7                       7.433390e+02    0.0   29054\n",
       "8                       6.523933e+02    0.0   32531\n",
       "9                       5.352955e+02    0.0   52939\n",
       "10                      3.248677e+02    0.0   21236"
      ]
     },
     "execution_count": 96,
     "metadata": {},
     "output_type": "execute_result"
    }
   ],
   "source": [
    "train.groupby(['current_service'])[['former_complaint_fee']].agg(['mean','median','count'])"
   ]
  },
  {
   "cell_type": "markdown",
   "metadata": {},
   "source": [
    "## 特征工程"
   ]
  },
  {
   "cell_type": "code",
   "execution_count": 247,
   "metadata": {},
   "outputs": [
    {
     "data": {
      "text/plain": [
       "(612652, 262565)"
      ]
     },
     "execution_count": 247,
     "metadata": {},
     "output_type": "execute_result"
    }
   ],
   "source": [
    "ntrain = train.shape[0]\n",
    "ntest = test.shape[0]\n",
    "ntrain,ntest"
   ]
  },
  {
   "cell_type": "code",
   "execution_count": 248,
   "metadata": {},
   "outputs": [
    {
     "name": "stderr",
     "output_type": "stream",
     "text": [
      "F:\\anaconda\\lib\\site-packages\\ipykernel_launcher.py:3: FutureWarning: Sorting because non-concatenation axis is not aligned. A future version\n",
      "of pandas will change to not sort by default.\n",
      "\n",
      "To accept the future behavior, pass 'sort=False'.\n",
      "\n",
      "To retain the current behavior and silence the warning, pass 'sort=True'.\n",
      "\n",
      "  This is separate from the ipykernel package so we can avoid doing imports until\n"
     ]
    }
   ],
   "source": [
    "test['current_service'] = None\n",
    "\n",
    "train_test = pd.concat((train, test)).reset_index(drop=True)"
   ]
  },
  {
   "cell_type": "code",
   "execution_count": 249,
   "metadata": {},
   "outputs": [
    {
     "name": "stdout",
     "output_type": "stream",
     "text": [
      "<class 'pandas.core.frame.DataFrame'>\n",
      "RangeIndex: 875217 entries, 0 to 875216\n",
      "Data columns (total 27 columns):\n",
      "1_total_fee               875217 non-null float64\n",
      "2_total_fee               875213 non-null object\n",
      "3_total_fee               875216 non-null object\n",
      "4_total_fee               875217 non-null float64\n",
      "age                       875215 non-null float64\n",
      "complaint_level           875217 non-null int64\n",
      "contract_time             875217 non-null int64\n",
      "contract_type             875217 non-null int64\n",
      "current_service           612652 non-null object\n",
      "former_complaint_fee      875217 non-null float64\n",
      "former_complaint_num      875217 non-null int64\n",
      "gender                    875215 non-null float64\n",
      "is_mix_service            875217 non-null int64\n",
      "is_promise_low_consume    875217 non-null int64\n",
      "last_month_traffic        875217 non-null float64\n",
      "local_caller_time         875217 non-null float64\n",
      "local_trafffic_month      875217 non-null float64\n",
      "many_over_bill            875217 non-null int64\n",
      "month_traffic             875217 non-null float64\n",
      "net_service               875217 non-null int64\n",
      "online_time               875217 non-null int64\n",
      "pay_num                   875217 non-null float64\n",
      "pay_times                 875217 non-null int64\n",
      "service1_caller_time      875217 non-null float64\n",
      "service2_caller_time      875217 non-null float64\n",
      "service_type              875217 non-null int64\n",
      "user_id                   875217 non-null object\n",
      "dtypes: float64(12), int64(11), object(4)\n",
      "memory usage: 180.3+ MB\n"
     ]
    }
   ],
   "source": [
    "train_test.info()"
   ]
  },
  {
   "cell_type": "code",
   "execution_count": 250,
   "metadata": {},
   "outputs": [
    {
     "data": {
      "text/plain": [
       "current_service           262565\n",
       "2_total_fee                    4\n",
       "age                            2\n",
       "gender                         2\n",
       "3_total_fee                    1\n",
       "user_id                        0\n",
       "is_mix_service                 0\n",
       "4_total_fee                    0\n",
       "complaint_level                0\n",
       "contract_time                  0\n",
       "contract_type                  0\n",
       "former_complaint_fee           0\n",
       "former_complaint_num           0\n",
       "is_promise_low_consume         0\n",
       "service_type                   0\n",
       "last_month_traffic             0\n",
       "local_caller_time              0\n",
       "local_trafffic_month           0\n",
       "many_over_bill                 0\n",
       "month_traffic                  0\n",
       "net_service                    0\n",
       "online_time                    0\n",
       "pay_num                        0\n",
       "pay_times                      0\n",
       "service1_caller_time           0\n",
       "service2_caller_time           0\n",
       "1_total_fee                    0\n",
       "dtype: int64"
      ]
     },
     "execution_count": 250,
     "metadata": {},
     "output_type": "execute_result"
    }
   ],
   "source": [
    "total = train_test.isnull().sum().sort_values(ascending=False)\n",
    "total"
   ]
  },
  {
   "cell_type": "code",
   "execution_count": 251,
   "metadata": {},
   "outputs": [],
   "source": [
    "zero_col = ['2_total_fee', 'age', 'gender', '3_total_fee']\n",
    "\n",
    "for col in zero_col:\n",
    "    train_test[col].fillna(0, inplace=True)"
   ]
  },
  {
   "cell_type": "code",
   "execution_count": 252,
   "metadata": {},
   "outputs": [],
   "source": [
    "# 用户id应该是无用标签\n",
    "train_test.drop('user_id', axis=1, inplace=True)\n",
    "train_test.drop('current_service', axis=1, inplace=True)"
   ]
  },
  {
   "cell_type": "code",
   "execution_count": 253,
   "metadata": {},
   "outputs": [
    {
     "name": "stderr",
     "output_type": "stream",
     "text": [
      "F:\\anaconda\\lib\\site-packages\\ipykernel_launcher.py:1: FutureWarning: convert_objects is deprecated.  To re-infer data dtypes for object columns, use Series.infer_objects()\n",
      "For all other conversions use the data-type specific converters pd.to_datetime, pd.to_timedelta and pd.to_numeric.\n",
      "  \"\"\"Entry point for launching an IPython kernel.\n"
     ]
    }
   ],
   "source": [
    "train_test['gender'] = train['gender'].convert_objects(convert_numeric=True)\n",
    "\n",
    "train_test.loc[train_test['gender'] == 0.0, 'gender_0'] = 1\n",
    "\n",
    "train_test.loc[train_test['gender'] != 0.0, 'gender_0'] = 0\n",
    "\n",
    "train_test.loc[train_test['gender'] == 1.0, 'gender_1'] = 1\n",
    "\n",
    "train_test.loc[train_test['gender'] != 1.0, 'gender_1'] = 0\n",
    "\n",
    "train_test.loc[train_test['gender'] == 2.0, 'gender_2'] = 1\n",
    "\n",
    "train_test.loc[train_test['gender'] != 2.0, 'gender_2'] = 0\n",
    "\n",
    "train_test.drop('gender', axis=1, inplace=True)\n"
   ]
  },
  {
   "cell_type": "code",
   "execution_count": 254,
   "metadata": {},
   "outputs": [
    {
     "name": "stdout",
     "output_type": "stream",
     "text": [
      "<class 'pandas.core.frame.DataFrame'>\n",
      "RangeIndex: 875217 entries, 0 to 875216\n",
      "Data columns (total 27 columns):\n",
      "1_total_fee               875217 non-null float64\n",
      "2_total_fee               875217 non-null object\n",
      "3_total_fee               875217 non-null object\n",
      "4_total_fee               875217 non-null float64\n",
      "age                       875217 non-null float64\n",
      "complaint_level           875217 non-null object\n",
      "contract_time             875217 non-null int64\n",
      "contract_type             875217 non-null object\n",
      "former_complaint_fee      875217 non-null float64\n",
      "former_complaint_num      875217 non-null int64\n",
      "is_mix_service            875217 non-null object\n",
      "is_promise_low_consume    875217 non-null object\n",
      "last_month_traffic        875217 non-null float64\n",
      "local_caller_time         875217 non-null float64\n",
      "local_trafffic_month      875217 non-null float64\n",
      "many_over_bill            875217 non-null object\n",
      "month_traffic             875217 non-null float64\n",
      "net_service               875217 non-null object\n",
      "online_time               875217 non-null int64\n",
      "pay_num                   875217 non-null float64\n",
      "pay_times                 875217 non-null int64\n",
      "service1_caller_time      875217 non-null float64\n",
      "service2_caller_time      875217 non-null float64\n",
      "service_type              875217 non-null object\n",
      "gender_0                  875217 non-null float64\n",
      "gender_1                  875217 non-null float64\n",
      "gender_2                  875217 non-null float64\n",
      "dtypes: float64(14), int64(4), object(9)\n",
      "memory usage: 180.3+ MB\n"
     ]
    }
   ],
   "source": [
    "#NumStr = ['service_type', 'is_mix_service', 'many_over_bill', 'contract_type', 'is_promise_low_consume', 'net_service', 'gender', 'complaint_level']\n",
    "\n",
    "train_test['service_type'] = train_test['service_type'].astype(str)\n",
    "train_test['is_mix_service'] = train_test['is_mix_service'].astype(str)\n",
    "train_test['many_over_bill'] = train_test['many_over_bill'].astype(str)\n",
    "train_test['contract_type'] = train_test['contract_type'].astype(str)\n",
    "train_test['is_promise_low_consume'] = train_test['is_promise_low_consume'].astype(str)\n",
    "train_test['net_service'] = train_test['net_service'].astype(str)\n",
    "\n",
    "#train_test['gender'] = train_test['gender'].astype(str)\n",
    "train_test['complaint_level'] = train_test['complaint_level'].astype(str)\n",
    "#train_test['2_total_fee'] = train['2_total_fee'].convert_objects(convert_numeric=True)\n",
    "#train_test['3_total_fee'] = train['3_total_fee'].convert_objects(convert_numeric=True)\n",
    "train_test.info()\n",
    "\n",
    "#for col in NumStr:\n",
    "#    train_test[col] = train_test[col].astype(str)"
   ]
  },
  {
   "cell_type": "code",
   "execution_count": 255,
   "metadata": {},
   "outputs": [
    {
     "name": "stdout",
     "output_type": "stream",
     "text": [
      "\n",
      "Skew in numerical features: \n",
      "\n"
     ]
    },
    {
     "data": {
      "text/html": [
       "<div>\n",
       "<style scoped>\n",
       "    .dataframe tbody tr th:only-of-type {\n",
       "        vertical-align: middle;\n",
       "    }\n",
       "\n",
       "    .dataframe tbody tr th {\n",
       "        vertical-align: top;\n",
       "    }\n",
       "\n",
       "    .dataframe thead th {\n",
       "        text-align: right;\n",
       "    }\n",
       "</style>\n",
       "<table border=\"1\" class=\"dataframe\">\n",
       "  <thead>\n",
       "    <tr style=\"text-align: right;\">\n",
       "      <th></th>\n",
       "      <th>Skew</th>\n",
       "    </tr>\n",
       "  </thead>\n",
       "  <tbody>\n",
       "    <tr>\n",
       "      <th>former_complaint_fee</th>\n",
       "      <td>683.112780</td>\n",
       "    </tr>\n",
       "    <tr>\n",
       "      <th>pay_num</th>\n",
       "      <td>80.170307</td>\n",
       "    </tr>\n",
       "    <tr>\n",
       "      <th>last_month_traffic</th>\n",
       "      <td>32.424503</td>\n",
       "    </tr>\n",
       "    <tr>\n",
       "      <th>month_traffic</th>\n",
       "      <td>9.622002</td>\n",
       "    </tr>\n",
       "    <tr>\n",
       "      <th>pay_times</th>\n",
       "      <td>8.277657</td>\n",
       "    </tr>\n",
       "    <tr>\n",
       "      <th>former_complaint_num</th>\n",
       "      <td>6.718831</td>\n",
       "    </tr>\n",
       "    <tr>\n",
       "      <th>gender_0</th>\n",
       "      <td>6.700921</td>\n",
       "    </tr>\n",
       "    <tr>\n",
       "      <th>service1_caller_time</th>\n",
       "      <td>6.536101</td>\n",
       "    </tr>\n",
       "    <tr>\n",
       "      <th>service2_caller_time</th>\n",
       "      <td>6.150038</td>\n",
       "    </tr>\n",
       "    <tr>\n",
       "      <th>local_caller_time</th>\n",
       "      <td>5.652817</td>\n",
       "    </tr>\n",
       "  </tbody>\n",
       "</table>\n",
       "</div>"
      ],
      "text/plain": [
       "                            Skew\n",
       "former_complaint_fee  683.112780\n",
       "pay_num                80.170307\n",
       "last_month_traffic     32.424503\n",
       "month_traffic           9.622002\n",
       "pay_times               8.277657\n",
       "former_complaint_num    6.718831\n",
       "gender_0                6.700921\n",
       "service1_caller_time    6.536101\n",
       "service2_caller_time    6.150038\n",
       "local_caller_time       5.652817"
      ]
     },
     "execution_count": 255,
     "metadata": {},
     "output_type": "execute_result"
    }
   ],
   "source": [
    "# 是否需要正态化，等数据对比\n",
    "numeric_feats = train_test.dtypes[train_test.dtypes != \"object\"].index\n",
    "\n",
    "# Check the skew of all numerical features\n",
    "skewed_feats = train_test[numeric_feats].apply(lambda x: skew(x.dropna())).sort_values(ascending=False)\n",
    "print(\"\\nSkew in numerical features: \\n\")\n",
    "skewness = pd.DataFrame({'Skew' :skewed_feats})\n",
    "skewness.head(10)"
   ]
  },
  {
   "cell_type": "markdown",
   "metadata": {},
   "source": [
    "skewness = skewness[abs(skewness) > 0.75]\n",
    "print(\"There are {} skewed numerical features to Box Cox transform\".format(skewness.shape[0]))\n",
    "\n",
    "from scipy.special import boxcox1p\n",
    "skewed_features = skewness.index\n",
    "lam = 0.15\n",
    "for feat in skewed_features:\n",
    "    #all_data[feat] += 1\n",
    "    train_test[feat] = boxcox1p(train_test[feat], lam)"
   ]
  },
  {
   "cell_type": "code",
   "execution_count": 256,
   "metadata": {},
   "outputs": [
    {
     "name": "stdout",
     "output_type": "stream",
     "text": [
      "(875217, 46)\n"
     ]
    }
   ],
   "source": [
    "#dummies_col = ['service_type', 'is_mix_service', 'many_over_bill', 'contract_type', 'is_promise_low_consume', 'net_service', 'complaint_level']\n",
    "\n",
    "train_test = pd.get_dummies(train_test, columns=['service_type', 'is_mix_service', 'many_over_bill', 'contract_type', 'is_promise_low_consume', 'net_service', 'complaint_level'])\n",
    "print(train_test.shape)"
   ]
  },
  {
   "cell_type": "code",
   "execution_count": 257,
   "metadata": {},
   "outputs": [],
   "source": [
    "#train['age'] = train['age'].replace('NA', np.nan)\n",
    "\n",
    "train['current_service'] = train['current_service'].replace(89016252, 1)\n",
    "train['current_service'] = train['current_service'].replace(89016253, 2)\n",
    "train['current_service'] = train['current_service'].replace(89016259, 3)\n",
    "train['current_service'] = train['current_service'].replace(89950166, 4)\n",
    "train['current_service'] = train['current_service'].replace(89950167, 5)\n",
    "train['current_service'] = train['current_service'].replace(89950168, 6)\n",
    "train['current_service'] = train['current_service'].replace(90063345, 7)\n",
    "train['current_service'] = train['current_service'].replace(90109916, 8)\n",
    "train['current_service'] = train['current_service'].replace(90155946, 9)\n",
    "train['current_service'] = train['current_service'].replace(99104722, 10)\n",
    "train['current_service'] = train['current_service'].replace(99999825, 11)\n",
    "train['current_service'] = train['current_service'].replace(99999826, 12)\n",
    "train['current_service'] = train['current_service'].replace(99999827, 13)\n",
    "train['current_service'] = train['current_service'].replace(99999828, 14)\n",
    "train['current_service'] = train['current_service'].replace(99999830, 15)"
   ]
  },
  {
   "cell_type": "code",
   "execution_count": 258,
   "metadata": {},
   "outputs": [],
   "source": [
    "train_test['2_total_fee'] = train_test['2_total_fee'].replace('\\\\N', 0)\n",
    "train_test['3_total_fee'] = train_test['3_total_fee'].replace('\\\\N', 0)\n",
    "train_test['age'] = train_test['age'].replace('\\\\N', 0)\n",
    "#train_test['gender'] = train_test['gender'].replace('\\\\N', 0)"
   ]
  },
  {
   "cell_type": "code",
   "execution_count": 259,
   "metadata": {},
   "outputs": [],
   "source": [
    "train_X = train_test[:ntrain]\n",
    "test_X = train_test[ntrain:]\n",
    "train_Y = train['current_service']"
   ]
  },
  {
   "cell_type": "code",
   "execution_count": 260,
   "metadata": {},
   "outputs": [
    {
     "name": "stdout",
     "output_type": "stream",
     "text": [
      "<class 'pandas.core.frame.DataFrame'>\n",
      "RangeIndex: 612652 entries, 0 to 612651\n",
      "Data columns (total 46 columns):\n",
      "1_total_fee                 612652 non-null float64\n",
      "2_total_fee                 612652 non-null object\n",
      "3_total_fee                 612652 non-null object\n",
      "4_total_fee                 612652 non-null float64\n",
      "age                         612652 non-null float64\n",
      "contract_time               612652 non-null int64\n",
      "former_complaint_fee        612652 non-null float64\n",
      "former_complaint_num        612652 non-null int64\n",
      "last_month_traffic          612652 non-null float64\n",
      "local_caller_time           612652 non-null float64\n",
      "local_trafffic_month        612652 non-null float64\n",
      "month_traffic               612652 non-null float64\n",
      "online_time                 612652 non-null int64\n",
      "pay_num                     612652 non-null float64\n",
      "pay_times                   612652 non-null int64\n",
      "service1_caller_time        612652 non-null float64\n",
      "service2_caller_time        612652 non-null float64\n",
      "gender_0                    612652 non-null float64\n",
      "gender_1                    612652 non-null float64\n",
      "gender_2                    612652 non-null float64\n",
      "service_type_1              612652 non-null uint8\n",
      "service_type_3              612652 non-null uint8\n",
      "service_type_4              612652 non-null uint8\n",
      "is_mix_service_0            612652 non-null uint8\n",
      "is_mix_service_1            612652 non-null uint8\n",
      "many_over_bill_0            612652 non-null uint8\n",
      "many_over_bill_1            612652 non-null uint8\n",
      "contract_type_0             612652 non-null uint8\n",
      "contract_type_1             612652 non-null uint8\n",
      "contract_type_12            612652 non-null uint8\n",
      "contract_type_2             612652 non-null uint8\n",
      "contract_type_3             612652 non-null uint8\n",
      "contract_type_6             612652 non-null uint8\n",
      "contract_type_7             612652 non-null uint8\n",
      "contract_type_8             612652 non-null uint8\n",
      "contract_type_9             612652 non-null uint8\n",
      "is_promise_low_consume_0    612652 non-null uint8\n",
      "is_promise_low_consume_1    612652 non-null uint8\n",
      "net_service_2               612652 non-null uint8\n",
      "net_service_3               612652 non-null uint8\n",
      "net_service_4               612652 non-null uint8\n",
      "net_service_9               612652 non-null uint8\n",
      "complaint_level_0           612652 non-null uint8\n",
      "complaint_level_1           612652 non-null uint8\n",
      "complaint_level_2           612652 non-null uint8\n",
      "complaint_level_3           612652 non-null uint8\n",
      "dtypes: float64(14), int64(4), object(2), uint8(26)\n",
      "memory usage: 108.7+ MB\n"
     ]
    }
   ],
   "source": [
    "train_X.info(verbose=True)"
   ]
  },
  {
   "cell_type": "code",
   "execution_count": 263,
   "metadata": {},
   "outputs": [
    {
     "data": {
      "text/html": [
       "<div>\n",
       "<style scoped>\n",
       "    .dataframe tbody tr th:only-of-type {\n",
       "        vertical-align: middle;\n",
       "    }\n",
       "\n",
       "    .dataframe tbody tr th {\n",
       "        vertical-align: top;\n",
       "    }\n",
       "\n",
       "    .dataframe thead th {\n",
       "        text-align: right;\n",
       "    }\n",
       "</style>\n",
       "<table border=\"1\" class=\"dataframe\">\n",
       "  <thead>\n",
       "    <tr style=\"text-align: right;\">\n",
       "      <th></th>\n",
       "      <th>1_total_fee</th>\n",
       "      <th>2_total_fee</th>\n",
       "      <th>3_total_fee</th>\n",
       "      <th>4_total_fee</th>\n",
       "      <th>age</th>\n",
       "      <th>contract_time</th>\n",
       "      <th>former_complaint_fee</th>\n",
       "      <th>former_complaint_num</th>\n",
       "      <th>last_month_traffic</th>\n",
       "      <th>local_caller_time</th>\n",
       "      <th>...</th>\n",
       "      <th>is_promise_low_consume_0</th>\n",
       "      <th>is_promise_low_consume_1</th>\n",
       "      <th>net_service_2</th>\n",
       "      <th>net_service_3</th>\n",
       "      <th>net_service_4</th>\n",
       "      <th>net_service_9</th>\n",
       "      <th>complaint_level_0</th>\n",
       "      <th>complaint_level_1</th>\n",
       "      <th>complaint_level_2</th>\n",
       "      <th>complaint_level_3</th>\n",
       "    </tr>\n",
       "  </thead>\n",
       "  <tbody>\n",
       "  </tbody>\n",
       "</table>\n",
       "<p>0 rows × 46 columns</p>\n",
       "</div>"
      ],
      "text/plain": [
       "Empty DataFrame\n",
       "Columns: [1_total_fee, 2_total_fee, 3_total_fee, 4_total_fee, age, contract_time, former_complaint_fee, former_complaint_num, last_month_traffic, local_caller_time, local_trafffic_month, month_traffic, online_time, pay_num, pay_times, service1_caller_time, service2_caller_time, gender_0, gender_1, gender_2, service_type_1, service_type_3, service_type_4, is_mix_service_0, is_mix_service_1, many_over_bill_0, many_over_bill_1, contract_type_0, contract_type_1, contract_type_12, contract_type_2, contract_type_3, contract_type_6, contract_type_7, contract_type_8, contract_type_9, is_promise_low_consume_0, is_promise_low_consume_1, net_service_2, net_service_3, net_service_4, net_service_9, complaint_level_0, complaint_level_1, complaint_level_2, complaint_level_3]\n",
       "Index: []\n",
       "\n",
       "[0 rows x 46 columns]"
      ]
     },
     "execution_count": 263,
     "metadata": {},
     "output_type": "execute_result"
    }
   ],
   "source": [
    "test_X[test_X['2_total_fee'] == '\\\\N']"
   ]
  },
  {
   "cell_type": "code",
   "execution_count": 262,
   "metadata": {},
   "outputs": [],
   "source": [
    "# 线性模型需要用标准化的数据建模\n",
    "\n",
    "from sklearn.preprocessing import RobustScaler\n",
    "ss2 = RobustScaler()\n",
    "ss2.fit(train_X)\n",
    "train_X_sd = ss2.transform(train_X)\n",
    "test_X_sd = ss2.transform(test_X)"
   ]
  },
  {
   "cell_type": "code",
   "execution_count": null,
   "metadata": {},
   "outputs": [],
   "source": []
  }
 ],
 "metadata": {
  "kernelspec": {
   "display_name": "Python 3",
   "language": "python",
   "name": "python3"
  },
  "language_info": {
   "codemirror_mode": {
    "name": "ipython",
    "version": 3
   },
   "file_extension": ".py",
   "mimetype": "text/x-python",
   "name": "python",
   "nbconvert_exporter": "python",
   "pygments_lexer": "ipython3",
   "version": "3.6.3"
  }
 },
 "nbformat": 4,
 "nbformat_minor": 2
}
